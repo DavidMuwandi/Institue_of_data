{
 "cells": [
  {
   "cell_type": "markdown",
   "metadata": {
    "colab_type": "text",
    "id": "XfnQYVMtJhQD"
   },
   "source": [
    "<div>\n",
    "<img src=https://www.institutedata.com/wp-content/uploads/2019/10/iod_h_tp_primary_c.svg width=\"300\">\n",
    "</div>\n"
   ]
  },
  {
   "cell_type": "markdown",
   "metadata": {
    "colab_type": "text",
    "id": "5dCt8XbjJhQG"
   },
   "source": [
    "# Lab 2.2.2 \n",
    "# *Mining Social Media with Twitter*"
   ]
  },
  {
   "cell_type": "markdown",
   "metadata": {
    "colab_type": "text",
    "id": "b5VfS9hhJhQI"
   },
   "source": [
    "## The Twitter API and Tweepy Package"
   ]
  },
  {
   "cell_type": "markdown",
   "metadata": {
    "colab_type": "text",
    "id": "lF2z-w5uJhQK"
   },
   "source": [
    "The Twitter API provides access to tweets and comments, and allows an application to post tweets to the user's timeline. \n",
    "\n",
    "Twitter requires developers to create and authenticate an app before they can use the API. As of recent policy changes, however, new developers must be approved before they can create an app. There is no indication of the waiting period for approval."
   ]
  },
  {
   "cell_type": "markdown",
   "metadata": {
    "colab_type": "text",
    "id": "M0wxJ8HNJhQM"
   },
   "source": [
    "### 1. Apply for Developer Access\n",
    "\n",
    "Go to https://blog.twitter.com/developer/en_us/topics/tools/2018/new-developer-requirements-to-protect-our-platform.html\n",
    "and read the advice.\n",
    "![image.png](attachment:image.png)"
   ]
  },
  {
   "cell_type": "markdown",
   "metadata": {
    "colab_type": "text",
    "id": "tICSKwL1JhQN"
   },
   "source": [
    "Apply at https://developer.twitter.com/en/apply-for-access.html\n",
    "![image.png](attachment:image.png)"
   ]
  },
  {
   "cell_type": "markdown",
   "metadata": {
    "colab_type": "text",
    "id": "M4-znQaaJhQP"
   },
   "source": [
    "Then go to https://developer.twitter.com/en/review every day until you see whatever comes after this: \n",
    "![image.png](attachment:image.png)"
   ]
  },
  {
   "cell_type": "markdown",
   "metadata": {
    "colab_type": "text",
    "id": "NMeZ70IZJhQR"
   },
   "source": [
    "### 2. Create Your Twitter App\n",
    "![image.png](attachment:image.png)"
   ]
  },
  {
   "cell_type": "markdown",
   "metadata": {
    "colab_type": "text",
    "id": "HpWMHz9NJhQS"
   },
   "source": [
    "### 3. Load Python Libraries"
   ]
  },
  {
   "cell_type": "code",
   "execution_count": null,
   "metadata": {},
   "outputs": [],
   "source": [
    "pip install tweepy"
   ]
  },
  {
   "cell_type": "code",
   "execution_count": 1,
   "metadata": {
    "colab": {},
    "colab_type": "code",
    "id": "16hb8EpNJhQU"
   },
   "outputs": [],
   "source": [
    "import tweepy\n",
    "import json\n",
    "import pprint"
   ]
  },
  {
   "cell_type": "markdown",
   "metadata": {
    "colab_type": "text",
    "id": "p7W0se6_JhQX"
   },
   "source": [
    "### 4. Authenticate from your Python script"
   ]
  },
  {
   "cell_type": "markdown",
   "metadata": {
    "colab_type": "text",
    "id": "mJfe55dVJhQY"
   },
   "source": [
    "You could assign your authentication details explicitly, as follows:"
   ]
  },
  {
   "cell_type": "markdown",
   "metadata": {
    "colab_type": "text",
    "id": "7LXwmSzOJhQe"
   },
   "source": [
    "A better way would be to store these details externally, so they are not displayed in the notebook:\n",
    "\n",
    "- create a file called \"auth_twitter.json\" in your \"notebooks\" directory, and save your credentials there in JSON format:\n",
    "\n",
    "`{   \"my_consumer_key\": \"your consumer key (string) goes in here\",` <br>\n",
    "&nbsp;&nbsp;&nbsp;&nbsp;&nbsp;&nbsp;&nbsp;&nbsp;` \"my_consumer_secret\": \"your consumer secret key (string) goes in here\",` <br>\n",
    "&nbsp;&nbsp;&nbsp;&nbsp;&nbsp;&nbsp;&nbsp;&nbsp;`\"your access token (string goes in here\",` <br>\n",
    "&nbsp;&nbsp;&nbsp;&nbsp;&nbsp;&nbsp;&nbsp;&nbsp;`\"my_access_token_secret\": \"your access token secret (string) goes in here\"` <br>\n",
    "`}`\n",
    "\n",
    "(Nb. Parsers are very fussy. Make sure each key:value pair has a comma after it except the last one!)  \n",
    "\n",
    "Use the following code to load the credentials:  "
   ]
  },
  {
   "cell_type": "code",
   "execution_count": 7,
   "metadata": {
    "colab": {},
    "colab_type": "code",
    "id": "kh2srKpzJhQh"
   },
   "outputs": [
    {
     "data": {
      "text/plain": [
       "'C:\\\\Users\\\\dmuwa\\\\OneDrive\\\\Documents\\\\1.IoD\\\\LABS\\\\module 2 - SQL_DataBases_API\\\\Labs-20210519T011125Z-001\\\\Labs\\\\Part 2'"
      ]
     },
     "execution_count": 7,
     "metadata": {},
     "output_type": "execute_result"
    }
   ],
   "source": [
    "pwd()  # make sure your working directory is where the file is"
   ]
  },
  {
   "cell_type": "code",
   "execution_count": 8,
   "metadata": {
    "colab": {},
    "colab_type": "code",
    "id": "uR8Vchz7JhQm"
   },
   "outputs": [],
   "source": [
    "path_auth = 'auth_twitter.json'\n",
    "auth = json.loads(open(path_auth).read())\n",
    "pp = pprint.PrettyPrinter(indent=4)\n",
    "# For debugging only:\n",
    "#pp.pprint(auth)\n",
    "\n",
    "my_consumer_key = auth['consumer_key']\n",
    "my_consumer_secret = auth['consumer_secret']\n",
    "my_access_token = auth['access_token']\n",
    "my_access_token_secret = auth['access_token_secret']"
   ]
  },
  {
   "cell_type": "markdown",
   "metadata": {
    "colab_type": "text",
    "id": "GPRmYZigJhQp"
   },
   "source": [
    "Security considerations: \n",
    "- this method only keeps your credentials invisible as long as nobody accesses this notebook while it's running on your computer \n",
    "- if you wanted another user to have access to the executable notebook without divulging your credentials you should set up an OAuth 2.0 workflow to let them obtain and apply their own API tokens when using your app\n",
    "- if you just want to share your analyses, you could use a separate script (which you don't share) to fetch the data and save it locally, then use a second notebook (with no API access) to load and analyse the locally stored data"
   ]
  },
  {
   "cell_type": "markdown",
   "metadata": {
    "colab_type": "text",
    "id": "Ln30k0pZJhQp"
   },
   "source": [
    "### 5. Exploring the API"
   ]
  },
  {
   "cell_type": "markdown",
   "metadata": {
    "colab_type": "text",
    "id": "6fsc0U1nJhQq"
   },
   "source": [
    "Here is how to connect to Twitter using the Tweepy library:"
   ]
  },
  {
   "cell_type": "code",
   "execution_count": 9,
   "metadata": {
    "colab": {},
    "colab_type": "code",
    "id": "-y_4GBx1JhQr"
   },
   "outputs": [],
   "source": [
    "auth = tweepy.OAuthHandler(my_consumer_key, my_consumer_secret)\n",
    "auth.set_access_token(my_access_token, my_access_token_secret)\n",
    "api = tweepy.API(auth)"
   ]
  },
  {
   "cell_type": "markdown",
   "metadata": {
    "colab_type": "text",
    "id": "wSKzR9LdJhQu"
   },
   "source": [
    "In the next cell, put the cursor after the '.' and hit the [tab] key to see the available members and methods in the response object:"
   ]
  },
  {
   "cell_type": "code",
   "execution_count": 16,
   "metadata": {
    "colab": {},
    "colab_type": "code",
    "id": "BfnAOR2bJhQv"
   },
   "outputs": [
    {
     "data": {
      "text/plain": [
       "{'id': 39476061,\n",
       " 'id_str': '39476061',\n",
       " 'name': 'Alvin Changamire',\n",
       " 'screen_name': 'TheChangamire',\n",
       " 'location': 'Auckland City, New Zealand',\n",
       " 'description': 'I drink a lot of beer mostly  crafty ones, \\nHop Head living downunder. \\n\\noh and I make beer too 😁🤣😎🍻🍻',\n",
       " 'url': None,\n",
       " 'entities': {'description': {'urls': []}},\n",
       " 'protected': False,\n",
       " 'followers_count': 120,\n",
       " 'friends_count': 350,\n",
       " 'listed_count': 4,\n",
       " 'created_at': 'Tue May 12 10:58:46 +0000 2009',\n",
       " 'favourites_count': 70,\n",
       " 'utc_offset': None,\n",
       " 'time_zone': None,\n",
       " 'geo_enabled': True,\n",
       " 'verified': False,\n",
       " 'statuses_count': 2442,\n",
       " 'lang': None,\n",
       " 'status': {'created_at': 'Tue May 18 10:51:39 +0000 2021',\n",
       "  'id': 1394606603014397953,\n",
       "  'id_str': '1394606603014397953',\n",
       "  'text': \"I just earned the 'Drink Like a Kiwi (Level 85)' badge on @untappd! https://t.co/OpB2DQ0rJg\",\n",
       "  'truncated': False,\n",
       "  'entities': {'hashtags': [],\n",
       "   'symbols': [],\n",
       "   'user_mentions': [{'screen_name': 'untappd',\n",
       "     'name': 'untappd',\n",
       "     'id': 147845476,\n",
       "     'id_str': '147845476',\n",
       "     'indices': [58, 66]}],\n",
       "   'urls': [{'url': 'https://t.co/OpB2DQ0rJg',\n",
       "     'expanded_url': 'https://untp.beer/s/b832176951',\n",
       "     'display_url': 'untp.beer/s/b832176951',\n",
       "     'indices': [68, 91]}]},\n",
       "  'source': '<a href=\"https://untappd.com\" rel=\"nofollow\">Untappd</a>',\n",
       "  'in_reply_to_status_id': None,\n",
       "  'in_reply_to_status_id_str': None,\n",
       "  'in_reply_to_user_id': None,\n",
       "  'in_reply_to_user_id_str': None,\n",
       "  'in_reply_to_screen_name': None,\n",
       "  'geo': None,\n",
       "  'coordinates': None,\n",
       "  'place': None,\n",
       "  'contributors': None,\n",
       "  'is_quote_status': False,\n",
       "  'retweet_count': 0,\n",
       "  'favorite_count': 0,\n",
       "  'favorited': False,\n",
       "  'retweeted': False,\n",
       "  'possibly_sensitive': False,\n",
       "  'lang': 'en'},\n",
       " 'contributors_enabled': False,\n",
       " 'is_translator': False,\n",
       " 'is_translation_enabled': False,\n",
       " 'profile_background_color': 'C0DEED',\n",
       " 'profile_background_image_url': 'http://abs.twimg.com/images/themes/theme1/bg.png',\n",
       " 'profile_background_image_url_https': 'https://abs.twimg.com/images/themes/theme1/bg.png',\n",
       " 'profile_background_tile': False,\n",
       " 'profile_image_url': 'http://pbs.twimg.com/profile_images/986510310893744130/gjzYQStt_normal.jpg',\n",
       " 'profile_image_url_https': 'https://pbs.twimg.com/profile_images/986510310893744130/gjzYQStt_normal.jpg',\n",
       " 'profile_banner_url': 'https://pbs.twimg.com/profile_banners/39476061/1467580373',\n",
       " 'profile_link_color': '1DA1F2',\n",
       " 'profile_sidebar_border_color': 'C0DEED',\n",
       " 'profile_sidebar_fill_color': 'DDEEF6',\n",
       " 'profile_text_color': '333333',\n",
       " 'profile_use_background_image': True,\n",
       " 'has_extended_profile': False,\n",
       " 'default_profile': True,\n",
       " 'default_profile_image': False,\n",
       " 'following': True,\n",
       " 'live_following': False,\n",
       " 'follow_request_sent': False,\n",
       " 'notifications': False,\n",
       " 'muting': False,\n",
       " 'blocking': False,\n",
       " 'blocked_by': False,\n",
       " 'translator_type': 'none',\n",
       " 'withheld_in_countries': []}"
      ]
     },
     "execution_count": 16,
     "metadata": {},
     "output_type": "execute_result"
    }
   ],
   "source": [
    "api.followers()[5]._json"
   ]
  },
  {
   "cell_type": "markdown",
   "metadata": {
    "colab_type": "text",
    "id": "DcJ-cc6zJhQz"
   },
   "source": [
    "Consult the Tweept and Twitter API documentation. Print a few of the response members below:"
   ]
  },
  {
   "cell_type": "code",
   "execution_count": 17,
   "metadata": {
    "colab": {},
    "colab_type": "code",
    "id": "W_IKqMAQJhQ1"
   },
   "outputs": [
    {
     "data": {
      "text/plain": [
       "[1139427828, 3150389456, 18631639, 193756312, 1444336832, 39476061, 45531123]"
      ]
     },
     "execution_count": 17,
     "metadata": {},
     "output_type": "execute_result"
    }
   ],
   "source": [
    "api.followers_ids()"
   ]
  },
  {
   "cell_type": "code",
   "execution_count": 25,
   "metadata": {},
   "outputs": [
    {
     "data": {
      "text/plain": [
       "User(_api=<tweepy.api.API object at 0x000001BD68F4E1F0>, _json={'id': 39476061, 'id_str': '39476061', 'name': 'Alvin Changamire', 'screen_name': 'TheChangamire', 'location': 'Auckland City, New Zealand', 'profile_location': None, 'description': 'I drink a lot of beer mostly  crafty ones, \\nHop Head living downunder. \\n\\noh and I make beer too 😁🤣😎🍻🍻', 'url': None, 'entities': {'description': {'urls': []}}, 'protected': False, 'followers_count': 120, 'friends_count': 350, 'listed_count': 4, 'created_at': 'Tue May 12 10:58:46 +0000 2009', 'favourites_count': 70, 'utc_offset': None, 'time_zone': None, 'geo_enabled': True, 'verified': False, 'statuses_count': 2442, 'lang': None, 'status': {'created_at': 'Tue May 18 10:51:39 +0000 2021', 'id': 1394606603014397953, 'id_str': '1394606603014397953', 'text': \"I just earned the 'Drink Like a Kiwi (Level 85)' badge on @untappd! https://t.co/OpB2DQ0rJg\", 'truncated': False, 'entities': {'hashtags': [], 'symbols': [], 'user_mentions': [{'screen_name': 'untappd', 'name': 'untappd', 'id': 147845476, 'id_str': '147845476', 'indices': [58, 66]}], 'urls': [{'url': 'https://t.co/OpB2DQ0rJg', 'expanded_url': 'https://untp.beer/s/b832176951', 'display_url': 'untp.beer/s/b832176951', 'indices': [68, 91]}]}, 'source': '<a href=\"https://untappd.com\" rel=\"nofollow\">Untappd</a>', 'in_reply_to_status_id': None, 'in_reply_to_status_id_str': None, 'in_reply_to_user_id': None, 'in_reply_to_user_id_str': None, 'in_reply_to_screen_name': None, 'geo': None, 'coordinates': None, 'place': None, 'contributors': None, 'is_quote_status': False, 'retweet_count': 0, 'favorite_count': 0, 'favorited': False, 'retweeted': False, 'possibly_sensitive': False, 'lang': 'en'}, 'contributors_enabled': False, 'is_translator': False, 'is_translation_enabled': False, 'profile_background_color': 'C0DEED', 'profile_background_image_url': 'http://abs.twimg.com/images/themes/theme1/bg.png', 'profile_background_image_url_https': 'https://abs.twimg.com/images/themes/theme1/bg.png', 'profile_background_tile': False, 'profile_image_url': 'http://pbs.twimg.com/profile_images/986510310893744130/gjzYQStt_normal.jpg', 'profile_image_url_https': 'https://pbs.twimg.com/profile_images/986510310893744130/gjzYQStt_normal.jpg', 'profile_banner_url': 'https://pbs.twimg.com/profile_banners/39476061/1467580373', 'profile_link_color': '1DA1F2', 'profile_sidebar_border_color': 'C0DEED', 'profile_sidebar_fill_color': 'DDEEF6', 'profile_text_color': '333333', 'profile_use_background_image': True, 'has_extended_profile': False, 'default_profile': True, 'default_profile_image': False, 'following': True, 'follow_request_sent': False, 'notifications': False, 'translator_type': 'none', 'withheld_in_countries': []}, id=39476061, id_str='39476061', name='Alvin Changamire', screen_name='TheChangamire', location='Auckland City, New Zealand', profile_location=None, description='I drink a lot of beer mostly  crafty ones, \\nHop Head living downunder. \\n\\noh and I make beer too 😁🤣😎🍻🍻', url=None, entities={'description': {'urls': []}}, protected=False, followers_count=120, friends_count=350, listed_count=4, created_at=datetime.datetime(2009, 5, 12, 10, 58, 46), favourites_count=70, utc_offset=None, time_zone=None, geo_enabled=True, verified=False, statuses_count=2442, lang=None, status=Status(_api=<tweepy.api.API object at 0x000001BD68F4E1F0>, _json={'created_at': 'Tue May 18 10:51:39 +0000 2021', 'id': 1394606603014397953, 'id_str': '1394606603014397953', 'text': \"I just earned the 'Drink Like a Kiwi (Level 85)' badge on @untappd! https://t.co/OpB2DQ0rJg\", 'truncated': False, 'entities': {'hashtags': [], 'symbols': [], 'user_mentions': [{'screen_name': 'untappd', 'name': 'untappd', 'id': 147845476, 'id_str': '147845476', 'indices': [58, 66]}], 'urls': [{'url': 'https://t.co/OpB2DQ0rJg', 'expanded_url': 'https://untp.beer/s/b832176951', 'display_url': 'untp.beer/s/b832176951', 'indices': [68, 91]}]}, 'source': '<a href=\"https://untappd.com\" rel=\"nofollow\">Untappd</a>', 'in_reply_to_status_id': None, 'in_reply_to_status_id_str': None, 'in_reply_to_user_id': None, 'in_reply_to_user_id_str': None, 'in_reply_to_screen_name': None, 'geo': None, 'coordinates': None, 'place': None, 'contributors': None, 'is_quote_status': False, 'retweet_count': 0, 'favorite_count': 0, 'favorited': False, 'retweeted': False, 'possibly_sensitive': False, 'lang': 'en'}, created_at=datetime.datetime(2021, 5, 18, 10, 51, 39), id=1394606603014397953, id_str='1394606603014397953', text=\"I just earned the 'Drink Like a Kiwi (Level 85)' badge on @untappd! https://t.co/OpB2DQ0rJg\", truncated=False, entities={'hashtags': [], 'symbols': [], 'user_mentions': [{'screen_name': 'untappd', 'name': 'untappd', 'id': 147845476, 'id_str': '147845476', 'indices': [58, 66]}], 'urls': [{'url': 'https://t.co/OpB2DQ0rJg', 'expanded_url': 'https://untp.beer/s/b832176951', 'display_url': 'untp.beer/s/b832176951', 'indices': [68, 91]}]}, source='Untappd', source_url='https://untappd.com', in_reply_to_status_id=None, in_reply_to_status_id_str=None, in_reply_to_user_id=None, in_reply_to_user_id_str=None, in_reply_to_screen_name=None, geo=None, coordinates=None, place=None, contributors=None, is_quote_status=False, retweet_count=0, favorite_count=0, favorited=False, retweeted=False, possibly_sensitive=False, lang='en'), contributors_enabled=False, is_translator=False, is_translation_enabled=False, profile_background_color='C0DEED', profile_background_image_url='http://abs.twimg.com/images/themes/theme1/bg.png', profile_background_image_url_https='https://abs.twimg.com/images/themes/theme1/bg.png', profile_background_tile=False, profile_image_url='http://pbs.twimg.com/profile_images/986510310893744130/gjzYQStt_normal.jpg', profile_image_url_https='https://pbs.twimg.com/profile_images/986510310893744130/gjzYQStt_normal.jpg', profile_banner_url='https://pbs.twimg.com/profile_banners/39476061/1467580373', profile_link_color='1DA1F2', profile_sidebar_border_color='C0DEED', profile_sidebar_fill_color='DDEEF6', profile_text_color='333333', profile_use_background_image=True, has_extended_profile=False, default_profile=True, default_profile_image=False, following=True, follow_request_sent=False, notifications=False, translator_type='none', withheld_in_countries=[])"
      ]
     },
     "execution_count": 25,
     "metadata": {},
     "output_type": "execute_result"
    }
   ],
   "source": [
    "# Retrieve a Twitter user object\n",
    "changa = api.get_user('TheChangamire')\n",
    "changa"
   ]
  },
  {
   "cell_type": "code",
   "execution_count": 26,
   "metadata": {},
   "outputs": [
    {
     "data": {
      "text/plain": [
       "Status(_api=<tweepy.api.API object at 0x000001BD68F4E1F0>, _json={'created_at': 'Tue May 18 10:51:39 +0000 2021', 'id': 1394606603014397953, 'id_str': '1394606603014397953', 'text': \"I just earned the 'Drink Like a Kiwi (Level 85)' badge on @untappd! https://t.co/OpB2DQ0rJg\", 'truncated': False, 'entities': {'hashtags': [], 'symbols': [], 'user_mentions': [{'screen_name': 'untappd', 'name': 'untappd', 'id': 147845476, 'id_str': '147845476', 'indices': [58, 66]}], 'urls': [{'url': 'https://t.co/OpB2DQ0rJg', 'expanded_url': 'https://untp.beer/s/b832176951', 'display_url': 'untp.beer/s/b832176951', 'indices': [68, 91]}]}, 'source': '<a href=\"https://untappd.com\" rel=\"nofollow\">Untappd</a>', 'in_reply_to_status_id': None, 'in_reply_to_status_id_str': None, 'in_reply_to_user_id': None, 'in_reply_to_user_id_str': None, 'in_reply_to_screen_name': None, 'geo': None, 'coordinates': None, 'place': None, 'contributors': None, 'is_quote_status': False, 'retweet_count': 0, 'favorite_count': 0, 'favorited': False, 'retweeted': False, 'possibly_sensitive': False, 'lang': 'en'}, created_at=datetime.datetime(2021, 5, 18, 10, 51, 39), id=1394606603014397953, id_str='1394606603014397953', text=\"I just earned the 'Drink Like a Kiwi (Level 85)' badge on @untappd! https://t.co/OpB2DQ0rJg\", truncated=False, entities={'hashtags': [], 'symbols': [], 'user_mentions': [{'screen_name': 'untappd', 'name': 'untappd', 'id': 147845476, 'id_str': '147845476', 'indices': [58, 66]}], 'urls': [{'url': 'https://t.co/OpB2DQ0rJg', 'expanded_url': 'https://untp.beer/s/b832176951', 'display_url': 'untp.beer/s/b832176951', 'indices': [68, 91]}]}, source='Untappd', source_url='https://untappd.com', in_reply_to_status_id=None, in_reply_to_status_id_str=None, in_reply_to_user_id=None, in_reply_to_user_id_str=None, in_reply_to_screen_name=None, geo=None, coordinates=None, place=None, contributors=None, is_quote_status=False, retweet_count=0, favorite_count=0, favorited=False, retweeted=False, possibly_sensitive=False, lang='en')"
      ]
     },
     "execution_count": 26,
     "metadata": {},
     "output_type": "execute_result"
    }
   ],
   "source": [
    "changa.status"
   ]
  },
  {
   "cell_type": "markdown",
   "metadata": {
    "colab_type": "text",
    "id": "dLkdLKjLJhQ3"
   },
   "source": [
    "This will fetch recent tweets from accounts you follow:"
   ]
  },
  {
   "cell_type": "code",
   "execution_count": 22,
   "metadata": {
    "colab": {},
    "colab_type": "code",
    "id": "l9y8t3X7JhQ4"
   },
   "outputs": [
    {
     "name": "stdout",
     "output_type": "stream",
     "text": [
      "Parisians tuck into coffee and croissants again as cafes re-open https://t.co/CyZVAjIr95 https://t.co/ecgJ2OPyy0\n",
      "RT @crisiscoalition: @amutambara Amendments Number 1 and 2 reveal attempts to consolidate dictatorship and rig the 2023 elections. It's unf…\n",
      "How to avoid the most costly college savings mistakes: https://t.co/uvA0pvJvia Via @ForbesAdvisor https://t.co/Ny4zPYB9Ft\n",
      "Elon Musk's new Tesla plant runs into Germany's 'bureaucratic hell' https://t.co/Iy32CWJbdF https://t.co/ZhyzCWpxYE\n",
      "Google has just started testing what it hopes will become the new standard to replace third-party cookies https://t.co/7k4XlrMBVd\n",
      "Bitcoin tumbles below $40,000 after China issues crypto warning https://t.co/99lv5mcSVE\n",
      "RT @ymalhi: So cool to see the Winchcombe Meteorite at the @NHM_London less than 3 months after it collided with Earth after a 5 thousand m…\n",
      "Bitcoin slides below $40,000 after China's fresh crypto curbs https://t.co/69fgoc6nld https://t.co/PmD1C5E7of\n",
      "The New York attorney general’s office said it has now opened a criminal investigation into former President Donald… https://t.co/aw5iTaz2S4\n",
      "Indian variant's transmissibility edge might be smaller than feared, UK expert says https://t.co/MBh0JrJDEX https://t.co/xGYLXNuOYQ\n",
      "Rebelling against the stigmatization of being a divorcee and a single mother in Iraq’s conservative society, Marwa… https://t.co/EgRYLskCvg\n",
      "From wrinkle-reducing retinol to skin-brightening vitamin C, anti-aging ingredients shouldn't have to come with a w… https://t.co/3VE7rvS1Gn\n",
      "Taiwan raises COVID alert islandwide, but gets vaccine boost https://t.co/MiXTicrdHL https://t.co/gTBMt2Hl91\n",
      "Aviation is in crisis as a result of covid-19. But technology could deliver a greener future https://t.co/0YGth9f1yA https://t.co/ygkPKUJfMH\n",
      "Here are the #BestPlacestoRetire https://t.co/bFBBEeVShc https://t.co/ghqtkx433v\n",
      "Explainer: What Beijing's new crackdown means for crypto in China https://t.co/ptjgdCoKAL https://t.co/MkGoaORsTw\n",
      "Britain's efforts to forge foreign policy outside the EU demonstrate the difficult balancing act required in reconc… https://t.co/rXrVwMtw5h\n",
      "A collection of sports cards, including a Babe Ruth card, could knock the standing world record out of the park whe… https://t.co/XYCxqext4k\n",
      "More than 70% of white-collar workers in the U.S. are still working remotely, according to a new poll… https://t.co/E5HVPS6atq\n",
      "Here are the most successful excuses for getting out of a speeding ticket: https://t.co/Hv2rWKQLAw https://t.co/EhbA05vSDS\n"
     ]
    }
   ],
   "source": [
    "# Recent tweets from accounts you follow:\n",
    "tweets = api.home_timeline()\n",
    "for tweet in tweets:\n",
    "    print(tweet.text)"
   ]
  },
  {
   "cell_type": "code",
   "execution_count": null,
   "metadata": {},
   "outputs": [],
   "source": []
  },
  {
   "cell_type": "markdown",
   "metadata": {
    "colab_type": "text",
    "id": "k2NpPlOIJhQ6"
   },
   "source": [
    "The request to see your own recent tweets is similar, but uses the `user_timeline` endpoint. Try this below:"
   ]
  },
  {
   "cell_type": "code",
   "execution_count": 27,
   "metadata": {
    "colab": {},
    "colab_type": "code",
    "id": "QMlhdx5NJhQ6"
   },
   "outputs": [
    {
     "name": "stdout",
     "output_type": "stream",
     "text": [
      "http://t.co/buZVhMvivZ @kudamutamba\n",
      "http://t.co/VnbWso3pf6 @shamielaine\n",
      "http://t.co/G5Qx0Cpl16 @vajnrchangamire\n",
      "http://t.co/hQVmvTzuYo @scnyandzeny\n",
      "http://t.co/2bfo3C865J @nstanleyz\n",
      "Played 500 hands http://t.co/7WYsYaO2FH #CelebPoker #poker\n",
      "Sent a gift to one of my fellow players http://t.co/7WYsYaO2FH #CelebPoker #poker\n",
      "Won 100 poker hands http://t.co/7WYsYaO2FH #CelebPoker #poker\n",
      "Won 50k chips at Poker http://t.co/7WYsYaO2FH #CelebPoker #poker\n",
      "Won 3 hands in a row in a poker game http://t.co/7WYsYaO2FH #CelebPoker #poker\n",
      "Won 5 hands after going All-in http://t.co/7WYsYaO2FH #CelebPoker #poker\n",
      "Played 10 hands http://t.co/7WYsYaO2FH #CelebPoker #poker\n",
      "Won 5 poker hands http://t.co/7WYsYaO2FH #CelebPoker #poker\n",
      "Won 3 hands after going All-in http://t.co/7WYsYaO2FH #CelebPoker #poker\n",
      "Won 10 hands after going All-in http://t.co/7WYsYaO2FH #CelebPoker #poker\n",
      "Found 10 poker buddies http://t.co/7WYsYaO2FH #CelebPoker #poker\n",
      "Participated in 7 tournaments http://t.co/7WYsYaO2FH #CelebPoker #poker\n",
      "Played 100 hands http://t.co/7WYsYaO2FH #CelebPoker #poker\n",
      "Hi guys, you absolutely must join me in this cool game, Celeb Poker:\n",
      "        http://t.co/7WYsYaO2FH ! #Android #AndroidGames #CelebPoker\n",
      "Will Mozambique end up like Nigeria or Norway?\n",
      "\n",
      "http://t.co/KcmDsvIybw\n"
     ]
    }
   ],
   "source": [
    "#ANSWER:\n",
    "# Your recent tweets:\n",
    "tweets = api.user_timeline()\n",
    "for tweet in tweets:\n",
    "    print(tweet.text)"
   ]
  },
  {
   "cell_type": "markdown",
   "metadata": {
    "colab_type": "text",
    "id": "qY7oM-lJJhQ8"
   },
   "source": [
    "Now, instead of printing the text of each tweet, print the `created_at` and `id_str` methods:"
   ]
  },
  {
   "cell_type": "code",
   "execution_count": 29,
   "metadata": {
    "colab": {},
    "colab_type": "code",
    "id": "aUOlNdG8JhQ9"
   },
   "outputs": [
    {
     "name": "stdout",
     "output_type": "stream",
     "text": [
      "2015-09-09 22:27:41\n",
      "641739779638489090\n",
      "http://t.co/buZVhMvivZ @kudamutamba\n",
      "2015-09-09 22:27:13\n",
      "641739664378974208\n",
      "http://t.co/VnbWso3pf6 @shamielaine\n",
      "2015-09-09 22:27:11\n",
      "641739654421684229\n",
      "http://t.co/G5Qx0Cpl16 @vajnrchangamire\n",
      "2015-09-09 22:27:08\n",
      "641739642413404161\n",
      "http://t.co/hQVmvTzuYo @scnyandzeny\n",
      "2015-09-09 22:27:03\n",
      "641739621211197440\n",
      "http://t.co/2bfo3C865J @nstanleyz\n",
      "2013-06-07 15:10:14\n",
      "343022091051859969\n",
      "Played 500 hands http://t.co/7WYsYaO2FH #CelebPoker #poker\n",
      "2013-06-04 20:00:07\n",
      "342007881660506113\n",
      "Sent a gift to one of my fellow players http://t.co/7WYsYaO2FH #CelebPoker #poker\n",
      "2013-06-04 19:02:18\n",
      "341993332047749120\n",
      "Won 100 poker hands http://t.co/7WYsYaO2FH #CelebPoker #poker\n",
      "2013-05-30 17:17:52\n",
      "340155109642235904\n",
      "Won 50k chips at Poker http://t.co/7WYsYaO2FH #CelebPoker #poker\n",
      "2013-05-30 17:09:55\n",
      "340153109491879936\n",
      "Won 3 hands in a row in a poker game http://t.co/7WYsYaO2FH #CelebPoker #poker\n",
      "2013-05-30 17:08:23\n",
      "340152722072424449\n",
      "Won 5 hands after going All-in http://t.co/7WYsYaO2FH #CelebPoker #poker\n",
      "2013-05-30 17:07:33\n",
      "340152514211102720\n",
      "Played 10 hands http://t.co/7WYsYaO2FH #CelebPoker #poker\n",
      "2013-05-30 16:58:55\n",
      "340150341129613312\n",
      "Won 5 poker hands http://t.co/7WYsYaO2FH #CelebPoker #poker\n",
      "2013-05-30 16:55:39\n",
      "340149518597230593\n",
      "Won 3 hands after going All-in http://t.co/7WYsYaO2FH #CelebPoker #poker\n",
      "2013-05-28 18:32:19\n",
      "339449071448244224\n",
      "Won 10 hands after going All-in http://t.co/7WYsYaO2FH #CelebPoker #poker\n",
      "2013-05-27 16:21:34\n",
      "339053778324037633\n",
      "Found 10 poker buddies http://t.co/7WYsYaO2FH #CelebPoker #poker\n",
      "2013-05-26 15:43:17\n",
      "338681753663320064\n",
      "Participated in 7 tournaments http://t.co/7WYsYaO2FH #CelebPoker #poker\n",
      "2013-05-25 19:22:59\n",
      "338374656945954816\n",
      "Played 100 hands http://t.co/7WYsYaO2FH #CelebPoker #poker\n",
      "2013-05-25 19:20:21\n",
      "338373995869122561\n",
      "Hi guys, you absolutely must join me in this cool game, Celeb Poker:\n",
      "        http://t.co/7WYsYaO2FH ! #Android #AndroidGames #CelebPoker\n",
      "2013-04-04 14:00:58\n",
      "319811838453882880\n",
      "Will Mozambique end up like Nigeria or Norway?\n",
      "\n",
      "http://t.co/KcmDsvIybw\n"
     ]
    }
   ],
   "source": [
    "# tweets header info\n",
    "tweets = api.user_timeline()\n",
    "for tweet in tweets:\n",
    "    print(tweet.created_at)\n",
    "    print(tweet.id_str)\n",
    "    print(tweet.text)"
   ]
  },
  {
   "cell_type": "code",
   "execution_count": 30,
   "metadata": {},
   "outputs": [],
   "source": [
    "tweet_list = []\n",
    "for tweet in tweets:\n",
    "    tweet_list.append(tweet._json)"
   ]
  },
  {
   "cell_type": "code",
   "execution_count": 32,
   "metadata": {},
   "outputs": [],
   "source": [
    "import pandas as pd\n",
    "import matplotlib.pyplot as plt"
   ]
  },
  {
   "cell_type": "code",
   "execution_count": 34,
   "metadata": {
    "tags": []
   },
   "outputs": [
    {
     "data": {
      "text/html": [
       "<div>\n",
       "<style scoped>\n",
       "    .dataframe tbody tr th:only-of-type {\n",
       "        vertical-align: middle;\n",
       "    }\n",
       "\n",
       "    .dataframe tbody tr th {\n",
       "        vertical-align: top;\n",
       "    }\n",
       "\n",
       "    .dataframe thead th {\n",
       "        text-align: right;\n",
       "    }\n",
       "</style>\n",
       "<table border=\"1\" class=\"dataframe\">\n",
       "  <thead>\n",
       "    <tr style=\"text-align: right;\">\n",
       "      <th></th>\n",
       "      <th>created_at</th>\n",
       "      <th>id</th>\n",
       "      <th>id_str</th>\n",
       "      <th>text</th>\n",
       "      <th>truncated</th>\n",
       "      <th>entities</th>\n",
       "      <th>source</th>\n",
       "      <th>in_reply_to_status_id</th>\n",
       "      <th>in_reply_to_status_id_str</th>\n",
       "      <th>in_reply_to_user_id</th>\n",
       "      <th>...</th>\n",
       "      <th>coordinates</th>\n",
       "      <th>place</th>\n",
       "      <th>contributors</th>\n",
       "      <th>is_quote_status</th>\n",
       "      <th>retweet_count</th>\n",
       "      <th>favorite_count</th>\n",
       "      <th>favorited</th>\n",
       "      <th>retweeted</th>\n",
       "      <th>possibly_sensitive</th>\n",
       "      <th>lang</th>\n",
       "    </tr>\n",
       "  </thead>\n",
       "  <tbody>\n",
       "    <tr>\n",
       "      <th>0</th>\n",
       "      <td>Wed Sep 09 22:27:41 +0000 2015</td>\n",
       "      <td>641739779638489090</td>\n",
       "      <td>641739779638489090</td>\n",
       "      <td>http://t.co/buZVhMvivZ @kudamutamba</td>\n",
       "      <td>False</td>\n",
       "      <td>{'hashtags': [], 'symbols': [], 'user_mentions...</td>\n",
       "      <td>&lt;a href=\"http://twitter.com\" rel=\"nofollow\"&gt;Tw...</td>\n",
       "      <td>None</td>\n",
       "      <td>None</td>\n",
       "      <td>None</td>\n",
       "      <td>...</td>\n",
       "      <td>None</td>\n",
       "      <td>None</td>\n",
       "      <td>None</td>\n",
       "      <td>False</td>\n",
       "      <td>1</td>\n",
       "      <td>1</td>\n",
       "      <td>False</td>\n",
       "      <td>False</td>\n",
       "      <td>False</td>\n",
       "      <td>und</td>\n",
       "    </tr>\n",
       "    <tr>\n",
       "      <th>1</th>\n",
       "      <td>Wed Sep 09 22:27:13 +0000 2015</td>\n",
       "      <td>641739664378974208</td>\n",
       "      <td>641739664378974208</td>\n",
       "      <td>http://t.co/VnbWso3pf6 @shamielaine</td>\n",
       "      <td>False</td>\n",
       "      <td>{'hashtags': [], 'symbols': [], 'user_mentions...</td>\n",
       "      <td>&lt;a href=\"http://twitter.com\" rel=\"nofollow\"&gt;Tw...</td>\n",
       "      <td>None</td>\n",
       "      <td>None</td>\n",
       "      <td>None</td>\n",
       "      <td>...</td>\n",
       "      <td>None</td>\n",
       "      <td>None</td>\n",
       "      <td>None</td>\n",
       "      <td>False</td>\n",
       "      <td>1</td>\n",
       "      <td>1</td>\n",
       "      <td>False</td>\n",
       "      <td>False</td>\n",
       "      <td>False</td>\n",
       "      <td>und</td>\n",
       "    </tr>\n",
       "    <tr>\n",
       "      <th>2</th>\n",
       "      <td>Wed Sep 09 22:27:11 +0000 2015</td>\n",
       "      <td>641739654421684229</td>\n",
       "      <td>641739654421684229</td>\n",
       "      <td>http://t.co/G5Qx0Cpl16 @vajnrchangamire</td>\n",
       "      <td>False</td>\n",
       "      <td>{'hashtags': [], 'symbols': [], 'user_mentions...</td>\n",
       "      <td>&lt;a href=\"http://twitter.com\" rel=\"nofollow\"&gt;Tw...</td>\n",
       "      <td>None</td>\n",
       "      <td>None</td>\n",
       "      <td>None</td>\n",
       "      <td>...</td>\n",
       "      <td>None</td>\n",
       "      <td>None</td>\n",
       "      <td>None</td>\n",
       "      <td>False</td>\n",
       "      <td>0</td>\n",
       "      <td>0</td>\n",
       "      <td>False</td>\n",
       "      <td>False</td>\n",
       "      <td>False</td>\n",
       "      <td>und</td>\n",
       "    </tr>\n",
       "    <tr>\n",
       "      <th>3</th>\n",
       "      <td>Wed Sep 09 22:27:08 +0000 2015</td>\n",
       "      <td>641739642413404161</td>\n",
       "      <td>641739642413404161</td>\n",
       "      <td>http://t.co/hQVmvTzuYo @scnyandzeny</td>\n",
       "      <td>False</td>\n",
       "      <td>{'hashtags': [], 'symbols': [], 'user_mentions...</td>\n",
       "      <td>&lt;a href=\"http://twitter.com\" rel=\"nofollow\"&gt;Tw...</td>\n",
       "      <td>None</td>\n",
       "      <td>None</td>\n",
       "      <td>None</td>\n",
       "      <td>...</td>\n",
       "      <td>None</td>\n",
       "      <td>None</td>\n",
       "      <td>None</td>\n",
       "      <td>False</td>\n",
       "      <td>0</td>\n",
       "      <td>0</td>\n",
       "      <td>False</td>\n",
       "      <td>False</td>\n",
       "      <td>False</td>\n",
       "      <td>und</td>\n",
       "    </tr>\n",
       "    <tr>\n",
       "      <th>4</th>\n",
       "      <td>Wed Sep 09 22:27:03 +0000 2015</td>\n",
       "      <td>641739621211197440</td>\n",
       "      <td>641739621211197440</td>\n",
       "      <td>http://t.co/2bfo3C865J @nstanleyz</td>\n",
       "      <td>False</td>\n",
       "      <td>{'hashtags': [], 'symbols': [], 'user_mentions...</td>\n",
       "      <td>&lt;a href=\"http://twitter.com\" rel=\"nofollow\"&gt;Tw...</td>\n",
       "      <td>None</td>\n",
       "      <td>None</td>\n",
       "      <td>None</td>\n",
       "      <td>...</td>\n",
       "      <td>None</td>\n",
       "      <td>None</td>\n",
       "      <td>None</td>\n",
       "      <td>False</td>\n",
       "      <td>0</td>\n",
       "      <td>0</td>\n",
       "      <td>False</td>\n",
       "      <td>False</td>\n",
       "      <td>False</td>\n",
       "      <td>und</td>\n",
       "    </tr>\n",
       "    <tr>\n",
       "      <th>5</th>\n",
       "      <td>Fri Jun 07 15:10:14 +0000 2013</td>\n",
       "      <td>343022091051859969</td>\n",
       "      <td>343022091051859969</td>\n",
       "      <td>Played 500 hands http://t.co/7WYsYaO2FH #Celeb...</td>\n",
       "      <td>False</td>\n",
       "      <td>{'hashtags': [{'text': 'CelebPoker', 'indices'...</td>\n",
       "      <td>&lt;a href=\"https://www.facebook.com/viadenpoker\"...</td>\n",
       "      <td>None</td>\n",
       "      <td>None</td>\n",
       "      <td>None</td>\n",
       "      <td>...</td>\n",
       "      <td>None</td>\n",
       "      <td>None</td>\n",
       "      <td>None</td>\n",
       "      <td>False</td>\n",
       "      <td>0</td>\n",
       "      <td>0</td>\n",
       "      <td>False</td>\n",
       "      <td>False</td>\n",
       "      <td>False</td>\n",
       "      <td>en</td>\n",
       "    </tr>\n",
       "    <tr>\n",
       "      <th>6</th>\n",
       "      <td>Tue Jun 04 20:00:07 +0000 2013</td>\n",
       "      <td>342007881660506113</td>\n",
       "      <td>342007881660506113</td>\n",
       "      <td>Sent a gift to one of my fellow players http:/...</td>\n",
       "      <td>False</td>\n",
       "      <td>{'hashtags': [{'text': 'CelebPoker', 'indices'...</td>\n",
       "      <td>&lt;a href=\"https://www.facebook.com/viadenpoker\"...</td>\n",
       "      <td>None</td>\n",
       "      <td>None</td>\n",
       "      <td>None</td>\n",
       "      <td>...</td>\n",
       "      <td>None</td>\n",
       "      <td>None</td>\n",
       "      <td>None</td>\n",
       "      <td>False</td>\n",
       "      <td>0</td>\n",
       "      <td>0</td>\n",
       "      <td>False</td>\n",
       "      <td>False</td>\n",
       "      <td>False</td>\n",
       "      <td>en</td>\n",
       "    </tr>\n",
       "    <tr>\n",
       "      <th>7</th>\n",
       "      <td>Tue Jun 04 19:02:18 +0000 2013</td>\n",
       "      <td>341993332047749120</td>\n",
       "      <td>341993332047749120</td>\n",
       "      <td>Won 100 poker hands http://t.co/7WYsYaO2FH #Ce...</td>\n",
       "      <td>False</td>\n",
       "      <td>{'hashtags': [{'text': 'CelebPoker', 'indices'...</td>\n",
       "      <td>&lt;a href=\"https://www.facebook.com/viadenpoker\"...</td>\n",
       "      <td>None</td>\n",
       "      <td>None</td>\n",
       "      <td>None</td>\n",
       "      <td>...</td>\n",
       "      <td>None</td>\n",
       "      <td>None</td>\n",
       "      <td>None</td>\n",
       "      <td>False</td>\n",
       "      <td>0</td>\n",
       "      <td>0</td>\n",
       "      <td>False</td>\n",
       "      <td>False</td>\n",
       "      <td>False</td>\n",
       "      <td>en</td>\n",
       "    </tr>\n",
       "    <tr>\n",
       "      <th>8</th>\n",
       "      <td>Thu May 30 17:17:52 +0000 2013</td>\n",
       "      <td>340155109642235904</td>\n",
       "      <td>340155109642235904</td>\n",
       "      <td>Won 50k chips at Poker http://t.co/7WYsYaO2FH ...</td>\n",
       "      <td>False</td>\n",
       "      <td>{'hashtags': [{'text': 'CelebPoker', 'indices'...</td>\n",
       "      <td>&lt;a href=\"https://www.facebook.com/viadenpoker\"...</td>\n",
       "      <td>None</td>\n",
       "      <td>None</td>\n",
       "      <td>None</td>\n",
       "      <td>...</td>\n",
       "      <td>None</td>\n",
       "      <td>None</td>\n",
       "      <td>None</td>\n",
       "      <td>False</td>\n",
       "      <td>0</td>\n",
       "      <td>0</td>\n",
       "      <td>False</td>\n",
       "      <td>False</td>\n",
       "      <td>False</td>\n",
       "      <td>en</td>\n",
       "    </tr>\n",
       "    <tr>\n",
       "      <th>9</th>\n",
       "      <td>Thu May 30 17:09:55 +0000 2013</td>\n",
       "      <td>340153109491879936</td>\n",
       "      <td>340153109491879936</td>\n",
       "      <td>Won 3 hands in a row in a poker game http://t....</td>\n",
       "      <td>False</td>\n",
       "      <td>{'hashtags': [{'text': 'CelebPoker', 'indices'...</td>\n",
       "      <td>&lt;a href=\"https://www.facebook.com/viadenpoker\"...</td>\n",
       "      <td>None</td>\n",
       "      <td>None</td>\n",
       "      <td>None</td>\n",
       "      <td>...</td>\n",
       "      <td>None</td>\n",
       "      <td>None</td>\n",
       "      <td>None</td>\n",
       "      <td>False</td>\n",
       "      <td>0</td>\n",
       "      <td>0</td>\n",
       "      <td>False</td>\n",
       "      <td>False</td>\n",
       "      <td>False</td>\n",
       "      <td>en</td>\n",
       "    </tr>\n",
       "    <tr>\n",
       "      <th>10</th>\n",
       "      <td>Thu May 30 17:08:23 +0000 2013</td>\n",
       "      <td>340152722072424449</td>\n",
       "      <td>340152722072424449</td>\n",
       "      <td>Won 5 hands after going All-in http://t.co/7WY...</td>\n",
       "      <td>False</td>\n",
       "      <td>{'hashtags': [{'text': 'CelebPoker', 'indices'...</td>\n",
       "      <td>&lt;a href=\"https://www.facebook.com/viadenpoker\"...</td>\n",
       "      <td>None</td>\n",
       "      <td>None</td>\n",
       "      <td>None</td>\n",
       "      <td>...</td>\n",
       "      <td>None</td>\n",
       "      <td>None</td>\n",
       "      <td>None</td>\n",
       "      <td>False</td>\n",
       "      <td>0</td>\n",
       "      <td>0</td>\n",
       "      <td>False</td>\n",
       "      <td>False</td>\n",
       "      <td>False</td>\n",
       "      <td>en</td>\n",
       "    </tr>\n",
       "    <tr>\n",
       "      <th>11</th>\n",
       "      <td>Thu May 30 17:07:33 +0000 2013</td>\n",
       "      <td>340152514211102720</td>\n",
       "      <td>340152514211102720</td>\n",
       "      <td>Played 10 hands http://t.co/7WYsYaO2FH #CelebP...</td>\n",
       "      <td>False</td>\n",
       "      <td>{'hashtags': [{'text': 'CelebPoker', 'indices'...</td>\n",
       "      <td>&lt;a href=\"https://www.facebook.com/viadenpoker\"...</td>\n",
       "      <td>None</td>\n",
       "      <td>None</td>\n",
       "      <td>None</td>\n",
       "      <td>...</td>\n",
       "      <td>None</td>\n",
       "      <td>None</td>\n",
       "      <td>None</td>\n",
       "      <td>False</td>\n",
       "      <td>0</td>\n",
       "      <td>0</td>\n",
       "      <td>False</td>\n",
       "      <td>False</td>\n",
       "      <td>False</td>\n",
       "      <td>en</td>\n",
       "    </tr>\n",
       "    <tr>\n",
       "      <th>12</th>\n",
       "      <td>Thu May 30 16:58:55 +0000 2013</td>\n",
       "      <td>340150341129613312</td>\n",
       "      <td>340150341129613312</td>\n",
       "      <td>Won 5 poker hands http://t.co/7WYsYaO2FH #Cele...</td>\n",
       "      <td>False</td>\n",
       "      <td>{'hashtags': [{'text': 'CelebPoker', 'indices'...</td>\n",
       "      <td>&lt;a href=\"https://www.facebook.com/viadenpoker\"...</td>\n",
       "      <td>None</td>\n",
       "      <td>None</td>\n",
       "      <td>None</td>\n",
       "      <td>...</td>\n",
       "      <td>None</td>\n",
       "      <td>None</td>\n",
       "      <td>None</td>\n",
       "      <td>False</td>\n",
       "      <td>0</td>\n",
       "      <td>0</td>\n",
       "      <td>False</td>\n",
       "      <td>False</td>\n",
       "      <td>False</td>\n",
       "      <td>en</td>\n",
       "    </tr>\n",
       "    <tr>\n",
       "      <th>13</th>\n",
       "      <td>Thu May 30 16:55:39 +0000 2013</td>\n",
       "      <td>340149518597230593</td>\n",
       "      <td>340149518597230593</td>\n",
       "      <td>Won 3 hands after going All-in http://t.co/7WY...</td>\n",
       "      <td>False</td>\n",
       "      <td>{'hashtags': [{'text': 'CelebPoker', 'indices'...</td>\n",
       "      <td>&lt;a href=\"https://www.facebook.com/viadenpoker\"...</td>\n",
       "      <td>None</td>\n",
       "      <td>None</td>\n",
       "      <td>None</td>\n",
       "      <td>...</td>\n",
       "      <td>None</td>\n",
       "      <td>None</td>\n",
       "      <td>None</td>\n",
       "      <td>False</td>\n",
       "      <td>0</td>\n",
       "      <td>0</td>\n",
       "      <td>False</td>\n",
       "      <td>False</td>\n",
       "      <td>False</td>\n",
       "      <td>en</td>\n",
       "    </tr>\n",
       "    <tr>\n",
       "      <th>14</th>\n",
       "      <td>Tue May 28 18:32:19 +0000 2013</td>\n",
       "      <td>339449071448244224</td>\n",
       "      <td>339449071448244224</td>\n",
       "      <td>Won 10 hands after going All-in http://t.co/7W...</td>\n",
       "      <td>False</td>\n",
       "      <td>{'hashtags': [{'text': 'CelebPoker', 'indices'...</td>\n",
       "      <td>&lt;a href=\"https://www.facebook.com/viadenpoker\"...</td>\n",
       "      <td>None</td>\n",
       "      <td>None</td>\n",
       "      <td>None</td>\n",
       "      <td>...</td>\n",
       "      <td>None</td>\n",
       "      <td>None</td>\n",
       "      <td>None</td>\n",
       "      <td>False</td>\n",
       "      <td>0</td>\n",
       "      <td>0</td>\n",
       "      <td>False</td>\n",
       "      <td>False</td>\n",
       "      <td>False</td>\n",
       "      <td>en</td>\n",
       "    </tr>\n",
       "    <tr>\n",
       "      <th>15</th>\n",
       "      <td>Mon May 27 16:21:34 +0000 2013</td>\n",
       "      <td>339053778324037633</td>\n",
       "      <td>339053778324037633</td>\n",
       "      <td>Found 10 poker buddies http://t.co/7WYsYaO2FH ...</td>\n",
       "      <td>False</td>\n",
       "      <td>{'hashtags': [{'text': 'CelebPoker', 'indices'...</td>\n",
       "      <td>&lt;a href=\"https://www.facebook.com/viadenpoker\"...</td>\n",
       "      <td>None</td>\n",
       "      <td>None</td>\n",
       "      <td>None</td>\n",
       "      <td>...</td>\n",
       "      <td>None</td>\n",
       "      <td>None</td>\n",
       "      <td>None</td>\n",
       "      <td>False</td>\n",
       "      <td>0</td>\n",
       "      <td>0</td>\n",
       "      <td>False</td>\n",
       "      <td>False</td>\n",
       "      <td>False</td>\n",
       "      <td>en</td>\n",
       "    </tr>\n",
       "    <tr>\n",
       "      <th>16</th>\n",
       "      <td>Sun May 26 15:43:17 +0000 2013</td>\n",
       "      <td>338681753663320064</td>\n",
       "      <td>338681753663320064</td>\n",
       "      <td>Participated in 7 tournaments http://t.co/7WYs...</td>\n",
       "      <td>False</td>\n",
       "      <td>{'hashtags': [{'text': 'CelebPoker', 'indices'...</td>\n",
       "      <td>&lt;a href=\"https://www.facebook.com/viadenpoker\"...</td>\n",
       "      <td>None</td>\n",
       "      <td>None</td>\n",
       "      <td>None</td>\n",
       "      <td>...</td>\n",
       "      <td>None</td>\n",
       "      <td>None</td>\n",
       "      <td>None</td>\n",
       "      <td>False</td>\n",
       "      <td>0</td>\n",
       "      <td>0</td>\n",
       "      <td>False</td>\n",
       "      <td>False</td>\n",
       "      <td>False</td>\n",
       "      <td>en</td>\n",
       "    </tr>\n",
       "    <tr>\n",
       "      <th>17</th>\n",
       "      <td>Sat May 25 19:22:59 +0000 2013</td>\n",
       "      <td>338374656945954816</td>\n",
       "      <td>338374656945954816</td>\n",
       "      <td>Played 100 hands http://t.co/7WYsYaO2FH #Celeb...</td>\n",
       "      <td>False</td>\n",
       "      <td>{'hashtags': [{'text': 'CelebPoker', 'indices'...</td>\n",
       "      <td>&lt;a href=\"https://www.facebook.com/viadenpoker\"...</td>\n",
       "      <td>None</td>\n",
       "      <td>None</td>\n",
       "      <td>None</td>\n",
       "      <td>...</td>\n",
       "      <td>None</td>\n",
       "      <td>None</td>\n",
       "      <td>None</td>\n",
       "      <td>False</td>\n",
       "      <td>0</td>\n",
       "      <td>0</td>\n",
       "      <td>False</td>\n",
       "      <td>False</td>\n",
       "      <td>False</td>\n",
       "      <td>en</td>\n",
       "    </tr>\n",
       "    <tr>\n",
       "      <th>18</th>\n",
       "      <td>Sat May 25 19:20:21 +0000 2013</td>\n",
       "      <td>338373995869122561</td>\n",
       "      <td>338373995869122561</td>\n",
       "      <td>Hi guys, you absolutely must join me in this c...</td>\n",
       "      <td>False</td>\n",
       "      <td>{'hashtags': [{'text': 'Android', 'indices': [...</td>\n",
       "      <td>&lt;a href=\"https://www.facebook.com/viadenpoker\"...</td>\n",
       "      <td>None</td>\n",
       "      <td>None</td>\n",
       "      <td>None</td>\n",
       "      <td>...</td>\n",
       "      <td>None</td>\n",
       "      <td>None</td>\n",
       "      <td>None</td>\n",
       "      <td>False</td>\n",
       "      <td>0</td>\n",
       "      <td>0</td>\n",
       "      <td>False</td>\n",
       "      <td>False</td>\n",
       "      <td>False</td>\n",
       "      <td>en</td>\n",
       "    </tr>\n",
       "    <tr>\n",
       "      <th>19</th>\n",
       "      <td>Thu Apr 04 14:00:58 +0000 2013</td>\n",
       "      <td>319811838453882880</td>\n",
       "      <td>319811838453882880</td>\n",
       "      <td>Will Mozambique end up like Nigeria or Norway?...</td>\n",
       "      <td>False</td>\n",
       "      <td>{'hashtags': [], 'symbols': [], 'user_mentions...</td>\n",
       "      <td>&lt;a href=\"http://twitter.com/download/android\" ...</td>\n",
       "      <td>None</td>\n",
       "      <td>None</td>\n",
       "      <td>None</td>\n",
       "      <td>...</td>\n",
       "      <td>None</td>\n",
       "      <td>None</td>\n",
       "      <td>None</td>\n",
       "      <td>False</td>\n",
       "      <td>0</td>\n",
       "      <td>0</td>\n",
       "      <td>False</td>\n",
       "      <td>False</td>\n",
       "      <td>False</td>\n",
       "      <td>en</td>\n",
       "    </tr>\n",
       "  </tbody>\n",
       "</table>\n",
       "<p>20 rows × 24 columns</p>\n",
       "</div>"
      ],
      "text/plain": [
       "                        created_at                  id              id_str  \\\n",
       "0   Wed Sep 09 22:27:41 +0000 2015  641739779638489090  641739779638489090   \n",
       "1   Wed Sep 09 22:27:13 +0000 2015  641739664378974208  641739664378974208   \n",
       "2   Wed Sep 09 22:27:11 +0000 2015  641739654421684229  641739654421684229   \n",
       "3   Wed Sep 09 22:27:08 +0000 2015  641739642413404161  641739642413404161   \n",
       "4   Wed Sep 09 22:27:03 +0000 2015  641739621211197440  641739621211197440   \n",
       "5   Fri Jun 07 15:10:14 +0000 2013  343022091051859969  343022091051859969   \n",
       "6   Tue Jun 04 20:00:07 +0000 2013  342007881660506113  342007881660506113   \n",
       "7   Tue Jun 04 19:02:18 +0000 2013  341993332047749120  341993332047749120   \n",
       "8   Thu May 30 17:17:52 +0000 2013  340155109642235904  340155109642235904   \n",
       "9   Thu May 30 17:09:55 +0000 2013  340153109491879936  340153109491879936   \n",
       "10  Thu May 30 17:08:23 +0000 2013  340152722072424449  340152722072424449   \n",
       "11  Thu May 30 17:07:33 +0000 2013  340152514211102720  340152514211102720   \n",
       "12  Thu May 30 16:58:55 +0000 2013  340150341129613312  340150341129613312   \n",
       "13  Thu May 30 16:55:39 +0000 2013  340149518597230593  340149518597230593   \n",
       "14  Tue May 28 18:32:19 +0000 2013  339449071448244224  339449071448244224   \n",
       "15  Mon May 27 16:21:34 +0000 2013  339053778324037633  339053778324037633   \n",
       "16  Sun May 26 15:43:17 +0000 2013  338681753663320064  338681753663320064   \n",
       "17  Sat May 25 19:22:59 +0000 2013  338374656945954816  338374656945954816   \n",
       "18  Sat May 25 19:20:21 +0000 2013  338373995869122561  338373995869122561   \n",
       "19  Thu Apr 04 14:00:58 +0000 2013  319811838453882880  319811838453882880   \n",
       "\n",
       "                                                 text  truncated  \\\n",
       "0                 http://t.co/buZVhMvivZ @kudamutamba      False   \n",
       "1                 http://t.co/VnbWso3pf6 @shamielaine      False   \n",
       "2             http://t.co/G5Qx0Cpl16 @vajnrchangamire      False   \n",
       "3                 http://t.co/hQVmvTzuYo @scnyandzeny      False   \n",
       "4                   http://t.co/2bfo3C865J @nstanleyz      False   \n",
       "5   Played 500 hands http://t.co/7WYsYaO2FH #Celeb...      False   \n",
       "6   Sent a gift to one of my fellow players http:/...      False   \n",
       "7   Won 100 poker hands http://t.co/7WYsYaO2FH #Ce...      False   \n",
       "8   Won 50k chips at Poker http://t.co/7WYsYaO2FH ...      False   \n",
       "9   Won 3 hands in a row in a poker game http://t....      False   \n",
       "10  Won 5 hands after going All-in http://t.co/7WY...      False   \n",
       "11  Played 10 hands http://t.co/7WYsYaO2FH #CelebP...      False   \n",
       "12  Won 5 poker hands http://t.co/7WYsYaO2FH #Cele...      False   \n",
       "13  Won 3 hands after going All-in http://t.co/7WY...      False   \n",
       "14  Won 10 hands after going All-in http://t.co/7W...      False   \n",
       "15  Found 10 poker buddies http://t.co/7WYsYaO2FH ...      False   \n",
       "16  Participated in 7 tournaments http://t.co/7WYs...      False   \n",
       "17  Played 100 hands http://t.co/7WYsYaO2FH #Celeb...      False   \n",
       "18  Hi guys, you absolutely must join me in this c...      False   \n",
       "19  Will Mozambique end up like Nigeria or Norway?...      False   \n",
       "\n",
       "                                             entities  \\\n",
       "0   {'hashtags': [], 'symbols': [], 'user_mentions...   \n",
       "1   {'hashtags': [], 'symbols': [], 'user_mentions...   \n",
       "2   {'hashtags': [], 'symbols': [], 'user_mentions...   \n",
       "3   {'hashtags': [], 'symbols': [], 'user_mentions...   \n",
       "4   {'hashtags': [], 'symbols': [], 'user_mentions...   \n",
       "5   {'hashtags': [{'text': 'CelebPoker', 'indices'...   \n",
       "6   {'hashtags': [{'text': 'CelebPoker', 'indices'...   \n",
       "7   {'hashtags': [{'text': 'CelebPoker', 'indices'...   \n",
       "8   {'hashtags': [{'text': 'CelebPoker', 'indices'...   \n",
       "9   {'hashtags': [{'text': 'CelebPoker', 'indices'...   \n",
       "10  {'hashtags': [{'text': 'CelebPoker', 'indices'...   \n",
       "11  {'hashtags': [{'text': 'CelebPoker', 'indices'...   \n",
       "12  {'hashtags': [{'text': 'CelebPoker', 'indices'...   \n",
       "13  {'hashtags': [{'text': 'CelebPoker', 'indices'...   \n",
       "14  {'hashtags': [{'text': 'CelebPoker', 'indices'...   \n",
       "15  {'hashtags': [{'text': 'CelebPoker', 'indices'...   \n",
       "16  {'hashtags': [{'text': 'CelebPoker', 'indices'...   \n",
       "17  {'hashtags': [{'text': 'CelebPoker', 'indices'...   \n",
       "18  {'hashtags': [{'text': 'Android', 'indices': [...   \n",
       "19  {'hashtags': [], 'symbols': [], 'user_mentions...   \n",
       "\n",
       "                                               source in_reply_to_status_id  \\\n",
       "0   <a href=\"http://twitter.com\" rel=\"nofollow\">Tw...                  None   \n",
       "1   <a href=\"http://twitter.com\" rel=\"nofollow\">Tw...                  None   \n",
       "2   <a href=\"http://twitter.com\" rel=\"nofollow\">Tw...                  None   \n",
       "3   <a href=\"http://twitter.com\" rel=\"nofollow\">Tw...                  None   \n",
       "4   <a href=\"http://twitter.com\" rel=\"nofollow\">Tw...                  None   \n",
       "5   <a href=\"https://www.facebook.com/viadenpoker\"...                  None   \n",
       "6   <a href=\"https://www.facebook.com/viadenpoker\"...                  None   \n",
       "7   <a href=\"https://www.facebook.com/viadenpoker\"...                  None   \n",
       "8   <a href=\"https://www.facebook.com/viadenpoker\"...                  None   \n",
       "9   <a href=\"https://www.facebook.com/viadenpoker\"...                  None   \n",
       "10  <a href=\"https://www.facebook.com/viadenpoker\"...                  None   \n",
       "11  <a href=\"https://www.facebook.com/viadenpoker\"...                  None   \n",
       "12  <a href=\"https://www.facebook.com/viadenpoker\"...                  None   \n",
       "13  <a href=\"https://www.facebook.com/viadenpoker\"...                  None   \n",
       "14  <a href=\"https://www.facebook.com/viadenpoker\"...                  None   \n",
       "15  <a href=\"https://www.facebook.com/viadenpoker\"...                  None   \n",
       "16  <a href=\"https://www.facebook.com/viadenpoker\"...                  None   \n",
       "17  <a href=\"https://www.facebook.com/viadenpoker\"...                  None   \n",
       "18  <a href=\"https://www.facebook.com/viadenpoker\"...                  None   \n",
       "19  <a href=\"http://twitter.com/download/android\" ...                  None   \n",
       "\n",
       "   in_reply_to_status_id_str in_reply_to_user_id  ... coordinates place  \\\n",
       "0                       None                None  ...        None  None   \n",
       "1                       None                None  ...        None  None   \n",
       "2                       None                None  ...        None  None   \n",
       "3                       None                None  ...        None  None   \n",
       "4                       None                None  ...        None  None   \n",
       "5                       None                None  ...        None  None   \n",
       "6                       None                None  ...        None  None   \n",
       "7                       None                None  ...        None  None   \n",
       "8                       None                None  ...        None  None   \n",
       "9                       None                None  ...        None  None   \n",
       "10                      None                None  ...        None  None   \n",
       "11                      None                None  ...        None  None   \n",
       "12                      None                None  ...        None  None   \n",
       "13                      None                None  ...        None  None   \n",
       "14                      None                None  ...        None  None   \n",
       "15                      None                None  ...        None  None   \n",
       "16                      None                None  ...        None  None   \n",
       "17                      None                None  ...        None  None   \n",
       "18                      None                None  ...        None  None   \n",
       "19                      None                None  ...        None  None   \n",
       "\n",
       "   contributors is_quote_status retweet_count favorite_count favorited  \\\n",
       "0          None           False             1              1     False   \n",
       "1          None           False             1              1     False   \n",
       "2          None           False             0              0     False   \n",
       "3          None           False             0              0     False   \n",
       "4          None           False             0              0     False   \n",
       "5          None           False             0              0     False   \n",
       "6          None           False             0              0     False   \n",
       "7          None           False             0              0     False   \n",
       "8          None           False             0              0     False   \n",
       "9          None           False             0              0     False   \n",
       "10         None           False             0              0     False   \n",
       "11         None           False             0              0     False   \n",
       "12         None           False             0              0     False   \n",
       "13         None           False             0              0     False   \n",
       "14         None           False             0              0     False   \n",
       "15         None           False             0              0     False   \n",
       "16         None           False             0              0     False   \n",
       "17         None           False             0              0     False   \n",
       "18         None           False             0              0     False   \n",
       "19         None           False             0              0     False   \n",
       "\n",
       "    retweeted  possibly_sensitive  lang  \n",
       "0       False               False   und  \n",
       "1       False               False   und  \n",
       "2       False               False   und  \n",
       "3       False               False   und  \n",
       "4       False               False   und  \n",
       "5       False               False    en  \n",
       "6       False               False    en  \n",
       "7       False               False    en  \n",
       "8       False               False    en  \n",
       "9       False               False    en  \n",
       "10      False               False    en  \n",
       "11      False               False    en  \n",
       "12      False               False    en  \n",
       "13      False               False    en  \n",
       "14      False               False    en  \n",
       "15      False               False    en  \n",
       "16      False               False    en  \n",
       "17      False               False    en  \n",
       "18      False               False    en  \n",
       "19      False               False    en  \n",
       "\n",
       "[20 rows x 24 columns]"
      ]
     },
     "execution_count": 34,
     "metadata": {},
     "output_type": "execute_result"
    }
   ],
   "source": [
    "df = pd.DataFrame(tweet_list)\n",
    "df"
   ]
  },
  {
   "cell_type": "code",
   "execution_count": 35,
   "metadata": {},
   "outputs": [
    {
     "data": {
      "text/html": [
       "<div>\n",
       "<style scoped>\n",
       "    .dataframe tbody tr th:only-of-type {\n",
       "        vertical-align: middle;\n",
       "    }\n",
       "\n",
       "    .dataframe tbody tr th {\n",
       "        vertical-align: top;\n",
       "    }\n",
       "\n",
       "    .dataframe thead th {\n",
       "        text-align: right;\n",
       "    }\n",
       "</style>\n",
       "<table border=\"1\" class=\"dataframe\">\n",
       "  <thead>\n",
       "    <tr style=\"text-align: right;\">\n",
       "      <th></th>\n",
       "      <th>id</th>\n",
       "      <th>id_str</th>\n",
       "      <th>text</th>\n",
       "      <th>truncated</th>\n",
       "      <th>entities</th>\n",
       "      <th>source</th>\n",
       "      <th>in_reply_to_status_id</th>\n",
       "      <th>in_reply_to_status_id_str</th>\n",
       "      <th>in_reply_to_user_id</th>\n",
       "      <th>in_reply_to_user_id_str</th>\n",
       "      <th>...</th>\n",
       "      <th>coordinates</th>\n",
       "      <th>place</th>\n",
       "      <th>contributors</th>\n",
       "      <th>is_quote_status</th>\n",
       "      <th>retweet_count</th>\n",
       "      <th>favorite_count</th>\n",
       "      <th>favorited</th>\n",
       "      <th>retweeted</th>\n",
       "      <th>possibly_sensitive</th>\n",
       "      <th>lang</th>\n",
       "    </tr>\n",
       "    <tr>\n",
       "      <th>created_at</th>\n",
       "      <th></th>\n",
       "      <th></th>\n",
       "      <th></th>\n",
       "      <th></th>\n",
       "      <th></th>\n",
       "      <th></th>\n",
       "      <th></th>\n",
       "      <th></th>\n",
       "      <th></th>\n",
       "      <th></th>\n",
       "      <th></th>\n",
       "      <th></th>\n",
       "      <th></th>\n",
       "      <th></th>\n",
       "      <th></th>\n",
       "      <th></th>\n",
       "      <th></th>\n",
       "      <th></th>\n",
       "      <th></th>\n",
       "      <th></th>\n",
       "      <th></th>\n",
       "    </tr>\n",
       "  </thead>\n",
       "  <tbody>\n",
       "    <tr>\n",
       "      <th>2015-09-09 22:27:41+00:00</th>\n",
       "      <td>641739779638489090</td>\n",
       "      <td>641739779638489090</td>\n",
       "      <td>http://t.co/buZVhMvivZ @kudamutamba</td>\n",
       "      <td>False</td>\n",
       "      <td>{'hashtags': [], 'symbols': [], 'user_mentions...</td>\n",
       "      <td>&lt;a href=\"http://twitter.com\" rel=\"nofollow\"&gt;Tw...</td>\n",
       "      <td>None</td>\n",
       "      <td>None</td>\n",
       "      <td>None</td>\n",
       "      <td>None</td>\n",
       "      <td>...</td>\n",
       "      <td>None</td>\n",
       "      <td>None</td>\n",
       "      <td>None</td>\n",
       "      <td>False</td>\n",
       "      <td>1</td>\n",
       "      <td>1</td>\n",
       "      <td>False</td>\n",
       "      <td>False</td>\n",
       "      <td>False</td>\n",
       "      <td>und</td>\n",
       "    </tr>\n",
       "    <tr>\n",
       "      <th>2015-09-09 22:27:13+00:00</th>\n",
       "      <td>641739664378974208</td>\n",
       "      <td>641739664378974208</td>\n",
       "      <td>http://t.co/VnbWso3pf6 @shamielaine</td>\n",
       "      <td>False</td>\n",
       "      <td>{'hashtags': [], 'symbols': [], 'user_mentions...</td>\n",
       "      <td>&lt;a href=\"http://twitter.com\" rel=\"nofollow\"&gt;Tw...</td>\n",
       "      <td>None</td>\n",
       "      <td>None</td>\n",
       "      <td>None</td>\n",
       "      <td>None</td>\n",
       "      <td>...</td>\n",
       "      <td>None</td>\n",
       "      <td>None</td>\n",
       "      <td>None</td>\n",
       "      <td>False</td>\n",
       "      <td>1</td>\n",
       "      <td>1</td>\n",
       "      <td>False</td>\n",
       "      <td>False</td>\n",
       "      <td>False</td>\n",
       "      <td>und</td>\n",
       "    </tr>\n",
       "    <tr>\n",
       "      <th>2015-09-09 22:27:11+00:00</th>\n",
       "      <td>641739654421684229</td>\n",
       "      <td>641739654421684229</td>\n",
       "      <td>http://t.co/G5Qx0Cpl16 @vajnrchangamire</td>\n",
       "      <td>False</td>\n",
       "      <td>{'hashtags': [], 'symbols': [], 'user_mentions...</td>\n",
       "      <td>&lt;a href=\"http://twitter.com\" rel=\"nofollow\"&gt;Tw...</td>\n",
       "      <td>None</td>\n",
       "      <td>None</td>\n",
       "      <td>None</td>\n",
       "      <td>None</td>\n",
       "      <td>...</td>\n",
       "      <td>None</td>\n",
       "      <td>None</td>\n",
       "      <td>None</td>\n",
       "      <td>False</td>\n",
       "      <td>0</td>\n",
       "      <td>0</td>\n",
       "      <td>False</td>\n",
       "      <td>False</td>\n",
       "      <td>False</td>\n",
       "      <td>und</td>\n",
       "    </tr>\n",
       "    <tr>\n",
       "      <th>2015-09-09 22:27:08+00:00</th>\n",
       "      <td>641739642413404161</td>\n",
       "      <td>641739642413404161</td>\n",
       "      <td>http://t.co/hQVmvTzuYo @scnyandzeny</td>\n",
       "      <td>False</td>\n",
       "      <td>{'hashtags': [], 'symbols': [], 'user_mentions...</td>\n",
       "      <td>&lt;a href=\"http://twitter.com\" rel=\"nofollow\"&gt;Tw...</td>\n",
       "      <td>None</td>\n",
       "      <td>None</td>\n",
       "      <td>None</td>\n",
       "      <td>None</td>\n",
       "      <td>...</td>\n",
       "      <td>None</td>\n",
       "      <td>None</td>\n",
       "      <td>None</td>\n",
       "      <td>False</td>\n",
       "      <td>0</td>\n",
       "      <td>0</td>\n",
       "      <td>False</td>\n",
       "      <td>False</td>\n",
       "      <td>False</td>\n",
       "      <td>und</td>\n",
       "    </tr>\n",
       "    <tr>\n",
       "      <th>2015-09-09 22:27:03+00:00</th>\n",
       "      <td>641739621211197440</td>\n",
       "      <td>641739621211197440</td>\n",
       "      <td>http://t.co/2bfo3C865J @nstanleyz</td>\n",
       "      <td>False</td>\n",
       "      <td>{'hashtags': [], 'symbols': [], 'user_mentions...</td>\n",
       "      <td>&lt;a href=\"http://twitter.com\" rel=\"nofollow\"&gt;Tw...</td>\n",
       "      <td>None</td>\n",
       "      <td>None</td>\n",
       "      <td>None</td>\n",
       "      <td>None</td>\n",
       "      <td>...</td>\n",
       "      <td>None</td>\n",
       "      <td>None</td>\n",
       "      <td>None</td>\n",
       "      <td>False</td>\n",
       "      <td>0</td>\n",
       "      <td>0</td>\n",
       "      <td>False</td>\n",
       "      <td>False</td>\n",
       "      <td>False</td>\n",
       "      <td>und</td>\n",
       "    </tr>\n",
       "  </tbody>\n",
       "</table>\n",
       "<p>5 rows × 23 columns</p>\n",
       "</div>"
      ],
      "text/plain": [
       "                                           id              id_str  \\\n",
       "created_at                                                          \n",
       "2015-09-09 22:27:41+00:00  641739779638489090  641739779638489090   \n",
       "2015-09-09 22:27:13+00:00  641739664378974208  641739664378974208   \n",
       "2015-09-09 22:27:11+00:00  641739654421684229  641739654421684229   \n",
       "2015-09-09 22:27:08+00:00  641739642413404161  641739642413404161   \n",
       "2015-09-09 22:27:03+00:00  641739621211197440  641739621211197440   \n",
       "\n",
       "                                                              text  truncated  \\\n",
       "created_at                                                                      \n",
       "2015-09-09 22:27:41+00:00      http://t.co/buZVhMvivZ @kudamutamba      False   \n",
       "2015-09-09 22:27:13+00:00      http://t.co/VnbWso3pf6 @shamielaine      False   \n",
       "2015-09-09 22:27:11+00:00  http://t.co/G5Qx0Cpl16 @vajnrchangamire      False   \n",
       "2015-09-09 22:27:08+00:00      http://t.co/hQVmvTzuYo @scnyandzeny      False   \n",
       "2015-09-09 22:27:03+00:00        http://t.co/2bfo3C865J @nstanleyz      False   \n",
       "\n",
       "                                                                    entities  \\\n",
       "created_at                                                                     \n",
       "2015-09-09 22:27:41+00:00  {'hashtags': [], 'symbols': [], 'user_mentions...   \n",
       "2015-09-09 22:27:13+00:00  {'hashtags': [], 'symbols': [], 'user_mentions...   \n",
       "2015-09-09 22:27:11+00:00  {'hashtags': [], 'symbols': [], 'user_mentions...   \n",
       "2015-09-09 22:27:08+00:00  {'hashtags': [], 'symbols': [], 'user_mentions...   \n",
       "2015-09-09 22:27:03+00:00  {'hashtags': [], 'symbols': [], 'user_mentions...   \n",
       "\n",
       "                                                                      source  \\\n",
       "created_at                                                                     \n",
       "2015-09-09 22:27:41+00:00  <a href=\"http://twitter.com\" rel=\"nofollow\">Tw...   \n",
       "2015-09-09 22:27:13+00:00  <a href=\"http://twitter.com\" rel=\"nofollow\">Tw...   \n",
       "2015-09-09 22:27:11+00:00  <a href=\"http://twitter.com\" rel=\"nofollow\">Tw...   \n",
       "2015-09-09 22:27:08+00:00  <a href=\"http://twitter.com\" rel=\"nofollow\">Tw...   \n",
       "2015-09-09 22:27:03+00:00  <a href=\"http://twitter.com\" rel=\"nofollow\">Tw...   \n",
       "\n",
       "                          in_reply_to_status_id in_reply_to_status_id_str  \\\n",
       "created_at                                                                  \n",
       "2015-09-09 22:27:41+00:00                  None                      None   \n",
       "2015-09-09 22:27:13+00:00                  None                      None   \n",
       "2015-09-09 22:27:11+00:00                  None                      None   \n",
       "2015-09-09 22:27:08+00:00                  None                      None   \n",
       "2015-09-09 22:27:03+00:00                  None                      None   \n",
       "\n",
       "                          in_reply_to_user_id in_reply_to_user_id_str  ...  \\\n",
       "created_at                                                             ...   \n",
       "2015-09-09 22:27:41+00:00                None                    None  ...   \n",
       "2015-09-09 22:27:13+00:00                None                    None  ...   \n",
       "2015-09-09 22:27:11+00:00                None                    None  ...   \n",
       "2015-09-09 22:27:08+00:00                None                    None  ...   \n",
       "2015-09-09 22:27:03+00:00                None                    None  ...   \n",
       "\n",
       "                          coordinates place contributors is_quote_status  \\\n",
       "created_at                                                                 \n",
       "2015-09-09 22:27:41+00:00        None  None         None           False   \n",
       "2015-09-09 22:27:13+00:00        None  None         None           False   \n",
       "2015-09-09 22:27:11+00:00        None  None         None           False   \n",
       "2015-09-09 22:27:08+00:00        None  None         None           False   \n",
       "2015-09-09 22:27:03+00:00        None  None         None           False   \n",
       "\n",
       "                          retweet_count favorite_count  favorited  retweeted  \\\n",
       "created_at                                                                     \n",
       "2015-09-09 22:27:41+00:00             1              1      False      False   \n",
       "2015-09-09 22:27:13+00:00             1              1      False      False   \n",
       "2015-09-09 22:27:11+00:00             0              0      False      False   \n",
       "2015-09-09 22:27:08+00:00             0              0      False      False   \n",
       "2015-09-09 22:27:03+00:00             0              0      False      False   \n",
       "\n",
       "                           possibly_sensitive  lang  \n",
       "created_at                                           \n",
       "2015-09-09 22:27:41+00:00               False   und  \n",
       "2015-09-09 22:27:13+00:00               False   und  \n",
       "2015-09-09 22:27:11+00:00               False   und  \n",
       "2015-09-09 22:27:08+00:00               False   und  \n",
       "2015-09-09 22:27:03+00:00               False   und  \n",
       "\n",
       "[5 rows x 23 columns]"
      ]
     },
     "execution_count": 35,
     "metadata": {},
     "output_type": "execute_result"
    }
   ],
   "source": [
    "df['created_at'] = pd.to_datetime(df['created_at'])\n",
    "df.set_index('created_at', inplace=True)\n",
    "df.head()"
   ]
  },
  {
   "cell_type": "code",
   "execution_count": 36,
   "metadata": {},
   "outputs": [
    {
     "data": {
      "text/plain": [
       "id                            int64\n",
       "id_str                       object\n",
       "text                         object\n",
       "truncated                      bool\n",
       "entities                     object\n",
       "source                       object\n",
       "in_reply_to_status_id        object\n",
       "in_reply_to_status_id_str    object\n",
       "in_reply_to_user_id          object\n",
       "in_reply_to_user_id_str      object\n",
       "in_reply_to_screen_name      object\n",
       "user                         object\n",
       "geo                          object\n",
       "coordinates                  object\n",
       "place                        object\n",
       "contributors                 object\n",
       "is_quote_status                bool\n",
       "retweet_count                 int64\n",
       "favorite_count                int64\n",
       "favorited                      bool\n",
       "retweeted                      bool\n",
       "possibly_sensitive             bool\n",
       "lang                         object\n",
       "dtype: object"
      ]
     },
     "execution_count": 36,
     "metadata": {},
     "output_type": "execute_result"
    }
   ],
   "source": [
    "df.dtypes"
   ]
  },
  {
   "cell_type": "code",
   "execution_count": 37,
   "metadata": {},
   "outputs": [
    {
     "data": {
      "image/png": "[encoded data removed]",
      "text/plain": [
       "<Figure size 1080x432 with 1 Axes>"
      ]
     },
     "metadata": {
      "needs_background": "light"
     },
     "output_type": "display_data"
    }
   ],
   "source": [
    "y = df['id'].resample('D').sum()\n",
    "y.plot(figsize=(15, 6));"
   ]
  },
  {
   "cell_type": "markdown",
   "metadata": {
    "colab_type": "text",
    "id": "3PibchrmJhQ-"
   },
   "source": [
    "You can create a tweet as follows:"
   ]
  },
  {
   "cell_type": "code",
   "execution_count": 39,
   "metadata": {
    "colab": {},
    "colab_type": "code",
    "id": "IwzTjf1gJhQ_"
   },
   "outputs": [
    {
     "ename": "TweepError",
     "evalue": "Read-only application cannot POST.",
     "output_type": "error",
     "traceback": [
      "\u001b[1;31m---------------------------------------------------------------------------\u001b[0m",
      "\u001b[1;31mTweepError\u001b[0m                                Traceback (most recent call last)",
      "\u001b[1;32m<ipython-input-39-cbd09fab22e5>\u001b[0m in \u001b[0;36m<module>\u001b[1;34m\u001b[0m\n\u001b[0;32m      1\u001b[0m \u001b[1;31m# create a tweet:\u001b[0m\u001b[1;33m\u001b[0m\u001b[1;33m\u001b[0m\u001b[1;33m\u001b[0m\u001b[0m\n\u001b[1;32m----> 2\u001b[1;33m \u001b[0mtweet\u001b[0m \u001b[1;33m=\u001b[0m \u001b[0mapi\u001b[0m\u001b[1;33m.\u001b[0m\u001b[0mupdate_status\u001b[0m\u001b[1;33m(\u001b[0m\u001b[1;34m'Test: Made with Tweepy'\u001b[0m\u001b[1;33m)\u001b[0m\u001b[1;33m\u001b[0m\u001b[1;33m\u001b[0m\u001b[0m\n\u001b[0m",
      "\u001b[1;32m~\\anaconda3\\envs\\deep_learning\\lib\\site-packages\\tweepy\\api.py\u001b[0m in \u001b[0;36mupdate_status\u001b[1;34m(self, *args, **kwargs)\u001b[0m\n\u001b[0;32m    203\u001b[0m             \u001b[0mkwargs\u001b[0m\u001b[1;33m[\u001b[0m\u001b[1;34m'media_ids'\u001b[0m\u001b[1;33m]\u001b[0m \u001b[1;33m=\u001b[0m \u001b[0mlist_to_csv\u001b[0m\u001b[1;33m(\u001b[0m\u001b[0mkwargs\u001b[0m\u001b[1;33m[\u001b[0m\u001b[1;34m'media_ids'\u001b[0m\u001b[1;33m]\u001b[0m\u001b[1;33m)\u001b[0m\u001b[1;33m\u001b[0m\u001b[1;33m\u001b[0m\u001b[0m\n\u001b[0;32m    204\u001b[0m \u001b[1;33m\u001b[0m\u001b[0m\n\u001b[1;32m--> 205\u001b[1;33m         return bind_api(\n\u001b[0m\u001b[0;32m    206\u001b[0m             \u001b[0mapi\u001b[0m\u001b[1;33m=\u001b[0m\u001b[0mself\u001b[0m\u001b[1;33m,\u001b[0m\u001b[1;33m\u001b[0m\u001b[1;33m\u001b[0m\u001b[0m\n\u001b[0;32m    207\u001b[0m             \u001b[0mpath\u001b[0m\u001b[1;33m=\u001b[0m\u001b[1;34m'/statuses/update.json'\u001b[0m\u001b[1;33m,\u001b[0m\u001b[1;33m\u001b[0m\u001b[1;33m\u001b[0m\u001b[0m\n",
      "\u001b[1;32m~\\anaconda3\\envs\\deep_learning\\lib\\site-packages\\tweepy\\binder.py\u001b[0m in \u001b[0;36m_call\u001b[1;34m(*args, **kwargs)\u001b[0m\n\u001b[0;32m    251\u001b[0m                 \u001b[1;32mreturn\u001b[0m \u001b[0mmethod\u001b[0m\u001b[1;33m\u001b[0m\u001b[1;33m\u001b[0m\u001b[0m\n\u001b[0;32m    252\u001b[0m             \u001b[1;32melse\u001b[0m\u001b[1;33m:\u001b[0m\u001b[1;33m\u001b[0m\u001b[1;33m\u001b[0m\u001b[0m\n\u001b[1;32m--> 253\u001b[1;33m                 \u001b[1;32mreturn\u001b[0m \u001b[0mmethod\u001b[0m\u001b[1;33m.\u001b[0m\u001b[0mexecute\u001b[0m\u001b[1;33m(\u001b[0m\u001b[1;33m)\u001b[0m\u001b[1;33m\u001b[0m\u001b[1;33m\u001b[0m\u001b[0m\n\u001b[0m\u001b[0;32m    254\u001b[0m         \u001b[1;32mfinally\u001b[0m\u001b[1;33m:\u001b[0m\u001b[1;33m\u001b[0m\u001b[1;33m\u001b[0m\u001b[0m\n\u001b[0;32m    255\u001b[0m             \u001b[0mmethod\u001b[0m\u001b[1;33m.\u001b[0m\u001b[0msession\u001b[0m\u001b[1;33m.\u001b[0m\u001b[0mclose\u001b[0m\u001b[1;33m(\u001b[0m\u001b[1;33m)\u001b[0m\u001b[1;33m\u001b[0m\u001b[1;33m\u001b[0m\u001b[0m\n",
      "\u001b[1;32m~\\anaconda3\\envs\\deep_learning\\lib\\site-packages\\tweepy\\binder.py\u001b[0m in \u001b[0;36mexecute\u001b[1;34m(self)\u001b[0m\n\u001b[0;32m    232\u001b[0m                     \u001b[1;32mraise\u001b[0m \u001b[0mRateLimitError\u001b[0m\u001b[1;33m(\u001b[0m\u001b[0merror_msg\u001b[0m\u001b[1;33m,\u001b[0m \u001b[0mresp\u001b[0m\u001b[1;33m)\u001b[0m\u001b[1;33m\u001b[0m\u001b[1;33m\u001b[0m\u001b[0m\n\u001b[0;32m    233\u001b[0m                 \u001b[1;32melse\u001b[0m\u001b[1;33m:\u001b[0m\u001b[1;33m\u001b[0m\u001b[1;33m\u001b[0m\u001b[0m\n\u001b[1;32m--> 234\u001b[1;33m                     \u001b[1;32mraise\u001b[0m \u001b[0mTweepError\u001b[0m\u001b[1;33m(\u001b[0m\u001b[0merror_msg\u001b[0m\u001b[1;33m,\u001b[0m \u001b[0mresp\u001b[0m\u001b[1;33m,\u001b[0m \u001b[0mapi_code\u001b[0m\u001b[1;33m=\u001b[0m\u001b[0mapi_error_code\u001b[0m\u001b[1;33m)\u001b[0m\u001b[1;33m\u001b[0m\u001b[1;33m\u001b[0m\u001b[0m\n\u001b[0m\u001b[0;32m    235\u001b[0m \u001b[1;33m\u001b[0m\u001b[0m\n\u001b[0;32m    236\u001b[0m             \u001b[1;31m# Parse the response payload\u001b[0m\u001b[1;33m\u001b[0m\u001b[1;33m\u001b[0m\u001b[1;33m\u001b[0m\u001b[0m\n",
      "\u001b[1;31mTweepError\u001b[0m: Read-only application cannot POST."
     ]
    }
   ],
   "source": [
    "# create a tweet:\n",
    "tweet = api.update_status('Test: Made with Tweepy')"
   ]
  },
  {
   "cell_type": "markdown",
   "metadata": {
    "colab_type": "text",
    "id": "TtlXvbjoJhRB"
   },
   "source": [
    "(Nb. Don't abuse this feature! If you try to generate a zillion tweets in a loop, Twitter will ban youur account.)"
   ]
  },
  {
   "cell_type": "markdown",
   "metadata": {
    "colab_type": "text",
    "id": "awUIiruTJhRB"
   },
   "source": [
    "Tweets can be deleted by reference to their `id_str` attribute:"
   ]
  },
  {
   "cell_type": "code",
   "execution_count": 40,
   "metadata": {
    "colab": {},
    "colab_type": "code",
    "id": "tKPSCOEBJhRC"
   },
   "outputs": [
    {
     "ename": "TweepError",
     "evalue": "Read-only application cannot POST.",
     "output_type": "error",
     "traceback": [
      "\u001b[1;31m---------------------------------------------------------------------------\u001b[0m",
      "\u001b[1;31mTweepError\u001b[0m                                Traceback (most recent call last)",
      "\u001b[1;32m<ipython-input-40-416b3b599933>\u001b[0m in \u001b[0;36m<module>\u001b[1;34m\u001b[0m\n\u001b[0;32m      1\u001b[0m \u001b[1;31m# delete a tweet:\u001b[0m\u001b[1;33m\u001b[0m\u001b[1;33m\u001b[0m\u001b[1;33m\u001b[0m\u001b[0m\n\u001b[1;32m----> 2\u001b[1;33m \u001b[0mstatus\u001b[0m \u001b[1;33m=\u001b[0m \u001b[0mapi\u001b[0m\u001b[1;33m.\u001b[0m\u001b[0mdestroy_status\u001b[0m\u001b[1;33m(\u001b[0m\u001b[0mtweet\u001b[0m\u001b[1;33m.\u001b[0m\u001b[0mid_str\u001b[0m\u001b[1;33m)\u001b[0m\u001b[1;33m\u001b[0m\u001b[1;33m\u001b[0m\u001b[0m\n\u001b[0m",
      "\u001b[1;32m~\\anaconda3\\envs\\deep_learning\\lib\\site-packages\\tweepy\\binder.py\u001b[0m in \u001b[0;36m_call\u001b[1;34m(*args, **kwargs)\u001b[0m\n\u001b[0;32m    251\u001b[0m                 \u001b[1;32mreturn\u001b[0m \u001b[0mmethod\u001b[0m\u001b[1;33m\u001b[0m\u001b[1;33m\u001b[0m\u001b[0m\n\u001b[0;32m    252\u001b[0m             \u001b[1;32melse\u001b[0m\u001b[1;33m:\u001b[0m\u001b[1;33m\u001b[0m\u001b[1;33m\u001b[0m\u001b[0m\n\u001b[1;32m--> 253\u001b[1;33m                 \u001b[1;32mreturn\u001b[0m \u001b[0mmethod\u001b[0m\u001b[1;33m.\u001b[0m\u001b[0mexecute\u001b[0m\u001b[1;33m(\u001b[0m\u001b[1;33m)\u001b[0m\u001b[1;33m\u001b[0m\u001b[1;33m\u001b[0m\u001b[0m\n\u001b[0m\u001b[0;32m    254\u001b[0m         \u001b[1;32mfinally\u001b[0m\u001b[1;33m:\u001b[0m\u001b[1;33m\u001b[0m\u001b[1;33m\u001b[0m\u001b[0m\n\u001b[0;32m    255\u001b[0m             \u001b[0mmethod\u001b[0m\u001b[1;33m.\u001b[0m\u001b[0msession\u001b[0m\u001b[1;33m.\u001b[0m\u001b[0mclose\u001b[0m\u001b[1;33m(\u001b[0m\u001b[1;33m)\u001b[0m\u001b[1;33m\u001b[0m\u001b[1;33m\u001b[0m\u001b[0m\n",
      "\u001b[1;32m~\\anaconda3\\envs\\deep_learning\\lib\\site-packages\\tweepy\\binder.py\u001b[0m in \u001b[0;36mexecute\u001b[1;34m(self)\u001b[0m\n\u001b[0;32m    232\u001b[0m                     \u001b[1;32mraise\u001b[0m \u001b[0mRateLimitError\u001b[0m\u001b[1;33m(\u001b[0m\u001b[0merror_msg\u001b[0m\u001b[1;33m,\u001b[0m \u001b[0mresp\u001b[0m\u001b[1;33m)\u001b[0m\u001b[1;33m\u001b[0m\u001b[1;33m\u001b[0m\u001b[0m\n\u001b[0;32m    233\u001b[0m                 \u001b[1;32melse\u001b[0m\u001b[1;33m:\u001b[0m\u001b[1;33m\u001b[0m\u001b[1;33m\u001b[0m\u001b[0m\n\u001b[1;32m--> 234\u001b[1;33m                     \u001b[1;32mraise\u001b[0m \u001b[0mTweepError\u001b[0m\u001b[1;33m(\u001b[0m\u001b[0merror_msg\u001b[0m\u001b[1;33m,\u001b[0m \u001b[0mresp\u001b[0m\u001b[1;33m,\u001b[0m \u001b[0mapi_code\u001b[0m\u001b[1;33m=\u001b[0m\u001b[0mapi_error_code\u001b[0m\u001b[1;33m)\u001b[0m\u001b[1;33m\u001b[0m\u001b[1;33m\u001b[0m\u001b[0m\n\u001b[0m\u001b[0;32m    235\u001b[0m \u001b[1;33m\u001b[0m\u001b[0m\n\u001b[0;32m    236\u001b[0m             \u001b[1;31m# Parse the response payload\u001b[0m\u001b[1;33m\u001b[0m\u001b[1;33m\u001b[0m\u001b[1;33m\u001b[0m\u001b[0m\n",
      "\u001b[1;31mTweepError\u001b[0m: Read-only application cannot POST."
     ]
    }
   ],
   "source": [
    "# delete a tweet:\n",
    "status = api.destroy_status(tweet.id_str)"
   ]
  },
  {
   "cell_type": "markdown",
   "metadata": {
    "colab_type": "text",
    "id": "hEt9NWJBJhRE"
   },
   "source": [
    "You can follow a Tweeter:"
   ]
  },
  {
   "cell_type": "code",
   "execution_count": 41,
   "metadata": {
    "colab": {},
    "colab_type": "code",
    "id": "CDWxR8wOJhRF"
   },
   "outputs": [
    {
     "ename": "TweepError",
     "evalue": "Read-only application cannot POST.",
     "output_type": "error",
     "traceback": [
      "\u001b[1;31m---------------------------------------------------------------------------\u001b[0m",
      "\u001b[1;31mTweepError\u001b[0m                                Traceback (most recent call last)",
      "\u001b[1;32m<ipython-input-41-9fb7a6ee2917>\u001b[0m in \u001b[0;36m<module>\u001b[1;34m\u001b[0m\n\u001b[0;32m      1\u001b[0m \u001b[1;31m# follow:\u001b[0m\u001b[1;33m\u001b[0m\u001b[1;33m\u001b[0m\u001b[1;33m\u001b[0m\u001b[0m\n\u001b[1;32m----> 2\u001b[1;33m \u001b[0mapi\u001b[0m\u001b[1;33m.\u001b[0m\u001b[0mcreate_friendship\u001b[0m\u001b[1;33m(\u001b[0m\u001b[1;34m'@YouTube'\u001b[0m\u001b[1;33m)\u001b[0m\u001b[1;33m\u001b[0m\u001b[1;33m\u001b[0m\u001b[0m\n\u001b[0m",
      "\u001b[1;32m~\\anaconda3\\envs\\deep_learning\\lib\\site-packages\\tweepy\\binder.py\u001b[0m in \u001b[0;36m_call\u001b[1;34m(*args, **kwargs)\u001b[0m\n\u001b[0;32m    251\u001b[0m                 \u001b[1;32mreturn\u001b[0m \u001b[0mmethod\u001b[0m\u001b[1;33m\u001b[0m\u001b[1;33m\u001b[0m\u001b[0m\n\u001b[0;32m    252\u001b[0m             \u001b[1;32melse\u001b[0m\u001b[1;33m:\u001b[0m\u001b[1;33m\u001b[0m\u001b[1;33m\u001b[0m\u001b[0m\n\u001b[1;32m--> 253\u001b[1;33m                 \u001b[1;32mreturn\u001b[0m \u001b[0mmethod\u001b[0m\u001b[1;33m.\u001b[0m\u001b[0mexecute\u001b[0m\u001b[1;33m(\u001b[0m\u001b[1;33m)\u001b[0m\u001b[1;33m\u001b[0m\u001b[1;33m\u001b[0m\u001b[0m\n\u001b[0m\u001b[0;32m    254\u001b[0m         \u001b[1;32mfinally\u001b[0m\u001b[1;33m:\u001b[0m\u001b[1;33m\u001b[0m\u001b[1;33m\u001b[0m\u001b[0m\n\u001b[0;32m    255\u001b[0m             \u001b[0mmethod\u001b[0m\u001b[1;33m.\u001b[0m\u001b[0msession\u001b[0m\u001b[1;33m.\u001b[0m\u001b[0mclose\u001b[0m\u001b[1;33m(\u001b[0m\u001b[1;33m)\u001b[0m\u001b[1;33m\u001b[0m\u001b[1;33m\u001b[0m\u001b[0m\n",
      "\u001b[1;32m~\\anaconda3\\envs\\deep_learning\\lib\\site-packages\\tweepy\\binder.py\u001b[0m in \u001b[0;36mexecute\u001b[1;34m(self)\u001b[0m\n\u001b[0;32m    232\u001b[0m                     \u001b[1;32mraise\u001b[0m \u001b[0mRateLimitError\u001b[0m\u001b[1;33m(\u001b[0m\u001b[0merror_msg\u001b[0m\u001b[1;33m,\u001b[0m \u001b[0mresp\u001b[0m\u001b[1;33m)\u001b[0m\u001b[1;33m\u001b[0m\u001b[1;33m\u001b[0m\u001b[0m\n\u001b[0;32m    233\u001b[0m                 \u001b[1;32melse\u001b[0m\u001b[1;33m:\u001b[0m\u001b[1;33m\u001b[0m\u001b[1;33m\u001b[0m\u001b[0m\n\u001b[1;32m--> 234\u001b[1;33m                     \u001b[1;32mraise\u001b[0m \u001b[0mTweepError\u001b[0m\u001b[1;33m(\u001b[0m\u001b[0merror_msg\u001b[0m\u001b[1;33m,\u001b[0m \u001b[0mresp\u001b[0m\u001b[1;33m,\u001b[0m \u001b[0mapi_code\u001b[0m\u001b[1;33m=\u001b[0m\u001b[0mapi_error_code\u001b[0m\u001b[1;33m)\u001b[0m\u001b[1;33m\u001b[0m\u001b[1;33m\u001b[0m\u001b[0m\n\u001b[0m\u001b[0;32m    235\u001b[0m \u001b[1;33m\u001b[0m\u001b[0m\n\u001b[0;32m    236\u001b[0m             \u001b[1;31m# Parse the response payload\u001b[0m\u001b[1;33m\u001b[0m\u001b[1;33m\u001b[0m\u001b[1;33m\u001b[0m\u001b[0m\n",
      "\u001b[1;31mTweepError\u001b[0m: Read-only application cannot POST."
     ]
    }
   ],
   "source": [
    "# follow:\n",
    "api.create_friendship('@YouTube')"
   ]
  },
  {
   "cell_type": "markdown",
   "metadata": {
    "colab_type": "text",
    "id": "Nbp2vRONJhRH"
   },
   "source": [
    "or unfollow:"
   ]
  },
  {
   "cell_type": "code",
   "execution_count": 42,
   "metadata": {
    "colab": {},
    "colab_type": "code",
    "id": "wCsNNVT9JhRH"
   },
   "outputs": [
    {
     "ename": "TweepError",
     "evalue": "Read-only application cannot POST.",
     "output_type": "error",
     "traceback": [
      "\u001b[1;31m---------------------------------------------------------------------------\u001b[0m",
      "\u001b[1;31mTweepError\u001b[0m                                Traceback (most recent call last)",
      "\u001b[1;32m<ipython-input-42-dac84935eb98>\u001b[0m in \u001b[0;36m<module>\u001b[1;34m\u001b[0m\n\u001b[0;32m      1\u001b[0m \u001b[1;31m# unfollow:\u001b[0m\u001b[1;33m\u001b[0m\u001b[1;33m\u001b[0m\u001b[1;33m\u001b[0m\u001b[0m\n\u001b[1;32m----> 2\u001b[1;33m \u001b[0mapi\u001b[0m\u001b[1;33m.\u001b[0m\u001b[0mdestroy_friendship\u001b[0m\u001b[1;33m(\u001b[0m\u001b[1;34m'@YouTube'\u001b[0m\u001b[1;33m)\u001b[0m\u001b[1;33m\u001b[0m\u001b[1;33m\u001b[0m\u001b[0m\n\u001b[0m",
      "\u001b[1;32m~\\anaconda3\\envs\\deep_learning\\lib\\site-packages\\tweepy\\binder.py\u001b[0m in \u001b[0;36m_call\u001b[1;34m(*args, **kwargs)\u001b[0m\n\u001b[0;32m    251\u001b[0m                 \u001b[1;32mreturn\u001b[0m \u001b[0mmethod\u001b[0m\u001b[1;33m\u001b[0m\u001b[1;33m\u001b[0m\u001b[0m\n\u001b[0;32m    252\u001b[0m             \u001b[1;32melse\u001b[0m\u001b[1;33m:\u001b[0m\u001b[1;33m\u001b[0m\u001b[1;33m\u001b[0m\u001b[0m\n\u001b[1;32m--> 253\u001b[1;33m                 \u001b[1;32mreturn\u001b[0m \u001b[0mmethod\u001b[0m\u001b[1;33m.\u001b[0m\u001b[0mexecute\u001b[0m\u001b[1;33m(\u001b[0m\u001b[1;33m)\u001b[0m\u001b[1;33m\u001b[0m\u001b[1;33m\u001b[0m\u001b[0m\n\u001b[0m\u001b[0;32m    254\u001b[0m         \u001b[1;32mfinally\u001b[0m\u001b[1;33m:\u001b[0m\u001b[1;33m\u001b[0m\u001b[1;33m\u001b[0m\u001b[0m\n\u001b[0;32m    255\u001b[0m             \u001b[0mmethod\u001b[0m\u001b[1;33m.\u001b[0m\u001b[0msession\u001b[0m\u001b[1;33m.\u001b[0m\u001b[0mclose\u001b[0m\u001b[1;33m(\u001b[0m\u001b[1;33m)\u001b[0m\u001b[1;33m\u001b[0m\u001b[1;33m\u001b[0m\u001b[0m\n",
      "\u001b[1;32m~\\anaconda3\\envs\\deep_learning\\lib\\site-packages\\tweepy\\binder.py\u001b[0m in \u001b[0;36mexecute\u001b[1;34m(self)\u001b[0m\n\u001b[0;32m    232\u001b[0m                     \u001b[1;32mraise\u001b[0m \u001b[0mRateLimitError\u001b[0m\u001b[1;33m(\u001b[0m\u001b[0merror_msg\u001b[0m\u001b[1;33m,\u001b[0m \u001b[0mresp\u001b[0m\u001b[1;33m)\u001b[0m\u001b[1;33m\u001b[0m\u001b[1;33m\u001b[0m\u001b[0m\n\u001b[0;32m    233\u001b[0m                 \u001b[1;32melse\u001b[0m\u001b[1;33m:\u001b[0m\u001b[1;33m\u001b[0m\u001b[1;33m\u001b[0m\u001b[0m\n\u001b[1;32m--> 234\u001b[1;33m                     \u001b[1;32mraise\u001b[0m \u001b[0mTweepError\u001b[0m\u001b[1;33m(\u001b[0m\u001b[0merror_msg\u001b[0m\u001b[1;33m,\u001b[0m \u001b[0mresp\u001b[0m\u001b[1;33m,\u001b[0m \u001b[0mapi_code\u001b[0m\u001b[1;33m=\u001b[0m\u001b[0mapi_error_code\u001b[0m\u001b[1;33m)\u001b[0m\u001b[1;33m\u001b[0m\u001b[1;33m\u001b[0m\u001b[0m\n\u001b[0m\u001b[0;32m    235\u001b[0m \u001b[1;33m\u001b[0m\u001b[0m\n\u001b[0;32m    236\u001b[0m             \u001b[1;31m# Parse the response payload\u001b[0m\u001b[1;33m\u001b[0m\u001b[1;33m\u001b[0m\u001b[1;33m\u001b[0m\u001b[0m\n",
      "\u001b[1;31mTweepError\u001b[0m: Read-only application cannot POST."
     ]
    }
   ],
   "source": [
    "# unfollow:\n",
    "api.destroy_friendship('@YouTube')"
   ]
  },
  {
   "cell_type": "code",
   "execution_count": null,
   "metadata": {
    "colab": {},
    "colab_type": "code",
    "id": "ND4BmdkvJhRJ"
   },
   "outputs": [],
   "source": []
  },
  {
   "cell_type": "markdown",
   "metadata": {
    "colab_type": "text",
    "id": "YGIWBU4FJn0V"
   },
   "source": [
    ">\n",
    ">"
   ]
  },
  {
   "cell_type": "markdown",
   "metadata": {
    "colab_type": "text",
    "id": "l_IsftzjJp6w"
   },
   "source": [
    ">\n",
    ">"
   ]
  },
  {
   "cell_type": "markdown",
   "metadata": {
    "colab_type": "text",
    "id": "59l7EOATJrJO"
   },
   "source": [
    "\n",
    "\n",
    "---\n",
    "\n",
    "\n",
    "\n",
    "---\n",
    "\n",
    "\n",
    "\n",
    "> > > > > > > > > © 2019 Institute of Data\n",
    "\n",
    "\n",
    "---\n",
    "\n",
    "\n",
    "\n",
    "---\n",
    "\n",
    "\n",
    "\n"
   ]
  }
 ],
 "metadata": {
  "colab": {
   "collapsed_sections": [],
   "name": "DSIA Lab 2.2.2.ipynb",
   "provenance": []
  },
  "kernelspec": {
   "display_name": "Python 3",
   "language": "python",
   "name": "python3"
  },
  "language_info": {
   "codemirror_mode": {
    "name": "ipython",
    "version": 3
   },
   "file_extension": ".py",
   "mimetype": "text/x-python",
   "name": "python",
   "nbconvert_exporter": "python",
   "pygments_lexer": "ipython3",
   "version": "3.8.5"
  }
 },
 "nbformat": 4,
 "nbformat_minor": 4
}
