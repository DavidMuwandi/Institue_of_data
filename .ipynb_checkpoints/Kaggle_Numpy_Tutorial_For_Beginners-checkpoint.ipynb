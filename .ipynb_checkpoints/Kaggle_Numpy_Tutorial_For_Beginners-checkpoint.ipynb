{
 "cells": [
  {
   "cell_type": "markdown",
   "metadata": {},
   "source": [
    "Kaggle Numpy Tutorial For Beginners\n",
    "\n",
    "This tutorial covers the following topics\n",
    "\n",
    "ndarray\n",
    "Create a specific array\n",
    "Shape and operation\n",
    "Index\n",
    "Mathematics\n",
    "Matrix\n",
    "Random Number"
   ]
  },
  {
   "cell_type": "code",
   "execution_count": 1,
   "metadata": {},
   "outputs": [],
   "source": [
    "import numpy as np\n",
    "import pandas as pd\n"
   ]
  },
  {
   "cell_type": "code",
   "execution_count": 14,
   "metadata": {},
   "outputs": [
    {
     "name": "stdout",
     "output_type": "stream",
     "text": [
      "a: [1 2 3]\n",
      "b: [[1 2 3]\n",
      " [4 5 6]]\n"
     ]
    }
   ],
   "source": [
    "# create Numpy array through array function\n",
    "\n",
    "a = np.array([1,2,3])\n",
    "b = np.array([ (1, 2, 3),( 4, 5, 6)])\n",
    "\n",
    "print(\"a:\" , a)\n",
    "print(\"b:\", b)\n"
   ]
  },
  {
   "cell_type": "code",
   "execution_count": 34,
   "metadata": {},
   "outputs": [
    {
     "name": "stdout",
     "output_type": "stream",
     "text": [
      "a=\n",
      "[1 2 3]\n",
      "a's ndim2\n",
      "a's shape (3,)\n",
      "a's size 3\n",
      "a's dtype int32\n",
      "a's itemsize 4\n",
      "\n",
      "b=\n",
      "[[1 2 3]\n",
      " [4 5 6]]\n",
      "b's ndim 2\n",
      "b's shape (2, 3)\n",
      "b's size 6\n",
      "b's dtype int32\n",
      "b's itemsize 4\n"
     ]
    }
   ],
   "source": [
    "# get the attributes of arrays a & b\n",
    "\n",
    "print('a=')\n",
    "print(a)\n",
    "print(\"a's ndim{}\". format(b.ndim))   # .format() content of {} with ()???\n",
    "print(\"a's shape {}\".format(a.shape))\n",
    "print(\"a's size {}\".format(a.size))\n",
    "print(\"a's dtype {}\".format(a.dtype))\n",
    "print(\"a's itemsize {}\".format(a.itemsize))\n",
    "\n",
    "print('')  # prints a blank line\n",
    "\n",
    "print('b=')\n",
    "print(b)\n",
    "print(\"b's ndim {}\".format(b.ndim))\n",
    "print(\"b's shape {}\".format(b.shape))\n",
    "print(\"b's size {}\".format(b.size))\n",
    "print(\"b's dtype {}\".format(b.dtype))\n",
    "print(\"b's itemsize {}\".format(b.itemsize))\n"
   ]
  },
  {
   "cell_type": "code",
   "execution_count": 50,
   "metadata": {},
   "outputs": [
    {
     "data": {
      "text/plain": [
       "array([[1.+0.j, 2.+0.j],\n",
       "       [3.+0.j, 4.+0.j]])"
      ]
     },
     "execution_count": 50,
     "metadata": {},
     "output_type": "execute_result"
    }
   ],
   "source": [
    "# specify the type of element\n",
    "\n",
    "c = np.array([[1,2], [3,4]], dtype=complex)    #specify complex dtype\n",
    "c"
   ]
  },
  {
   "cell_type": "markdown",
   "metadata": {},
   "source": [
    "CREATE AND SPECIFY ARRAY\n",
    "zeros: used to create an array whose elements are all 0\n",
    "ones: used to create an array whose elements are all 1\n",
    "empty: used to create uninitialized data. so the content is undefined.\n",
    "arange: used to create an array by specifying the scope and step-length\n",
    "linespace: used to create an array by specifying the range and the number of elements\n",
    "random: used to generate random numbers"
   ]
  },
  {
   "cell_type": "code",
   "execution_count": 57,
   "metadata": {},
   "outputs": [
    {
     "name": "stdout",
     "output_type": "stream",
     "text": [
      "np.zeros((2,3)= \n",
      "[[0. 0. 0.]\n",
      " [0. 0. 0.]]\n",
      "\n",
      "np.ones((2,3))= \n",
      "[[1. 1. 1.]\n",
      " [1. 1. 1.]]\n",
      "\n",
      "np.empty((2,3))= \n",
      "[[1. 1. 1.]\n",
      " [1. 1. 1.]]\n",
      "\n",
      "np.arange(1, 2, 0.3)= \n",
      "[1.  1.3 1.6 1.9]\n",
      "\n",
      "np.linspace(1, 2, 7)= \n",
      "[1.         1.16666667 1.33333333 1.5        1.66666667 1.83333333\n",
      " 2.        ]\n",
      "\n",
      "np.random.random((2,3))= \n",
      "[[0.62831069 0.21165632 0.82330679]\n",
      " [0.68759846 0.1267821  0.59527629]]\n",
      "\n"
     ]
    }
   ],
   "source": [
    "a = np.zeros((2,3))\n",
    "print('np.zeros((2,3)= \\n{}\\n'.format(a))\n",
    "\n",
    "b = np.ones((2,3))\n",
    "print('np.ones((2,3))= \\n{}\\n'.format(b))\n",
    "\n",
    "c = np.empty((2,3))\n",
    "print('np.empty((2,3))= \\n{}\\n'.format(c))\n",
    "\n",
    "d = np.arange(1, 2, 0.3)\n",
    "print('np.arange(1, 2, 0.3)= \\n{}\\n'.format(d))\n",
    "\n",
    "e = np.linspace(1, 2, 7)\n",
    "print('np.linspace(1, 2, 7)= \\n{}\\n'.format(e))\n",
    "\n",
    "f = np.random.random((2,3))\n",
    "print('np.random.random((2,3))= \\n{}\\n'.format(f))"
   ]
  },
  {
   "cell_type": "code",
   "execution_count": null,
   "metadata": {},
   "outputs": [],
   "source": [
    "Shape and operation\n",
    "\n",
    "\n",
    "In addition to generating an array, after we have held some data, we may need to generate some new data structures based on the existing array. In this case, we can use the following functions:\n",
    "\n",
    "reshape: used to generate a new array based on the existing array and the specified shape\n",
    "vstack: used to stack multiple arrays in vertical direction (the dimensions of the array must be matched)\n",
    "hstack: used to stack multiple arrays in horizontal direction (the dimensions of the array must be matched)\n",
    "hsplit: used to split the array horizontally\n",
    "vsplit: used to split the array vertically"
   ]
  },
  {
   "cell_type": "code",
   "execution_count": 128,
   "metadata": {},
   "outputs": [
    {
     "name": "stdout",
     "output_type": "stream",
     "text": [
      "[[0. 0. 0.]]\n",
      "\n",
      "[[1.]\n",
      " [1.]\n",
      " [1.]]\n",
      "\n",
      "[[1 2 3]\n",
      " [4 5 6]]\n",
      "\n",
      "[11 12 13 14 15 16 17 18 19]\n"
     ]
    }
   ],
   "source": [
    "# zero_line: an array with a row containing three seros\n",
    "\n",
    "zero_line = np.zeros((1,3))\n",
    "print(zero_line)\n",
    "\n",
    "print('')\n",
    "\n",
    "# one_colummn: an array with column containing three zeros\n",
    "one_column= np.ones((3,1))\n",
    "print(one_column)\n",
    "\n",
    "print(\"\")\n",
    "# a: a  column with 2 rows and 3 columns\n",
    "\n",
    "a =  np.array([(1,2,3), (4,5,6)])\n",
    "print(a)\n",
    "print(\"\")\n",
    "\n",
    "#b:an interger array in the interval [11,20]\n",
    "\n",
    "b= np.arange(11,20)\n",
    "print(b)"
   ]
  },
  {
   "cell_type": "markdown",
   "metadata": {},
   "source": [
    "# Code from keggle. \n",
    "# ?? what is the \\n{}\\n.format doing in the code\n",
    "\n",
    "# \\n - new line (this is an escape  sequence)\n",
    "# {} allows .format () to instert desired item\n",
    "\n",
    "zero_line = np.zeros((1,3))\n",
    "one_column = np.ones((3,1))\n",
    "print(\"zero_line = \\n{}\\n\".format(zero_line))\n",
    "print(\"one_column = \\n{}\\n\".format(one_column))\n",
    "\n",
    "a = np.array([(1,2,3), (4,5,6)])\n",
    "b = np.arange(11, 20)\n",
    "print(\"a = \\n{}\\n\".format(a))\n",
    "print(\"b = \\n{}\\n\".format(b))"
   ]
  },
  {
   "cell_type": "code",
   "execution_count": 129,
   "metadata": {},
   "outputs": [
    {
     "name": "stdout",
     "output_type": "stream",
     "text": [
      "[11 12 13 14 15 16 17 18 19]\n",
      "\n",
      "[[11 12 13]\n",
      " [14 15 16]\n",
      " [17 18 19]]\n"
     ]
    }
   ],
   "source": [
    "# reshape array b \n",
    "\n",
    "print (b)\n",
    "print(\"\")\n",
    "\n",
    "b_reshaped = b.reshape(3,-1) \n",
    "\n",
    "#The second parameter here is set to -1, which means that it'll be determined based on actual conditions automatically.\n",
    "#Since the array has 9 elements originally, the matrix after being resized is 3X3\n",
    "\n",
    "print(b_reshaped)"
   ]
  },
  {
   "cell_type": "code",
   "execution_count": 130,
   "metadata": {},
   "outputs": [
    {
     "name": "stdout",
     "output_type": "stream",
     "text": [
      "c = np.vstack((a,b_reshaped, zero_line)) = \n",
      "[[ 1.  2.  3.]\n",
      " [ 4.  5.  6.]\n",
      " [11. 12. 13.]\n",
      " [14. 15. 16.]\n",
      " [17. 18. 19.]\n",
      " [ 0.  0.  0.]]\n",
      "\n"
     ]
    }
   ],
   "source": [
    "# vertical staking a, b_reshaped , zero_line\n",
    "\n",
    "c = np.vstack((a,b_reshaped,zero_line))\n",
    "print(\"c = np.vstack((a,b_reshaped, zero_line)) = \\n{}\\n\".format(c))\n"
   ]
  },
  {
   "cell_type": "code",
   "execution_count": 131,
   "metadata": {},
   "outputs": [
    {
     "name": "stdout",
     "output_type": "stream",
     "text": [
      "a_reshaped = \n",
      "[[1 2]\n",
      " [3 4]\n",
      " [5 6]]\n",
      "\n",
      "d = np.hstack((a_reshaped, b_reshaped, one_column)) = \n",
      "[[ 1.  2. 11. 12. 13.  1.]\n",
      " [ 3.  4. 14. 15. 16.  1.]\n",
      " [ 5.  6. 17. 18. 19.  1.]]\n",
      "\n"
     ]
    }
   ],
   "source": [
    "# horizontal restrack a_reshaped, b_reshaped, one_column\n",
    "\n",
    "# 1st reshape a to (3X2)\n",
    "\n",
    "a_reshaped = a.reshape(3,2)\n",
    "print(\"a_reshaped = \\n{}\\n\".format(a_reshaped))\n",
    "\n",
    "d = np.hstack((a_reshaped, b_reshaped, one_column))\n",
    "print(\"d = np.hstack((a_reshaped, b_reshaped, one_column)) = \\n{}\\n\".format(d))\n"
   ]
  },
  {
   "cell_type": "code",
   "execution_count": 132,
   "metadata": {},
   "outputs": [
    {
     "name": "stdout",
     "output_type": "stream",
     "text": [
      "e = np.hsplit(d,3) = \n",
      "[array([[1., 2.],\n",
      "       [3., 4.],\n",
      "       [5., 6.]]), array([[11., 12.],\n",
      "       [14., 15.],\n",
      "       [17., 18.]]), array([[13.,  1.],\n",
      "       [16.,  1.],\n",
      "       [19.,  1.]])]\n",
      "\n",
      "e[1] = \n",
      "[[11. 12.]\n",
      " [14. 15.]\n",
      " [17. 18.]]\n",
      "\n"
     ]
    }
   ],
   "source": [
    "# horizontal split d onto 3 \n",
    "\n",
    "e = np.hsplit(d,3)\n",
    "print('e = np.hsplit(d,3) = \\n{}\\n'.format(e))\n",
    "\n",
    "# print out the middle split\n",
    "\n",
    "print(\"e[1] = \\n{}\\n\".format(e[1]))\n"
   ]
  },
  {
   "cell_type": "code",
   "execution_count": 136,
   "metadata": {},
   "outputs": [
    {
     "name": "stdout",
     "output_type": "stream",
     "text": [
      "f = np.hsplit(d,(1,3)) = \n",
      "[array([[1.],\n",
      "       [3.],\n",
      "       [5.]]), array([[ 2., 11.],\n",
      "       [ 4., 14.],\n",
      "       [ 6., 17.]]), array([[12., 13.,  1.],\n",
      "       [15., 16.,  1.],\n",
      "       [18., 19.,  1.]])]\n",
      "\n"
     ]
    }
   ],
   "source": [
    "# Specifiying the number of columns to split. \n",
    "# Spliting d from first column and the 3rd column\n",
    "\n",
    "\n",
    "f = np.hsplit(d,(1,3)) # slpit d after the 1st and the 3rd column\n",
    "print(\"f = np.hsplit(d,(1,3)) = \\n{}\\n\".format(f))"
   ]
  },
  {
   "cell_type": "code",
   "execution_count": 138,
   "metadata": {},
   "outputs": [
    {
     "name": "stdout",
     "output_type": "stream",
     "text": [
      "g = np.vsplit(d,3) = \n",
      "[array([[ 1.,  2., 11., 12., 13.,  1.]]), array([[ 3.,  4., 14., 15., 16.,  1.]]), array([[ 5.,  6., 17., 18., 19.,  1.]])]\n",
      "\n"
     ]
    }
   ],
   "source": [
    "# split d in the vertical direction. \n",
    "\n",
    "g = np.vsplit(d,3)\n",
    "print(\"g = np.vsplit(d,3) = \\n{}\\n\".format(g))"
   ]
  },
  {
   "cell_type": "code",
   "execution_count": 145,
   "metadata": {},
   "outputs": [
    {
     "name": "stdout",
     "output_type": "stream",
     "text": [
      "base_data\n",
      "[100 101 102 103 104 105 106 107 108 109 110 111 112 113 114 115 116 117\n",
      " 118 119 120 121 122 123 124 125 126 127 128 129 130 131 132 133 134 135\n",
      " 136 137 138 139 140 141 142 143 144 145 146 147 148 149 150 151 152 153\n",
      " 154 155 156 157 158 159 160 161 162 163 164 165 166 167 168 169 170 171\n",
      " 172 173 174 175 176 177 178 179 180 181 182 183 184 185 186 187 188 189\n",
      " 190 191 192 193 194 195 196 197 198 199]\n",
      "\n",
      "base_data[10] = 110\n",
      "\n"
     ]
    }
   ],
   "source": [
    "# INDEX\n",
    "\n",
    "#Create a one_dimensional array containing integers in interval of [100,200]\n",
    "\n",
    "base_data = np.arange(100,200)\n",
    "print(\"base_data\\n{}\\n\".format(base_data))\n",
    "\n",
    "# specify subscripts by array[index] e.g index 10\n",
    "print(\"base_data[10] = {}\\n\".format(base_data[10]))"
   ]
  },
  {
   "cell_type": "code",
   "execution_count": 154,
   "metadata": {},
   "outputs": [
    {
     "name": "stdout",
     "output_type": "stream",
     "text": [
      "base_data[every_five] = \n",
      "[100 105 110 115 120 125 130 135 140 145 150 155 160 165 170 175 180 185\n",
      " 190 195]\n",
      "\n"
     ]
    }
   ],
   "source": [
    "# create an array containing several subscripts/elemnts from target array\n",
    "\n",
    "every_five = np.arange(0,100,5)\n",
    "\n",
    "print(\"base_data[every_five] = \\n{}\\n\".format(base_data[every_five]))"
   ]
  },
  {
   "cell_type": "code",
   "execution_count": 163,
   "metadata": {},
   "outputs": [
    {
     "name": "stdout",
     "output_type": "stream",
     "text": [
      "a = \n",
      "[[ 1 20]\n",
      " [10 20]]\n",
      "\n",
      "base_data[a] = \n",
      "[[101 120]\n",
      " [110 120]]\n",
      "\n"
     ]
    }
   ],
   "source": [
    "# subscript array can be one-dimensional, or multi-dimensional.\n",
    "#suppose that we want to get a 2X2 matrix whose content comes from the four subscripts of 1, 2, 10, and 20 in the target array\n",
    "\n",
    "a = np.array([(1,20),(10,20)])\n",
    "print(\"a = \\n{}\\n\".format(a))\n",
    "\n",
    "print(\"base_data[a] = \\n{}\\n\".format(base_data[a]))"
   ]
  },
  {
   "cell_type": "code",
   "execution_count": 169,
   "metadata": {},
   "outputs": [
    {
     "name": "stdout",
     "output_type": "stream",
     "text": [
      "base_data2 = \n",
      "[[100 101 102 103 104 105 106 107 108 109]\n",
      " [110 111 112 113 114 115 116 117 118 119]\n",
      " [120 121 122 123 124 125 126 127 128 129]\n",
      " [130 131 132 133 134 135 136 137 138 139]\n",
      " [140 141 142 143 144 145 146 147 148 149]\n",
      " [150 151 152 153 154 155 156 157 158 159]\n",
      " [160 161 162 163 164 165 166 167 168 169]\n",
      " [170 171 172 173 174 175 176 177 178 179]\n",
      " [180 181 182 183 184 185 186 187 188 189]\n",
      " [190 191 192 193 194 195 196 197 198 199]]\n",
      "\n"
     ]
    }
   ],
   "source": [
    "# reshape base_data into 10x10 array\n",
    "\n",
    "base_data2= base_data.reshape(10,-1)\n",
    "\n",
    "print(\"base_data2 = \\n{}\\n\".format(base_data2))"
   ]
  },
  {
   "cell_type": "code",
   "execution_count": 191,
   "metadata": {},
   "outputs": [
    {
     "name": "stdout",
     "output_type": "stream",
     "text": [
      "base_data2[2] = \n",
      "[120 121 122 123 124 125 126 127 128 129]\n",
      "\n",
      "base_data2[2, 3] = \n",
      "123\n",
      "\n",
      "base_data2[-1, -1] = \n",
      "199\n",
      "\n"
     ]
    }
   ],
   "source": [
    "#For a two-dimensional array,\n",
    "\n",
    "#if we only specify one subscript, the result of the access is still an array.\n",
    "#if we specify two subscripts, the result of the access is the elements inside.\n",
    "#we can also specify the last element by \"-1\".\n",
    "\n",
    "print(\"base_data2[2] = \\n{}\\n\".format(base_data2[2]))\n",
    "print(\"base_data2[2, 3] = \\n{}\\n\".format(base_data2[2, 3]))\n",
    "print(\"base_data2[-1, -1] = \\n{}\\n\".format(base_data2[-1, -1]))"
   ]
  },
  {
   "cell_type": "code",
   "execution_count": 192,
   "metadata": {},
   "outputs": [
    {
     "name": "stdout",
     "output_type": "stream",
     "text": [
      "base_data2[2, :]] = \n",
      "[120 121 122 123 124 125 126 127 128 129]\n",
      "\n",
      "base_data2[:, 3]] = \n",
      "[103 113 123 133 143 153 163 173 183 193]\n",
      "\n",
      "base_data2[2:5, 2:4]] = \n",
      "[[122 123]\n",
      " [132 133]\n",
      " [142 143]]\n",
      "\n"
     ]
    }
   ],
   "source": [
    "#get all the elements of the row whose subscript is 2\n",
    "#get all the elements of the column whose subscript is 3\n",
    "#get all the elements of the rows whose subscripts are in [2,5) and the columns * whose subscripts are in [2,4).\n",
    "\n",
    "print(\"base_data2[2, :]] = \\n{}\\n\".format(base_data2[2, :]))\n",
    "print(\"base_data2[:, 3]] = \\n{}\\n\".format(base_data2[:, 3]))\n",
    "print(\"base_data2[2:5, 2:4]] = \\n{}\\n\".format(base_data2[2:5, 2:4]))"
   ]
  },
  {
   "cell_type": "code",
   "execution_count": 198,
   "metadata": {},
   "outputs": [
    {
     "name": "stdout",
     "output_type": "stream",
     "text": [
      "base_data = \n",
      "[[-49.34420611 -49.95144288 -49.16816199 -49.95714978 -49.71771578]\n",
      " [-49.50388557 -49.9455725  -49.87445539 -49.88938629 -49.00118631]\n",
      " [-49.75818921 -49.83213558 -49.25085083 -49.39560645 -49.94351209]\n",
      " [-49.56244411 -49.77377317 -49.08818324 -49.45093397 -49.43975153]\n",
      " [-49.15834986 -49.54501436 -49.80492047 -49.13457247 -49.01841088]]\n",
      "\n",
      "np.amin(base_data) = -49.95714978174016\n",
      "np.amax(base_data) = -49.001186314343386\n",
      "np.average(base_data) = -49.54039243320331\n",
      "np.sum(base_data) = -1238.5098108300826\n",
      "np.sin(base_data) = \n",
      "[[0.79637421 0.30890316 0.88998874 0.30347036 0.52078197]\n",
      " [0.69007805 0.31448109 0.38113815 0.3672923  0.95339538]\n",
      " [0.48581316 0.41991066 0.84928613 0.76424898 0.31643629]\n",
      " [0.64653856 0.47213336 0.92357384 0.72741585 0.73504356]\n",
      " [0.89441998 0.65973652 0.4444516  0.90480007 0.94805715]]\n"
     ]
    }
   ],
   "source": [
    "\n",
    "# generate a random 5 x 5 array, subtract 0.5 from each element then multilpy each elemen by 100\n",
    "\n",
    "\n",
    "base_data = (np.random.random((5, 5) )- 0.5 *100 ) \n",
    "print(\"base_data = \\n{}\\n\".format(base_data))\n",
    "\n",
    "# perform various mathematical manipulations (min, max, average, sum, sin)\n",
    "\n",
    "print(\"np.amin(base_data) = {}\".format(np.amin(base_data)))\n",
    "print(\"np.amax(base_data) = {}\".format(np.amax(base_data)))\n",
    "print(\"np.average(base_data) = {}\".format(np.average(base_data)))\n",
    "print(\"np.sum(base_data) = {}\".format(np.sum(base_data)))\n",
    "print(\"np.sin(base_data) = \\n{}\".format(np.sin(base_data)))\n"
   ]
  },
  {
   "cell_type": "code",
   "execution_count": 201,
   "metadata": {},
   "outputs": [
    {
     "name": "stdout",
     "output_type": "stream",
     "text": [
      "arr = \n",
      "[ 1  2  3  4  5  6  7  8  9 10 11 12 13 14 15 16 17 18 19]\n",
      "\n",
      "Multpiles:  [  1   4   9  16  25  36  49  64  81 100 121 144 169 196 225 256 289 324\n",
      " 361]\n",
      "Substracts:  [0 0 0 0 0 0 0 0 0 0 0 0 0 0 0 0 0 0 0]\n",
      "Add:  [ 2  4  6  8 10 12 14 16 18 20 22 24 26 28 30 32 34 36 38]\n",
      "Divide:  [1. 1. 1. 1. 1. 1. 1. 1. 1. 1. 1. 1. 1. 1. 1. 1. 1. 1. 1.]\n",
      "Add +50:  [51 52 53 54 55 56 57 58 59 60 61 62 63 64 65 66 67 68 69]\n"
     ]
    }
   ],
   "source": [
    "arr = np.arange(1,20)\n",
    "print(\"arr = \\n{}\\n\".format(arr))\n",
    "arr = arr * arr              #Multiplies each element by itself \n",
    "print(\"Multpiles: \",arr)\n",
    "arr = arr - arr              #Subtracts each element from itself\n",
    "print(\"Substracts: \",arr)\n",
    "arr = np.arange(1,20)\n",
    "arr = arr + arr              #Adds each element to itself\n",
    "print(\"Add: \",arr)\n",
    "arr = arr / arr              #Divides each element by itself\n",
    "print(\"Divide: \",arr)\n",
    "arr = np.arange(1,20)\n",
    "arr = arr + 50\n",
    "print(\"Add +50: \",arr)"
   ]
  },
  {
   "cell_type": "code",
   "execution_count": 202,
   "metadata": {},
   "outputs": [
    {
     "name": "stdout",
     "output_type": "stream",
     "text": [
      "Sqrt:  [7.14142843 7.21110255 7.28010989 7.34846923 7.41619849 7.48331477\n",
      " 7.54983444 7.61577311 7.68114575 7.74596669 7.81024968 7.87400787\n",
      " 7.93725393 8.         8.06225775 8.1240384  8.18535277 8.24621125\n",
      " 8.30662386]\n",
      "Exp:  [1.40934908e+22 3.83100800e+22 1.04137594e+23 2.83075330e+23\n",
      " 7.69478527e+23 2.09165950e+24 5.68572000e+24 1.54553894e+25\n",
      " 4.20121040e+25 1.14200739e+26 3.10429794e+26 8.43835667e+26\n",
      " 2.29378316e+27 6.23514908e+27 1.69488924e+28 4.60718663e+28\n",
      " 1.25236317e+29 3.40427605e+29 9.25378173e+29]\n",
      "Sin:  [ 0.67022918  0.98662759  0.39592515 -0.55878905 -0.99975517 -0.521551\n",
      "  0.43616476  0.99287265  0.63673801 -0.30481062 -0.96611777 -0.7391807\n",
      "  0.1673557   0.92002604  0.82682868 -0.02655115 -0.85551998 -0.89792768\n",
      " -0.11478481]\n",
      "Cos:  [ 0.7421542  -0.16299078 -0.91828279 -0.82930983  0.02212676  0.85322011\n",
      "  0.89986683  0.11918014 -0.77108022 -0.95241298 -0.25810164  0.67350716\n",
      "  0.98589658  0.39185723 -0.56245385 -0.99964746 -0.5177698   0.44014302\n",
      "  0.99339038]\n",
      "Log:  [3.93182563 3.95124372 3.97029191 3.98898405 4.00733319 4.02535169\n",
      " 4.04305127 4.06044301 4.07753744 4.09434456 4.11087386 4.12713439\n",
      " 4.14313473 4.15888308 4.17438727 4.18965474 4.20469262 4.21950771\n",
      " 4.2341065 ]\n",
      "Sum:  1140\n",
      "Std:  5.477225575051661\n"
     ]
    }
   ],
   "source": [
    "print(\"Sqrt: \",np.sqrt(arr))#Returns the square root of each element \n",
    "print(\"Exp: \",np.exp(arr))     #Returns the exponentials of each element\n",
    "print(\"Sin: \",np.sin(arr))     #Returns the sin of each element\n",
    "print(\"Cos: \",np.cos(arr))     #Returns the cosine of each element\n",
    "print(\"Log: \",np.log(arr))     #Returns the logarithm of each element\n",
    "print(\"Sum: \",np.sum(arr))     #Returns the sum total of elements in the array\n",
    "print(\"Std: \",np.std(arr))     #Returns the standard deviation of in the array"
   ]
  },
  {
   "cell_type": "code",
   "execution_count": 205,
   "metadata": {},
   "outputs": [
    {
     "name": "stdout",
     "output_type": "stream",
     "text": [
      "base_data = \n",
      "[[-16. -15. -28.  11.  12.]\n",
      " [-32. -35.  20.  33.   2.]\n",
      " [  2.  28.  13.  31.   5.]\n",
      " [  4.  14.  29.  24. -13.]\n",
      " [ 45.  28. -40.  10.  33.]]\n",
      "\n",
      "base_data.T = \n",
      "[[-16. -32.   2.   4.  45.]\n",
      " [-15. -35.  28.  14.  28.]\n",
      " [-28.  20.  13.  29. -40.]\n",
      " [ 11.  33.  31.  24.  10.]\n",
      " [ 12.   2.   5. -13.  33.]]\n",
      "\n",
      "base_data.transpose() = \n",
      "[[-16. -32.   2.   4.  45.]\n",
      " [-15. -35.  28.  14.  28.]\n",
      " [-28.  20.  13.  29. -40.]\n",
      " [ 11.  33.  31.  24.  10.]\n",
      " [ 12.   2.   5. -13.  33.]]\n",
      "\n",
      "matrix_one = \n",
      "[[1. 1. 1. 1. 1.]\n",
      " [1. 1. 1. 1. 1.]\n",
      " [1. 1. 1. 1. 1.]\n",
      " [1. 1. 1. 1. 1.]\n",
      " [1. 1. 1. 1. 1.]]\n",
      "\n",
      "minus_one = \n",
      "[[-1. -1. -1. -1. -1.]\n",
      " [-1. -1. -1. -1. -1.]\n",
      " [-1. -1. -1. -1. -1.]\n",
      " [-1. -1. -1. -1. -1.]\n",
      " [-1. -1. -1. -1. -1.]]\n",
      "\n",
      "np.dot(base_data, minus_one) = \n",
      "[[ 36.  36.  36.  36.  36.]\n",
      " [ 12.  12.  12.  12.  12.]\n",
      " [-79. -79. -79. -79. -79.]\n",
      " [-58. -58. -58. -58. -58.]\n",
      " [-76. -76. -76. -76. -76.]]\n",
      "\n"
     ]
    }
   ],
   "source": [
    "#create a 5X5 random integer matrix. There are two ways to get the transpose of a matrix: \n",
    "# using : .T or transpose function. In addition, the matrix can be multiplied through the dot function\n",
    "\n",
    "base_data = np.floor((np.random.random((5, 5)) - 0.5) * 100)\n",
    "print(\"base_data = \\n{}\\n\".format(base_data))\n",
    "\n",
    "print(\"base_data.T = \\n{}\\n\".format(base_data.T))\n",
    "print(\"base_data.transpose() = \\n{}\\n\".format(base_data.transpose()))\n",
    "\n",
    "matrix_one = np.ones((5, 5))\n",
    "print(\"matrix_one = \\n{}\\n\".format(matrix_one))\n",
    "\n",
    "minus_one = np.dot(matrix_one, -1)\n",
    "print(\"minus_one = \\n{}\\n\".format(minus_one))\n",
    "\n",
    "print(\"np.dot(base_data, minus_one) = \\n{}\\n\".format(\n",
    "    np.dot(base_data, minus_one)))"
   ]
  },
  {
   "cell_type": "code",
   "execution_count": 207,
   "metadata": {},
   "outputs": [
    {
     "name": "stdout",
     "output_type": "stream",
     "text": [
      "random: [2.26696072e-01 8.85502867e-01 5.85976683e-01 2.05630900e-01\n",
      " 7.75335031e-01 5.41233169e-04 1.17684927e-01 1.66729034e-01\n",
      " 8.13557313e-02 5.87775586e-01 4.47572648e-01 3.39739048e-02\n",
      " 6.40674281e-01 1.23397804e-01 9.08694897e-01 6.92896461e-02\n",
      " 6.36866894e-01 6.37863960e-01 7.57289820e-01 8.16496819e-01]\n",
      "\n",
      "rand: [[0.96936135 0.09120556 0.72355743 0.63525714]\n",
      " [0.31183261 0.94831618 0.74626943 0.6982211 ]\n",
      " [0.47496574 0.14098117 0.46148111 0.22557384]]\n",
      "\n",
      "rand: [[0.50795924 0.38049131 0.18577552 0.8580538 ]\n",
      " [0.5799564  0.82698763 0.51147516 0.53238441]\n",
      " [0.04003941 0.9445508  0.06891473 0.24429408]]\n",
      "\n",
      "permutation: [ 2 15 19  8  5 16  9 13  6 10  0 12 18  7  3  4  1 14 11 17]\n",
      "\n"
     ]
    }
   ],
   "source": [
    "#RANDOM NUMBER\n",
    "\n",
    "# generate 20 random numbers, each of which is between [0.0, 1.0)\n",
    "print(\"random: {}\\n\".format(np.random.random(20)))\n",
    "\n",
    "#generate a random number based on the specified shape\n",
    "print(\"rand: {}\\n\".format(np.random.rand(3, 4)))\n",
    "\n",
    "# generate a specified number (such as 20) of random integers within the specified range (such as [0, 100))\n",
    "print(\"rand: {}\\n\".format(np.random.rand(3, 4)))\n",
    "#disorder the sequence of the existing data ([0, 1, 2, ..., 19]) randomly The output is as follows:\n",
    "print(\"permutation: {}\\n\".format(np.random.permutation(np.arange(20))))"
   ]
  },
  {
   "cell_type": "code",
   "execution_count": null,
   "metadata": {},
   "outputs": [],
   "source": []
  }
 ],
 "metadata": {
  "kernelspec": {
   "display_name": "Python 3",
   "language": "python",
   "name": "python3"
  },
  "language_info": {
   "codemirror_mode": {
    "name": "ipython",
    "version": 3
   },
   "file_extension": ".py",
   "mimetype": "text/x-python",
   "name": "python",
   "nbconvert_exporter": "python",
   "pygments_lexer": "ipython3",
   "version": "3.8.5"
  }
 },
 "nbformat": 4,
 "nbformat_minor": 4
}
