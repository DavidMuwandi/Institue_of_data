{
 "cells": [
  {
   "cell_type": "markdown",
   "metadata": {
    "colab_type": "text",
    "id": "Owk-_RSmVbQc"
   },
   "source": [
    "<div>\n",
    "<img src=https://www.institutedata.com/wp-content/uploads/2019/10/iod_h_tp_primary_c.svg width=\"300\">\n",
    "</div>"
   ]
  },
  {
   "cell_type": "markdown",
   "metadata": {
    "colab_type": "text",
    "id": "8Bf5LD7ZVbQd"
   },
   "source": [
    "# Lab 3.2.2 "
   ]
  },
  {
   "cell_type": "markdown",
   "metadata": {
    "colab_type": "text",
    "id": "8NTE-h8JVbQe"
   },
   "source": [
    "## Statistical Proof"
   ]
  },
  {
   "cell_type": "markdown",
   "metadata": {
    "colab_type": "text",
    "id": "dVaASAlxVbQf"
   },
   "source": [
    "### Part 1: Student's t-Test\n",
    "\n",
    "The *t*-test is probably the most used statistical test. It measures the likelihood that a sample belongs to a given distribution, and incorporates a correction for the finite size of the sample.\n",
    "\n",
    "#### Using the t-test to compare two means\n",
    "\n",
    "Here, suppose we have two sets of measurements and we want to know if they both came from the same distribution.\n",
    "\n",
    "For example, in [this](https://archive.ics.uci.edu/ml/machine-learning-databases/housing/housing.data) dataset these could be age of house in one group and median value of house in another group, and we are testing the null hypothesis that there is no difference between the two groups.\n",
    "\n",
    "#### Collect Data\n",
    "\n",
    "You can find the original data [here](https://archive.ics.uci.edu/ml/machine-learning-databases/housing/housing.data).\n",
    "\n",
    "Data dictionary is available [here](https://www.cs.toronto.edu/~delve/data/boston/bostonDetail.html)."
   ]
  },
  {
   "cell_type": "code",
   "execution_count": 131,
   "metadata": {
    "colab": {},
    "colab_type": "code",
    "id": "K1gDvR8WVbQf"
   },
   "outputs": [],
   "source": [
    "import pandas as pd\n",
    "import numpy as np\n",
    "import math\n",
    "\n",
    "import seaborn as sns\n",
    "import pandas as pd\n",
    "\n",
    "from scipy import stats\n",
    "from matplotlib import pyplot as plt\n",
    "\n",
    "\n",
    "\n",
    "%matplotlib inline"
   ]
  },
  {
   "cell_type": "code",
   "execution_count": 132,
   "metadata": {
    "colab": {},
    "colab_type": "code",
    "id": "tpDR7frKVbQi"
   },
   "outputs": [],
   "source": [
    "names = [\"CRIM\", \"ZN\", \"INDUS\", \"CHAS\", \"NOX\", \"RM\", \"AGE\", \"DIS\", \"RAD\", \"TAX\", \"PTRATIO\", \"B\", \"LSTAT\", \"MEDV\"]\n",
    "data = pd.read_csv(\"housing.data\", header=None, names=names, delim_whitespace=True)"
   ]
  },
  {
   "cell_type": "code",
   "execution_count": 133,
   "metadata": {
    "colab": {},
    "colab_type": "code",
    "id": "ySJiFaU2VbQk"
   },
   "outputs": [
    {
     "data": {
      "text/html": [
       "<div>\n",
       "<style scoped>\n",
       "    .dataframe tbody tr th:only-of-type {\n",
       "        vertical-align: middle;\n",
       "    }\n",
       "\n",
       "    .dataframe tbody tr th {\n",
       "        vertical-align: top;\n",
       "    }\n",
       "\n",
       "    .dataframe thead th {\n",
       "        text-align: right;\n",
       "    }\n",
       "</style>\n",
       "<table border=\"1\" class=\"dataframe\">\n",
       "  <thead>\n",
       "    <tr style=\"text-align: right;\">\n",
       "      <th></th>\n",
       "      <th>CRIM</th>\n",
       "      <th>ZN</th>\n",
       "      <th>INDUS</th>\n",
       "      <th>CHAS</th>\n",
       "      <th>NOX</th>\n",
       "      <th>RM</th>\n",
       "      <th>AGE</th>\n",
       "      <th>DIS</th>\n",
       "      <th>RAD</th>\n",
       "      <th>TAX</th>\n",
       "      <th>PTRATIO</th>\n",
       "      <th>B</th>\n",
       "      <th>LSTAT</th>\n",
       "      <th>MEDV</th>\n",
       "    </tr>\n",
       "  </thead>\n",
       "  <tbody>\n",
       "    <tr>\n",
       "      <th>0</th>\n",
       "      <td>0.00632</td>\n",
       "      <td>18.0</td>\n",
       "      <td>2.31</td>\n",
       "      <td>0</td>\n",
       "      <td>0.538</td>\n",
       "      <td>6.575</td>\n",
       "      <td>65.2</td>\n",
       "      <td>4.0900</td>\n",
       "      <td>1</td>\n",
       "      <td>296.0</td>\n",
       "      <td>15.3</td>\n",
       "      <td>396.90</td>\n",
       "      <td>4.98</td>\n",
       "      <td>24.0</td>\n",
       "    </tr>\n",
       "    <tr>\n",
       "      <th>1</th>\n",
       "      <td>0.02731</td>\n",
       "      <td>0.0</td>\n",
       "      <td>7.07</td>\n",
       "      <td>0</td>\n",
       "      <td>0.469</td>\n",
       "      <td>6.421</td>\n",
       "      <td>78.9</td>\n",
       "      <td>4.9671</td>\n",
       "      <td>2</td>\n",
       "      <td>242.0</td>\n",
       "      <td>17.8</td>\n",
       "      <td>396.90</td>\n",
       "      <td>9.14</td>\n",
       "      <td>21.6</td>\n",
       "    </tr>\n",
       "    <tr>\n",
       "      <th>2</th>\n",
       "      <td>0.02729</td>\n",
       "      <td>0.0</td>\n",
       "      <td>7.07</td>\n",
       "      <td>0</td>\n",
       "      <td>0.469</td>\n",
       "      <td>7.185</td>\n",
       "      <td>61.1</td>\n",
       "      <td>4.9671</td>\n",
       "      <td>2</td>\n",
       "      <td>242.0</td>\n",
       "      <td>17.8</td>\n",
       "      <td>392.83</td>\n",
       "      <td>4.03</td>\n",
       "      <td>34.7</td>\n",
       "    </tr>\n",
       "    <tr>\n",
       "      <th>3</th>\n",
       "      <td>0.03237</td>\n",
       "      <td>0.0</td>\n",
       "      <td>2.18</td>\n",
       "      <td>0</td>\n",
       "      <td>0.458</td>\n",
       "      <td>6.998</td>\n",
       "      <td>45.8</td>\n",
       "      <td>6.0622</td>\n",
       "      <td>3</td>\n",
       "      <td>222.0</td>\n",
       "      <td>18.7</td>\n",
       "      <td>394.63</td>\n",
       "      <td>2.94</td>\n",
       "      <td>33.4</td>\n",
       "    </tr>\n",
       "    <tr>\n",
       "      <th>4</th>\n",
       "      <td>0.06905</td>\n",
       "      <td>0.0</td>\n",
       "      <td>2.18</td>\n",
       "      <td>0</td>\n",
       "      <td>0.458</td>\n",
       "      <td>7.147</td>\n",
       "      <td>54.2</td>\n",
       "      <td>6.0622</td>\n",
       "      <td>3</td>\n",
       "      <td>222.0</td>\n",
       "      <td>18.7</td>\n",
       "      <td>396.90</td>\n",
       "      <td>5.33</td>\n",
       "      <td>36.2</td>\n",
       "    </tr>\n",
       "  </tbody>\n",
       "</table>\n",
       "</div>"
      ],
      "text/plain": [
       "      CRIM    ZN  INDUS  CHAS    NOX     RM   AGE     DIS  RAD    TAX  \\\n",
       "0  0.00632  18.0   2.31     0  0.538  6.575  65.2  4.0900    1  296.0   \n",
       "1  0.02731   0.0   7.07     0  0.469  6.421  78.9  4.9671    2  242.0   \n",
       "2  0.02729   0.0   7.07     0  0.469  7.185  61.1  4.9671    2  242.0   \n",
       "3  0.03237   0.0   2.18     0  0.458  6.998  45.8  6.0622    3  222.0   \n",
       "4  0.06905   0.0   2.18     0  0.458  7.147  54.2  6.0622    3  222.0   \n",
       "\n",
       "   PTRATIO       B  LSTAT  MEDV  \n",
       "0     15.3  396.90   4.98  24.0  \n",
       "1     17.8  396.90   9.14  21.6  \n",
       "2     17.8  392.83   4.03  34.7  \n",
       "3     18.7  394.63   2.94  33.4  \n",
       "4     18.7  396.90   5.33  36.2  "
      ]
     },
     "execution_count": 133,
     "metadata": {},
     "output_type": "execute_result"
    }
   ],
   "source": [
    "# Head\n",
    "\n",
    "data.head()"
   ]
  },
  {
   "cell_type": "code",
   "execution_count": 134,
   "metadata": {
    "colab": {},
    "colab_type": "code",
    "id": "d0scc4_kVbQm"
   },
   "outputs": [
    {
     "data": {
      "text/plain": [
       "(506, 14)"
      ]
     },
     "execution_count": 134,
     "metadata": {},
     "output_type": "execute_result"
    }
   ],
   "source": [
    "# Shape\n",
    "\n",
    "data.shape"
   ]
  },
  {
   "cell_type": "markdown",
   "metadata": {
    "colab_type": "text",
    "id": "nuyPT527VbQo"
   },
   "source": [
    "##### 1. Plot Histogram of `RM`"
   ]
  },
  {
   "cell_type": "code",
   "execution_count": 135,
   "metadata": {
    "colab": {},
    "colab_type": "code",
    "id": "13SA_biyVbQp"
   },
   "outputs": [
    {
     "data": {
      "image/png": "[encoded data removed]",
      "text/plain": [
       "<Figure size 432x288 with 1 Axes>"
      ]
     },
     "metadata": {
      "needs_background": "light"
     },
     "output_type": "display_data"
    }
   ],
   "source": [
    "#  ANSWER\n",
    "\n",
    "AGE = data['RM']\n",
    "AGE.plot(kind = 'hist');"
   ]
  },
  {
   "cell_type": "code",
   "execution_count": 136,
   "metadata": {},
   "outputs": [
    {
     "data": {
      "text/plain": [
       "(array([  2.,   4.,  14.,  45., 177., 151.,  69.,  22.,  13.,   9.]),\n",
       " array([3.561 , 4.0829, 4.6048, 5.1267, 5.6486, 6.1705, 6.6924, 7.2143,\n",
       "        7.7362, 8.2581, 8.78  ]),\n",
       " <BarContainer object of 10 artists>)"
      ]
     },
     "execution_count": 136,
     "metadata": {},
     "output_type": "execute_result"
    },
    {
     "data": {
      "image/png": "[encoded data removed]",
      "text/plain": [
       "<Figure size 432x288 with 1 Axes>"
      ]
     },
     "metadata": {
      "needs_background": "light"
     },
     "output_type": "display_data"
    }
   ],
   "source": [
    "plt.hist(data.RM)"
   ]
  },
  {
   "cell_type": "markdown",
   "metadata": {
    "colab_type": "text",
    "id": "dhLlLDPYVbQr"
   },
   "source": [
    "##### 2. Plot Histogram of `MEDV`"
   ]
  },
  {
   "cell_type": "code",
   "execution_count": 137,
   "metadata": {
    "colab": {},
    "colab_type": "code",
    "id": "kgDOrdZGVbQs"
   },
   "outputs": [
    {
     "data": {
      "text/plain": [
       "(array([ 21.,  55.,  82., 154.,  84.,  41.,  30.,   8.,  10.,  21.]),\n",
       " array([ 5. ,  9.5, 14. , 18.5, 23. , 27.5, 32. , 36.5, 41. , 45.5, 50. ]),\n",
       " <BarContainer object of 10 artists>)"
      ]
     },
     "execution_count": 137,
     "metadata": {},
     "output_type": "execute_result"
    },
    {
     "data": {
      "image/png": "[encoded data removed]",
      "text/plain": [
       "<Figure size 432x288 with 1 Axes>"
      ]
     },
     "metadata": {
      "needs_background": "light"
     },
     "output_type": "display_data"
    }
   ],
   "source": [
    "# ANSWER\n",
    "\n",
    "plt.hist(data.MEDV)"
   ]
  },
  {
   "cell_type": "markdown",
   "metadata": {
    "colab_type": "text",
    "id": "4Gt-bOwoVbQu"
   },
   "source": [
    "##### 3.A Draw Scatter Plot of `RM` & `MEDV`"
   ]
  },
  {
   "cell_type": "code",
   "execution_count": 138,
   "metadata": {
    "colab": {},
    "colab_type": "code",
    "id": "5biDWDUcVbQu"
   },
   "outputs": [
    {
     "data": {
      "text/plain": [
       "<seaborn.axisgrid.FacetGrid at 0x225a4bb7dc0>"
      ]
     },
     "execution_count": 138,
     "metadata": {},
     "output_type": "execute_result"
    },
    {
     "data": {
      "image/png": "[encoded data removed]",
      "text/plain": [
       "<Figure size 360x360 with 1 Axes>"
      ]
     },
     "metadata": {
      "needs_background": "light"
     },
     "output_type": "display_data"
    }
   ],
   "source": [
    "# ANSWER\n",
    " \n",
    "sns.lmplot(x =\"RM\", y = \"MEDV\", data = data)"
   ]
  },
  {
   "cell_type": "code",
   "execution_count": 139,
   "metadata": {},
   "outputs": [
    {
     "data": {
      "text/plain": [
       "CRIM      -0.219247\n",
       "ZN         0.311991\n",
       "INDUS     -0.391676\n",
       "CHAS       0.091251\n",
       "NOX       -0.302188\n",
       "RM         1.000000\n",
       "AGE       -0.240265\n",
       "DIS        0.205246\n",
       "RAD       -0.209847\n",
       "TAX       -0.292048\n",
       "PTRATIO   -0.355501\n",
       "B          0.128069\n",
       "LSTAT     -0.613808\n",
       "MEDV       0.695360\n",
       "Name: RM, dtype: float64"
      ]
     },
     "execution_count": 139,
     "metadata": {},
     "output_type": "execute_result"
    }
   ],
   "source": [
    "data.corr()['RM']"
   ]
  },
  {
   "cell_type": "code",
   "execution_count": 140,
   "metadata": {},
   "outputs": [
    {
     "data": {
      "text/plain": [
       "6.284634387351779"
      ]
     },
     "execution_count": 140,
     "metadata": {},
     "output_type": "execute_result"
    }
   ],
   "source": [
    "data[\"RM\"].mean()"
   ]
  },
  {
   "cell_type": "markdown",
   "metadata": {
    "colab_type": "text",
    "id": "AtenHV2AVbQw"
   },
   "source": [
    "##### 3.B Is there any trend? State your observation."
   ]
  },
  {
   "cell_type": "markdown",
   "metadata": {
    "colab_type": "text",
    "id": "B1Nsn8LVVbQx"
   },
   "source": [
    "**ANSWER:**: ..."
   ]
  },
  {
   "cell_type": "markdown",
   "metadata": {
    "colab_type": "text",
    "id": "y03aU6p5VbQy"
   },
   "source": [
    "We'll be using following steps:\n",
    "\n",
    "- Define hypothesis\n",
    "- Set alpha (Let alpha = 0.05)\n",
    "- Calculate point estimate\n",
    "- Calculate test statistic\n",
    "- Find the p-value\n",
    "- Interpret results"
   ]
  },
  {
   "cell_type": "markdown",
   "metadata": {
    "colab_type": "text",
    "id": "vOUCadVJVbQy"
   },
   "source": [
    "##### 4. Define Hypothesis\n",
    "\n",
    "Let's assume if `RM` of house is more than 6, they are large house. Other houses are small. Price of houses increases when the `RM` increases.\n",
    "\n",
    "**ANSWER:**\n",
    "\n",
    "    H0: There is no difference between distribution of `Large House` & `Small House`\n",
    "    H1: There is difference between distribution of `Large House` & `Small House`\n",
    "    \n",
    "**[Note]** _If you want you can explore the dataset and define different hypothesis._"
   ]
  },
  {
   "cell_type": "markdown",
   "metadata": {
    "colab_type": "text",
    "id": "s-enrQ2SVbQz"
   },
   "source": [
    "##### 5. Set alpha (Let alpha = 0.05)"
   ]
  },
  {
   "cell_type": "markdown",
   "metadata": {
    "colab_type": "text",
    "id": "hHliQn5zVbQ0"
   },
   "source": [
    "First, we should specify our criterion for statistical significance. Traditionally, we allow for no more than a 1-in-20 chance of a spurious rejection of the null hypothesis:"
   ]
  },
  {
   "cell_type": "code",
   "execution_count": 141,
   "metadata": {
    "colab": {},
    "colab_type": "code",
    "id": "a8aZM8buVbQ0"
   },
   "outputs": [],
   "source": [
    "# ANSWER\n",
    "\n",
    "alpha = 0.05"
   ]
  },
  {
   "cell_type": "markdown",
   "metadata": {
    "colab_type": "text",
    "id": "tQUl-zrRVbQ2"
   },
   "source": [
    "##### 6. Set Data\n",
    "\n",
    "Now, let's create two sets of data \n",
    "- Large House: House which have more than 6 rooms.\n",
    "- Small House: House which have less than 6 rooms.\n",
    "\n",
    "Take sample of 100 house in each dataste."
   ]
  },
  {
   "cell_type": "code",
   "execution_count": 177,
   "metadata": {
    "colab": {},
    "colab_type": "code",
    "id": "AX-ycxPFVbQ3"
   },
   "outputs": [],
   "source": [
    "# ANSWER\n",
    "\n",
    "N = 100\n",
    "\n",
    "medv_over_6 = data[data['RM'] > 6]['MEDV'].sample(N)\n",
    "medv_under_6 = data[data['RM'] <= 6]['MEDV'].sample(N)\n"
   ]
  },
  {
   "cell_type": "code",
   "execution_count": 178,
   "metadata": {},
   "outputs": [],
   "source": [
    "small_house = medv_under_6\n",
    "large_house = medv_over_6"
   ]
  },
  {
   "cell_type": "code",
   "execution_count": 179,
   "metadata": {},
   "outputs": [
    {
     "data": {
      "text/plain": [
       "395    13.1\n",
       "318    23.1\n",
       "176    23.2\n",
       "159    23.3\n",
       "376    13.9\n",
       "       ... \n",
       "186    50.0\n",
       "435    13.4\n",
       "421    14.2\n",
       "287    23.2\n",
       "409    27.5\n",
       "Name: MEDV, Length: 100, dtype: float64"
      ]
     },
     "execution_count": 179,
     "metadata": {},
     "output_type": "execute_result"
    }
   ],
   "source": [
    "medv_over_6"
   ]
  },
  {
   "cell_type": "code",
   "execution_count": 180,
   "metadata": {},
   "outputs": [
    {
     "data": {
      "text/plain": [
       "118    20.4\n",
       "106    19.5\n",
       "21     19.6\n",
       "143    15.6\n",
       "8      16.5\n",
       "       ... \n",
       "490     8.1\n",
       "105    19.5\n",
       "24     15.6\n",
       "172    23.1\n",
       "405     5.0\n",
       "Name: MEDV, Length: 100, dtype: float64"
      ]
     },
     "execution_count": 180,
     "metadata": {},
     "output_type": "execute_result"
    }
   ],
   "source": [
    "medv_under_6"
   ]
  },
  {
   "cell_type": "markdown",
   "metadata": {
    "colab_type": "text",
    "id": "uyXzqCI3VbQ5"
   },
   "source": [
    "##### 6.A [BONUS] Build histogram for both `Large House` & `Small House`"
   ]
  },
  {
   "cell_type": "code",
   "execution_count": 181,
   "metadata": {
    "colab": {},
    "colab_type": "code",
    "id": "USRdEfwzVbQ5"
   },
   "outputs": [
    {
     "data": {
      "image/png": "[encoded data removed]",
      "text/plain": [
       "<Figure size 720x720 with 1 Axes>"
      ]
     },
     "metadata": {
      "needs_background": "light"
     },
     "output_type": "display_data"
    },
    {
     "data": {
      "image/png": "[encoded data removed]",
      "text/plain": [
       "<Figure size 360x360 with 1 Axes>"
      ]
     },
     "metadata": {
      "needs_background": "light"
     },
     "output_type": "display_data"
    },
    {
     "data": {
      "image/png": "[encoded data removed]",
      "text/plain": [
       "<Figure size 360x360 with 1 Axes>"
      ]
     },
     "metadata": {
      "needs_background": "light"
     },
     "output_type": "display_data"
    }
   ],
   "source": [
    "# ANSWER\n",
    "\n",
    "fig, ax = plt.subplots(figsize=(10,10))\n",
    "ax = sns.displot(medv_over_6, label =\"Large house\", kde = True)\n",
    "ax = sns.displot(medv_under_6,label = 'Small house', kde = True)\n",
    "plt.legend(loc = 'upper right')\n",
    "plt.xlabel('')\n",
    "plt.ylabel('')\n",
    "plt.show()\n"
   ]
  },
  {
   "cell_type": "code",
   "execution_count": 110,
   "metadata": {},
   "outputs": [
    {
     "name": "stderr",
     "output_type": "stream",
     "text": [
      "C:\\Users\\dmuwa\\anaconda3\\envs\\Python 38\\lib\\site-packages\\seaborn\\distributions.py:2557: FutureWarning: `distplot` is a deprecated function and will be removed in a future version. Please adapt your code to use either `displot` (a figure-level function with similar flexibility) or `histplot` (an axes-level function for histograms).\n",
      "  warnings.warn(msg, FutureWarning)\n",
      "C:\\Users\\dmuwa\\anaconda3\\envs\\Python 38\\lib\\site-packages\\seaborn\\distributions.py:2557: FutureWarning: `distplot` is a deprecated function and will be removed in a future version. Please adapt your code to use either `displot` (a figure-level function with similar flexibility) or `histplot` (an axes-level function for histograms).\n",
      "  warnings.warn(msg, FutureWarning)\n"
     ]
    },
    {
     "data": {
      "image/png": "[encoded data removed]",
      "text/plain": [
       "<Figure size 864x720 with 1 Axes>"
      ]
     },
     "metadata": {
      "needs_background": "light"
     },
     "output_type": "display_data"
    }
   ],
   "source": [
    "plt.figure(figsize = (12,10))\n",
    "\n",
    "for a in [medv_over_6, medv_under_6]:\n",
    "    sns.distplot(a, kde=True)"
   ]
  },
  {
   "cell_type": "code",
   "execution_count": 147,
   "metadata": {},
   "outputs": [],
   "source": [
    "from sklearn.preprocessing import PowerTransformer, QuantileTransformer\n",
    "\n",
    "power = PowerTransformer()\n",
    "quan = QuantileTransformer()"
   ]
  },
  {
   "cell_type": "code",
   "execution_count": 148,
   "metadata": {},
   "outputs": [],
   "source": [
    "y = power.fit_transform(data[['B']])\n"
   ]
  },
  {
   "cell_type": "code",
   "execution_count": 149,
   "metadata": {},
   "outputs": [
    {
     "name": "stderr",
     "output_type": "stream",
     "text": [
      "C:\\Users\\dmuwa\\anaconda3\\envs\\Python 38\\lib\\site-packages\\sklearn\\preprocessing\\_data.py:2612: UserWarning: n_quantiles (1000) is greater than the total number of samples (506). n_quantiles is set to n_samples.\n",
      "  warnings.warn(\"n_quantiles (%s) is greater than the total number \"\n"
     ]
    },
    {
     "data": {
      "text/plain": [
       "array([[1.        ],\n",
       "       [1.        ],\n",
       "       [0.55643564],\n",
       "       [0.64950495],\n",
       "       [1.        ],\n",
       "       [0.63069307],\n",
       "       [0.71584158],\n",
       "       [1.        ],\n",
       "       [0.37425743],\n",
       "       [0.37623762],\n",
       "       [0.53663366],\n",
       "       [1.        ],\n",
       "       [0.45940594],\n",
       "       [1.        ],\n",
       "       [0.30891089],\n",
       "       [0.71980198],\n",
       "       [0.38217822],\n",
       "       [0.38019802],\n",
       "       [0.0990099 ],\n",
       "       [0.48118812],\n",
       "       [0.26336634],\n",
       "       [0.53861386],\n",
       "       [1.        ],\n",
       "       [0.64554455],\n",
       "       [0.63564356],\n",
       "       [0.10891089],\n",
       "       [0.27128713],\n",
       "       [0.11287129],\n",
       "       [0.3980198 ],\n",
       "       [0.31089109],\n",
       "       [0.19009901],\n",
       "       [0.26732673],\n",
       "       [0.08118812],\n",
       "       [0.18613861],\n",
       "       [0.08712871],\n",
       "       [1.        ],\n",
       "       [0.28316832],\n",
       "       [1.        ],\n",
       "       [0.59207921],\n",
       "       [0.72376238],\n",
       "       [0.71980198],\n",
       "       [0.35643564],\n",
       "       [0.33267327],\n",
       "       [0.63960396],\n",
       "       [0.42772277],\n",
       "       [1.        ],\n",
       "       [1.        ],\n",
       "       [0.54653465],\n",
       "       [1.        ],\n",
       "       [1.        ],\n",
       "       [0.70594059],\n",
       "       [0.62178218],\n",
       "       [1.        ],\n",
       "       [1.        ],\n",
       "       [1.        ],\n",
       "       [0.73663366],\n",
       "       [1.        ],\n",
       "       [0.56237624],\n",
       "       [0.46534653],\n",
       "       [1.        ],\n",
       "       [0.67821782],\n",
       "       [0.29108911],\n",
       "       [1.        ],\n",
       "       [0.70990099],\n",
       "       [0.57425743],\n",
       "       [1.        ],\n",
       "       [1.        ],\n",
       "       [0.74752475],\n",
       "       [1.        ],\n",
       "       [1.        ],\n",
       "       [0.33663366],\n",
       "       [0.27326733],\n",
       "       [0.47524752],\n",
       "       [0.27920792],\n",
       "       [0.66534653],\n",
       "       [0.32673267],\n",
       "       [0.23564356],\n",
       "       [0.38613861],\n",
       "       [0.37227723],\n",
       "       [0.74158416],\n",
       "       [1.        ],\n",
       "       [0.72376238],\n",
       "       [1.        ],\n",
       "       [0.46336634],\n",
       "       [1.        ],\n",
       "       [0.52871287],\n",
       "       [0.73861386],\n",
       "       [0.68118812],\n",
       "       [1.        ],\n",
       "       [0.74158416],\n",
       "       [0.52277228],\n",
       "       [0.6019802 ],\n",
       "       [0.67128713],\n",
       "       [0.75841584],\n",
       "       [1.        ],\n",
       "       [0.18415842],\n",
       "       [0.50891089],\n",
       "       [1.        ],\n",
       "       [0.6       ],\n",
       "       [1.        ],\n",
       "       [0.65940594],\n",
       "       [0.70990099],\n",
       "       [0.04554455],\n",
       "       [0.64158416],\n",
       "       [0.54455446],\n",
       "       [0.62574257],\n",
       "       [0.72673267],\n",
       "       [0.39405941],\n",
       "       [0.68910891],\n",
       "       [0.48910891],\n",
       "       [0.5980198 ],\n",
       "       [0.71287129],\n",
       "       [0.66732673],\n",
       "       [1.        ],\n",
       "       [0.41980198],\n",
       "       [0.15247525],\n",
       "       [0.58019802],\n",
       "       [0.64356436],\n",
       "       [0.14059406],\n",
       "       [0.5029703 ],\n",
       "       [0.42376238],\n",
       "       [0.28514851],\n",
       "       [0.29306931],\n",
       "       [0.21584158],\n",
       "       [0.3029703 ],\n",
       "       [0.35049505],\n",
       "       [0.18811881],\n",
       "       [0.52079208],\n",
       "       [1.        ],\n",
       "       [1.        ],\n",
       "       [0.67326733],\n",
       "       [1.        ],\n",
       "       [0.36039604],\n",
       "       [0.41782178],\n",
       "       [0.09306931],\n",
       "       [0.65148515],\n",
       "       [0.2950495 ],\n",
       "       [0.62772277],\n",
       "       [0.51683168],\n",
       "       [1.        ],\n",
       "       [0.4019802 ],\n",
       "       [1.        ],\n",
       "       [1.        ],\n",
       "       [1.        ],\n",
       "       [1.        ],\n",
       "       [0.07326733],\n",
       "       [0.07128713],\n",
       "       [0.50693069],\n",
       "       [0.18217822],\n",
       "       [0.16633663],\n",
       "       [0.23168317],\n",
       "       [0.14554455],\n",
       "       [0.14851485],\n",
       "       [0.09108911],\n",
       "       [0.12673267],\n",
       "       [0.05148515],\n",
       "       [0.05544554],\n",
       "       [0.1980198 ],\n",
       "       [0.17227723],\n",
       "       [0.2       ],\n",
       "       [0.14257426],\n",
       "       [0.23762376],\n",
       "       [0.43366337],\n",
       "       [0.40891089],\n",
       "       [0.67821782],\n",
       "       [0.08316832],\n",
       "       [0.21188119],\n",
       "       [0.07920792],\n",
       "       [0.1049505 ],\n",
       "       [0.13069307],\n",
       "       [0.1029703 ],\n",
       "       [0.15643564],\n",
       "       [1.        ],\n",
       "       [0.7009901 ],\n",
       "       [0.57128713],\n",
       "       [0.48316832],\n",
       "       [0.57128713],\n",
       "       [0.71584158],\n",
       "       [0.49306931],\n",
       "       [1.        ],\n",
       "       [0.70594059],\n",
       "       [1.        ],\n",
       "       [0.63069307],\n",
       "       [1.        ],\n",
       "       [0.48514851],\n",
       "       [0.38811881],\n",
       "       [0.54059406],\n",
       "       [0.61980198],\n",
       "       [0.32475248],\n",
       "       [1.        ],\n",
       "       [0.28712871],\n",
       "       [0.43861386],\n",
       "       [0.45742574],\n",
       "       [0.58514851],\n",
       "       [0.26534653],\n",
       "       [0.63366337],\n",
       "       [1.        ],\n",
       "       [0.17425743],\n",
       "       [0.52475248],\n",
       "       [1.        ],\n",
       "       [0.34257426],\n",
       "       [0.61584158],\n",
       "       [0.6970297 ],\n",
       "       [0.54950495],\n",
       "       [0.46138614],\n",
       "       [1.        ],\n",
       "       [0.66336634],\n",
       "       [0.43168317],\n",
       "       [0.31683168],\n",
       "       [1.        ],\n",
       "       [0.57623762],\n",
       "       [0.68910891],\n",
       "       [0.47821782],\n",
       "       [0.36237624],\n",
       "       [0.15841584],\n",
       "       [0.6039604 ],\n",
       "       [0.55346535],\n",
       "       [0.54950495],\n",
       "       [1.        ],\n",
       "       [0.61188119],\n",
       "       [0.5049505 ],\n",
       "       [0.68910891],\n",
       "       [0.45346535],\n",
       "       [1.        ],\n",
       "       [0.35247525],\n",
       "       [0.31881188],\n",
       "       [0.39207921],\n",
       "       [0.22574257],\n",
       "       [0.28118812],\n",
       "       [0.31287129],\n",
       "       [0.2970297 ],\n",
       "       [0.26039604],\n",
       "       [0.36435644],\n",
       "       [0.3009901 ],\n",
       "       [0.19207921],\n",
       "       [0.26930693],\n",
       "       [0.40891089],\n",
       "       [0.44554455],\n",
       "       [0.3049505 ],\n",
       "       [0.33861386],\n",
       "       [0.49108911],\n",
       "       [0.64752475],\n",
       "       [0.22970297],\n",
       "       [0.24455446],\n",
       "       [0.22772277],\n",
       "       [0.42178218],\n",
       "       [0.44950495],\n",
       "       [0.26039604],\n",
       "       [0.24455446],\n",
       "       [0.61188119],\n",
       "       [0.75445545],\n",
       "       [0.27623762],\n",
       "       [0.36831683],\n",
       "       [1.        ],\n",
       "       [0.56039604],\n",
       "       [0.68316832],\n",
       "       [0.37029703],\n",
       "       [0.43564356],\n",
       "       [0.32871287],\n",
       "       [0.51089109],\n",
       "       [0.55346535],\n",
       "       [0.40594059],\n",
       "       [0.38415842],\n",
       "       [0.59009901],\n",
       "       [0.3960396 ],\n",
       "       [0.53267327],\n",
       "       [0.34059406],\n",
       "       [0.34653465],\n",
       "       [0.45148515],\n",
       "       [0.4960396 ],\n",
       "       [0.41584158],\n",
       "       [1.        ],\n",
       "       [0.66930693],\n",
       "       [0.47128713],\n",
       "       [1.        ],\n",
       "       [1.        ],\n",
       "       [0.42574257],\n",
       "       [0.5950495 ],\n",
       "       [1.        ],\n",
       "       [1.        ],\n",
       "       [0.39009901],\n",
       "       [0.52673267],\n",
       "       [0.27623762],\n",
       "       [0.7029703 ],\n",
       "       [0.65445545],\n",
       "       [0.65445545],\n",
       "       [0.14554455],\n",
       "       [1.        ],\n",
       "       [1.        ],\n",
       "       [0.22376238],\n",
       "       [1.        ],\n",
       "       [1.        ],\n",
       "       [1.        ],\n",
       "       [1.        ],\n",
       "       [1.        ],\n",
       "       [1.        ],\n",
       "       [0.55841584],\n",
       "       [1.        ],\n",
       "       [0.20594059],\n",
       "       [0.22178218],\n",
       "       [0.47326733],\n",
       "       [0.73267327],\n",
       "       [0.33465347],\n",
       "       [0.45544554],\n",
       "       [0.60693069],\n",
       "       [0.58217822],\n",
       "       [1.        ],\n",
       "       [1.        ],\n",
       "       [1.        ],\n",
       "       [0.75247525],\n",
       "       [0.16237624],\n",
       "       [1.        ],\n",
       "       [0.75643564],\n",
       "       [0.58811881],\n",
       "       [0.72970297],\n",
       "       [0.76039604],\n",
       "       [0.46732673],\n",
       "       [1.        ],\n",
       "       [0.68514851],\n",
       "       [0.75049505],\n",
       "       [1.        ],\n",
       "       [1.        ],\n",
       "       [1.        ],\n",
       "       [0.48712871],\n",
       "       [1.        ],\n",
       "       [0.60693069],\n",
       "       [1.        ],\n",
       "       [1.        ],\n",
       "       [0.32079208],\n",
       "       [0.24752475],\n",
       "       [0.20792079],\n",
       "       [0.62376238],\n",
       "       [0.19405941],\n",
       "       [0.43861386],\n",
       "       [0.42970297],\n",
       "       [1.        ],\n",
       "       [1.        ],\n",
       "       [0.66138614],\n",
       "       [0.74455446],\n",
       "       [1.        ],\n",
       "       [1.        ],\n",
       "       [0.65742574],\n",
       "       [0.44356436],\n",
       "       [1.        ],\n",
       "       [0.4       ],\n",
       "       [0.35841584],\n",
       "       [0.2019802 ],\n",
       "       [0.53465347],\n",
       "       [0.47821782],\n",
       "       [0.44158416],\n",
       "       [1.        ],\n",
       "       [0.21980198],\n",
       "       [0.53069307],\n",
       "       [0.34455446],\n",
       "       [0.32277228],\n",
       "       [0.25544554],\n",
       "       [0.28910891],\n",
       "       [0.4960396 ],\n",
       "       [0.6990099 ],\n",
       "       [0.46930693],\n",
       "       [0.23960396],\n",
       "       [0.16435644],\n",
       "       [0.31485149],\n",
       "       [0.17029703],\n",
       "       [0.17623762],\n",
       "       [0.17821782],\n",
       "       [0.11683168],\n",
       "       [0.06930693],\n",
       "       [0.25148515],\n",
       "       [0.24950495],\n",
       "       [0.51881188],\n",
       "       [0.2039604 ],\n",
       "       [0.15445545],\n",
       "       [1.        ],\n",
       "       [1.        ],\n",
       "       [1.        ],\n",
       "       [0.1960396 ],\n",
       "       [1.        ],\n",
       "       [1.        ],\n",
       "       [0.61188119],\n",
       "       [1.        ],\n",
       "       [1.        ],\n",
       "       [1.        ],\n",
       "       [1.        ],\n",
       "       [0.0970297 ],\n",
       "       [1.        ],\n",
       "       [1.        ],\n",
       "       [1.        ],\n",
       "       [0.23366337],\n",
       "       [1.        ],\n",
       "       [0.63762376],\n",
       "       [0.2990099 ],\n",
       "       [1.        ],\n",
       "       [1.        ],\n",
       "       [1.        ],\n",
       "       [0.51287129],\n",
       "       [1.        ],\n",
       "       [0.56831683],\n",
       "       [1.        ],\n",
       "       [0.13861386],\n",
       "       [1.        ],\n",
       "       [1.        ],\n",
       "       [0.25742574],\n",
       "       [1.        ],\n",
       "       [0.12871287],\n",
       "       [0.34851485],\n",
       "       [0.21386139],\n",
       "       [0.13465347],\n",
       "       [0.11485149],\n",
       "       [0.07524752],\n",
       "       [0.0039604 ],\n",
       "       [0.03366337],\n",
       "       [0.03168317],\n",
       "       [0.07722772],\n",
       "       [0.05346535],\n",
       "       [0.02772277],\n",
       "       [0.02178218],\n",
       "       [0.06732673],\n",
       "       [0.01782178],\n",
       "       [0.03762376],\n",
       "       [0.12277228],\n",
       "       [0.12475248],\n",
       "       [0.1009901 ],\n",
       "       [0.0019802 ],\n",
       "       [0.00792079],\n",
       "       [0.01188119],\n",
       "       [0.02574257],\n",
       "       [0.01980198],\n",
       "       [0.05742574],\n",
       "       [0.04158416],\n",
       "       [0.04950495],\n",
       "       [0.04752475],\n",
       "       [0.05940594],\n",
       "       [0.06138614],\n",
       "       [0.06336634],\n",
       "       [0.06534653],\n",
       "       [0.02970297],\n",
       "       [0.01386139],\n",
       "       [0.04356436],\n",
       "       [1.        ],\n",
       "       [0.5009901 ],\n",
       "       [0.36633663],\n",
       "       [0.72970297],\n",
       "       [0.37821782],\n",
       "       [0.08514851],\n",
       "       [0.03564356],\n",
       "       [0.11881188],\n",
       "       [0.41188119],\n",
       "       [1.        ],\n",
       "       [0.11089109],\n",
       "       [0.        ],\n",
       "       [0.18019802],\n",
       "       [0.35445545],\n",
       "       [0.25346535],\n",
       "       [0.00990099],\n",
       "       [0.03960396],\n",
       "       [0.01584158],\n",
       "       [0.00594059],\n",
       "       [0.0950495 ],\n",
       "       [1.        ],\n",
       "       [0.08910891],\n",
       "       [0.4990099 ],\n",
       "       [1.        ],\n",
       "       [0.61782178],\n",
       "       [1.        ],\n",
       "       [0.13663366],\n",
       "       [0.02376238],\n",
       "       [0.13267327],\n",
       "       [0.20990099],\n",
       "       [1.        ],\n",
       "       [1.        ],\n",
       "       [0.6950495 ],\n",
       "       [0.58514851],\n",
       "       [0.24158416],\n",
       "       [0.16831683],\n",
       "       [0.10693069],\n",
       "       [0.74752475],\n",
       "       [0.16039604],\n",
       "       [0.30693069],\n",
       "       [0.33069307],\n",
       "       [1.        ],\n",
       "       [0.56633663],\n",
       "       [0.69306931],\n",
       "       [0.56435644],\n",
       "       [0.21782178],\n",
       "       [0.41386139],\n",
       "       [0.54257426],\n",
       "       [0.4039604 ],\n",
       "       [0.67524752],\n",
       "       [0.15049505],\n",
       "       [0.12079208],\n",
       "       [0.44752475],\n",
       "       [1.        ],\n",
       "       [1.        ],\n",
       "       [1.        ],\n",
       "       [0.57821782],\n",
       "       [1.        ],\n",
       "       [1.        ],\n",
       "       [1.        ],\n",
       "       [0.73465347],\n",
       "       [1.        ],\n",
       "       [0.51485149],\n",
       "       [1.        ],\n",
       "       [1.        ],\n",
       "       [0.5950495 ],\n",
       "       [1.        ]])"
      ]
     },
     "execution_count": 149,
     "metadata": {},
     "output_type": "execute_result"
    }
   ],
   "source": [
    "x = quan.fit_transform(data[['B']])\n",
    "x"
   ]
  },
  {
   "cell_type": "code",
   "execution_count": 150,
   "metadata": {},
   "outputs": [
    {
     "data": {
      "image/png": "[encoded data removed]",
      "text/plain": [
       "<Figure size 432x288 with 1 Axes>"
      ]
     },
     "metadata": {
      "needs_background": "light"
     },
     "output_type": "display_data"
    }
   ],
   "source": [
    "#plot hist of quantile transformed values\n",
    "plt.hist(x, bins = 100)\n",
    "plt.show()"
   ]
  },
  {
   "cell_type": "code",
   "execution_count": 151,
   "metadata": {},
   "outputs": [
    {
     "data": {
      "text/plain": [
       "(array([ 36.,   0.,   3.,   0.,   1.,   0.,   2.,   2.,   1.,   1.,   2.,\n",
       "          0.,   1.,   0.,   1.,   3.,   1.,   0.,   4.,   0.,   1.,   4.,\n",
       "          2.,   0.,   2.,   2.,   1.,   3.,   3.,   2.,   4.,   3.,   7.,\n",
       "          2.,   4.,   3.,   3.,   3.,   5.,   8.,  13.,  20.,   8.,   9.,\n",
       "         15.,  19.,  27.,  42.,  61., 172.]),\n",
       " array([-2.7975078 , -2.72890251, -2.66029722, -2.59169193, -2.52308664,\n",
       "        -2.45448135, -2.38587606, -2.31727077, -2.24866548, -2.18006019,\n",
       "        -2.1114549 , -2.04284961, -1.97424432, -1.90563903, -1.83703374,\n",
       "        -1.76842845, -1.69982316, -1.63121787, -1.56261258, -1.49400728,\n",
       "        -1.42540199, -1.3567967 , -1.28819141, -1.21958612, -1.15098083,\n",
       "        -1.08237554, -1.01377025, -0.94516496, -0.87655967, -0.80795438,\n",
       "        -0.73934909, -0.6707438 , -0.60213851, -0.53353322, -0.46492793,\n",
       "        -0.39632264, -0.32771735, -0.25911206, -0.19050677, -0.12190148,\n",
       "        -0.05329618,  0.01530911,  0.0839144 ,  0.15251969,  0.22112498,\n",
       "         0.28973027,  0.35833556,  0.42694085,  0.49554614,  0.56415143,\n",
       "         0.63275672]),\n",
       " <BarContainer object of 50 artists>)"
      ]
     },
     "execution_count": 151,
     "metadata": {},
     "output_type": "execute_result"
    },
    {
     "data": {
      "image/png": "[encoded data removed]",
      "text/plain": [
       "<Figure size 432x288 with 1 Axes>"
      ]
     },
     "metadata": {
      "needs_background": "light"
     },
     "output_type": "display_data"
    }
   ],
   "source": [
    "plot hist of power transformed values\n",
    "plt.hist(y, bins = 50)"
   ]
  },
  {
   "cell_type": "code",
   "execution_count": 116,
   "metadata": {},
   "outputs": [
    {
     "data": {
      "text/plain": [
       "'0.11.1'"
      ]
     },
     "execution_count": 116,
     "metadata": {},
     "output_type": "execute_result"
    }
   ],
   "source": [
    "sns.__version__"
   ]
  },
  {
   "cell_type": "markdown",
   "metadata": {
    "colab_type": "text",
    "id": "ms7hKNqwVbQ7"
   },
   "source": [
    "##### 7. Calculate Variance"
   ]
  },
  {
   "cell_type": "markdown",
   "metadata": {
    "colab_type": "text",
    "id": "j_qyruX-VbQ8"
   },
   "source": [
    "Calculate variance for both samples."
   ]
  },
  {
   "cell_type": "code",
   "execution_count": 152,
   "metadata": {
    "colab": {},
    "colab_type": "code",
    "id": "u8io49nQVbQ9"
   },
   "outputs": [],
   "source": [
    "# ANSWER\n",
    "var_small_house = np.var(medv_under_6)\n",
    "var_large_house = np.var(medv_over_6)\n",
    "                         "
   ]
  },
  {
   "cell_type": "code",
   "execution_count": 153,
   "metadata": {},
   "outputs": [
    {
     "data": {
      "text/plain": [
       "23.211064"
      ]
     },
     "execution_count": 153,
     "metadata": {},
     "output_type": "execute_result"
    }
   ],
   "source": [
    "var_small_house\n"
   ]
  },
  {
   "cell_type": "code",
   "execution_count": 154,
   "metadata": {},
   "outputs": [
    {
     "data": {
      "text/plain": [
       "105.97807499999999"
      ]
     },
     "execution_count": 154,
     "metadata": {},
     "output_type": "execute_result"
    }
   ],
   "source": [
    "var_large_house"
   ]
  },
  {
   "cell_type": "code",
   "execution_count": 155,
   "metadata": {},
   "outputs": [
    {
     "data": {
      "text/plain": [
       "107.04856060606059"
      ]
     },
     "execution_count": 155,
     "metadata": {},
     "output_type": "execute_result"
    }
   ],
   "source": [
    "np.var(large_house, ddof =1)\n",
    "\n",
    "#ddf - degree of freedom"
   ]
  },
  {
   "cell_type": "markdown",
   "metadata": {
    "colab_type": "text",
    "id": "be5deiNaVbQ_"
   },
   "source": [
    "##### 8. Calculate Standard Deviation"
   ]
  },
  {
   "cell_type": "markdown",
   "metadata": {
    "colab_type": "text",
    "id": "mZTeLmbLVbQ_"
   },
   "source": [
    "\n",
    "Because we are dealing with two samples we need to compute the joint standard deviation. \n",
    "\n",
    "Here sp is the pooled standard deviation for n = n1 = n2 and s^2\n",
    "X1 and s^2 X2 are the unbiased estimators of the variances of the two samples."
   ]
  },
  {
   "cell_type": "markdown",
   "metadata": {
    "colab_type": "text",
    "id": "6-vBbtOBVbRA"
   },
   "source": [
    "![](https://wikimedia.org/api/rest_v1/media/math/render/svg/f63e99c30c01445668ea2cce9832da0f6810cb4b)"
   ]
  },
  {
   "cell_type": "code",
   "execution_count": 170,
   "metadata": {
    "colab": {},
    "colab_type": "code",
    "id": "Fj_T37yqVbRB"
   },
   "outputs": [
    {
     "data": {
      "text/plain": [
       "8.037074685481029"
      ]
     },
     "execution_count": 170,
     "metadata": {},
     "output_type": "execute_result"
    }
   ],
   "source": [
    "# ANSWER\n",
    "\n",
    "Std = np.sqrt(((var_large_house)+ var_small_house)/2)\n",
    "Std"
   ]
  },
  {
   "cell_type": "markdown",
   "metadata": {
    "colab_type": "text",
    "id": "-i2iWoxDVbRD"
   },
   "source": [
    "##### 9. Calculate test statistic"
   ]
  },
  {
   "cell_type": "markdown",
   "metadata": {
    "colab_type": "text",
    "id": "UZXbRIJnVbRE"
   },
   "source": [
    "The *t*-statistic depends on the difference between the sample means and their joint standard deviation:\n",
    "\n",
    "![](https://wikimedia.org/api/rest_v1/media/math/render/svg/070d365e1b347ea5f83f0147043868fa120b6646)\n"
   ]
  },
  {
   "cell_type": "code",
   "execution_count": 185,
   "metadata": {
    "colab": {},
    "colab_type": "code",
    "id": "tIlDIlpJVbRF"
   },
   "outputs": [
    {
     "data": {
      "text/plain": [
       "5.79704278430418"
      ]
     },
     "execution_count": 185,
     "metadata": {},
     "output_type": "execute_result"
    }
   ],
   "source": [
    "# ANSWER\n",
    "\n",
    "t =  (large_house.mean() - small_house.mean())/(Std * np.sqrt(2/N))\n",
    "t\n"
   ]
  },
  {
   "cell_type": "code",
   "execution_count": 184,
   "metadata": {},
   "outputs": [
    {
     "data": {
      "text/plain": [
       "5.79704278430418"
      ]
     },
     "execution_count": 184,
     "metadata": {},
     "output_type": "execute_result"
    }
   ],
   "source": [
    "t = (medv_over_6.mean() - medv_under_6.mean()) / (Std*np.sqrt(2/N))\n",
    "t"
   ]
  },
  {
   "cell_type": "markdown",
   "metadata": {
    "colab_type": "text",
    "id": "kwbh94u3VbRI"
   },
   "source": [
    "##### 10. Calculate Degree of Freedom\n",
    "\n",
    "The number of degrees of freedom is the total number of samples (here, this is N from each set) minus the number of statistics in the computation (1 for each sample mean):"
   ]
  },
  {
   "cell_type": "code",
   "execution_count": 186,
   "metadata": {
    "colab": {},
    "colab_type": "code",
    "id": "jAD7bJgDVbRJ"
   },
   "outputs": [
    {
     "data": {
      "text/plain": [
       "198"
      ]
     },
     "execution_count": 186,
     "metadata": {},
     "output_type": "execute_result"
    }
   ],
   "source": [
    "# ANSWER\n",
    "df = 2 * N - 2\n",
    "df"
   ]
  },
  {
   "cell_type": "markdown",
   "metadata": {
    "colab_type": "text",
    "id": "11iYZzMwVbRO"
   },
   "source": [
    "##### 11. Find the p-value"
   ]
  },
  {
   "cell_type": "markdown",
   "metadata": {
    "colab_type": "text",
    "id": "s0_VbRKjVbRP"
   },
   "source": [
    "Now we can compute the probability of the above *t*-statistic from the cumulative density function:\n",
    "\n",
    "> stats.t.cdf\n",
    "\n",
    "> p_value = 1 - cdf(t) "
   ]
  },
  {
   "cell_type": "code",
   "execution_count": 187,
   "metadata": {
    "colab": {},
    "colab_type": "code",
    "id": "ufIYKyPtVbRR"
   },
   "outputs": [
    {
     "name": "stdout",
     "output_type": "stream",
     "text": [
      "t =5.79704278430418\n",
      "p =1.3149260347233849e-08\n"
     ]
    }
   ],
   "source": [
    "# ANSWER\n",
    "\n",
    "p_value = 1 - stats.t.cdf(abs(t), df=df)\n",
    "\n",
    "print('t =' +str(t))\n",
    "print('p =' + str(p_value))"
   ]
  },
  {
   "cell_type": "markdown",
   "metadata": {
    "colab_type": "text",
    "id": "8hLb8Ld3VbRU"
   },
   "source": [
    "#### Interpret results"
   ]
  },
  {
   "cell_type": "markdown",
   "metadata": {
    "colab_type": "text",
    "id": "JVfad_eSVbRV"
   },
   "source": [
    "##### 12. Write a Function to Test Significance of `p_value`\n",
    "\n",
    "Write a funtion which will take p_value and alpha as input. If p_value < alpha, print reject null hypothesis message. Otherwise print a fail to reject null hypothesis message. "
   ]
  },
  {
   "cell_type": "code",
   "execution_count": 188,
   "metadata": {
    "colab": {},
    "colab_type": "code",
    "id": "j0kBcmDKVbRV"
   },
   "outputs": [],
   "source": [
    "# ANSWER\n",
    "\n",
    "#Null hupothesis dictionary\n",
    "\n",
    "null_hypothesis = {\"HO\": \"House price does not increase for large house\", \"H1\": \" House prices increases for large house\"}\n"
   ]
  },
  {
   "cell_type": "code",
   "execution_count": 197,
   "metadata": {
    "colab": {},
    "colab_type": "code",
    "id": "Ou6bXSa4VbRX"
   },
   "outputs": [],
   "source": [
    "# ANSWER\n",
    "\n",
    "def print_sig(p_value,alpha):\n",
    "\n",
    "    '''\n",
    "    inputs:\n",
    "    p_value: Calculated p_value\n",
    "    alpha: Confidence level\n",
    "    '''\n",
    "\n",
    "    if p_value < alpha:\n",
    "        print('We reject Null hypothesis')\n",
    "        print(null_hypothesis['H1'])\n",
    "        \n",
    "    else:\n",
    "        print('we fail to reject null hypothesis')\n",
    "        print(null_hypothesis['H0'])\n",
    "              \n",
    "    "
   ]
  },
  {
   "cell_type": "code",
   "execution_count": null,
   "metadata": {
    "colab": {},
    "colab_type": "code",
    "id": "fR1t5P69VbRZ"
   },
   "outputs": [],
   "source": [
    "# ANSWER"
   ]
  },
  {
   "cell_type": "markdown",
   "metadata": {
    "colab_type": "text",
    "id": "nrs0gOXeVbRl"
   },
   "source": [
    "##### 13. [Bonus] Write a function to calculate t, p_value from two samples.\n",
    "\n",
    "Calculate the T-test for the means of *two independent* samples of scores.\n",
    "\n",
    "This is a two-sided test for the null hypothesis that 2 independent samples\n",
    "have identical average (expected) values."
   ]
  },
  {
   "cell_type": "code",
   "execution_count": null,
   "metadata": {
    "colab": {},
    "colab_type": "code",
    "id": "Mnan5sf_VbRm"
   },
   "outputs": [],
   "source": [
    "# ANSWER"
   ]
  },
  {
   "cell_type": "markdown",
   "metadata": {
    "colab_type": "text",
    "id": "tyNc67_FVbRn"
   },
   "source": [
    "#### Use `Stats` Package"
   ]
  },
  {
   "cell_type": "markdown",
   "metadata": {
    "colab_type": "text",
    "id": "wqAeZgizVbRo"
   },
   "source": [
    "##### 14. Calculate the T-test for the means of *two independent* samples of scores\n",
    "\n",
    "using following method of stats calculate the T-test for the means of two independent samples of scores.\n",
    "\n",
    "> ttest_ind"
   ]
  },
  {
   "cell_type": "code",
   "execution_count": 198,
   "metadata": {},
   "outputs": [
    {
     "name": "stdout",
     "output_type": "stream",
     "text": [
      "t =6.1718978738866985\n",
      "p = 3.743608965613227e-09\n"
     ]
    }
   ],
   "source": [
    "# ANSWER\n",
    "\n",
    "t2, p2 = stats.ttest_ind(large_house, small_house)\n",
    "print(f\"t ={t2}\")\n",
    "print(f\"p = {p2}\")\n"
   ]
  },
  {
   "cell_type": "code",
   "execution_count": 199,
   "metadata": {
    "colab": {},
    "colab_type": "code",
    "id": "HJgti3wYVbRp"
   },
   "outputs": [
    {
     "data": {
      "text/plain": [
       "KstestResult(statistic=0.51, pvalue=3.319419024623016e-12)"
      ]
     },
     "execution_count": 199,
     "metadata": {},
     "output_type": "execute_result"
    }
   ],
   "source": [
    "# ANSWER\n",
    "\n",
    "stats.ks_2samp(large_house, small_house)"
   ]
  },
  {
   "cell_type": "markdown",
   "metadata": {
    "colab_type": "text",
    "id": "ttzF17-GVbRq"
   },
   "source": [
    "\n",
    "\n",
    "---\n",
    "\n",
    "\n",
    "\n",
    "---\n",
    "\n",
    "\n",
    "\n",
    "> > > > > > > > > © 2019 Institute of Data\n",
    "\n",
    "\n",
    "---\n",
    "\n",
    "\n",
    "\n",
    "---\n",
    "\n",
    "\n",
    "\n"
   ]
  }
 ],
 "metadata": {
  "colab": {
   "collapsed_sections": [],
   "name": "DSIA Lab 3.2.2.ipynb",
   "provenance": []
  },
  "kernelspec": {
   "display_name": "Python 3",
   "language": "python",
   "name": "python3"
  },
  "language_info": {
   "codemirror_mode": {
    "name": "ipython",
    "version": 3
   },
   "file_extension": ".py",
   "mimetype": "text/x-python",
   "name": "python",
   "nbconvert_exporter": "python",
   "pygments_lexer": "ipython3",
   "version": "3.8.5"
  }
 },
 "nbformat": 4,
 "nbformat_minor": 1
}
