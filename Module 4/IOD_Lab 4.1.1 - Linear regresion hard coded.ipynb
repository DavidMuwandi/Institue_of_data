{
 "cells": [
  {
   "cell_type": "markdown",
   "metadata": {
    "colab_type": "text",
    "id": "jZSSKjAWXd3j"
   },
   "source": [
    "<div>\n",
    "<img src=https://www.institutedata.com/wp-content/uploads/2019/10/iod_h_tp_primary_c.svg width=\"300\">\n",
    "</div>"
   ]
  },
  {
   "cell_type": "markdown",
   "metadata": {
    "colab_type": "text",
    "id": "2Ms9riXMXd3k"
   },
   "source": [
    "# Lab 4.1.1 Linear Regression"
   ]
  },
  {
   "cell_type": "markdown",
   "metadata": {
    "colab_type": "text",
    "id": "twocr7v8Xd3l"
   },
   "source": [
    "## Prediction of House Price Using Linear Regression"
   ]
  },
  {
   "cell_type": "markdown",
   "metadata": {
    "colab_type": "text",
    "id": "0j3ZiTCPXd3m"
   },
   "source": [
    "### Data\n",
    "\n",
    "The Sacramento real estate transactions file is a list of 985 real estate transactions in the Sacramento area reported over a five-day period, as reported by the Sacramento Bee."
   ]
  },
  {
   "cell_type": "code",
   "execution_count": 1,
   "metadata": {
    "colab": {},
    "colab_type": "code",
    "id": "hejYh49cXd3n"
   },
   "outputs": [],
   "source": [
    "import pandas as pd\n",
    "import numpy as np\n",
    "import pandas as pd\n",
    "\n",
    "import seaborn as sns\n",
    "import matplotlib.pyplot as plt\n",
    "\n",
    "%matplotlib inline"
   ]
  },
  {
   "cell_type": "markdown",
   "metadata": {
    "colab_type": "text",
    "id": "BlumKNPDXd3q"
   },
   "source": [
    "### 1. Explore Data"
   ]
  },
  {
   "cell_type": "markdown",
   "metadata": {
    "colab_type": "text",
    "id": "h1FUHCAnXd3r"
   },
   "source": [
    "Perform EDA on this dataset. Use what you have learned so far. Be creative. List all your findings."
   ]
  },
  {
   "cell_type": "code",
   "execution_count": 2,
   "metadata": {
    "colab": {},
    "colab_type": "code",
    "id": "C8BX-oTKXd3s"
   },
   "outputs": [],
   "source": [
    "# Read CSV\n",
    "df = pd.read_csv(\"Sacramento_transactions.csv\")"
   ]
  },
  {
   "cell_type": "code",
   "execution_count": 3,
   "metadata": {},
   "outputs": [
    {
     "data": {
      "text/html": [
       "<div>\n",
       "<style scoped>\n",
       "    .dataframe tbody tr th:only-of-type {\n",
       "        vertical-align: middle;\n",
       "    }\n",
       "\n",
       "    .dataframe tbody tr th {\n",
       "        vertical-align: top;\n",
       "    }\n",
       "\n",
       "    .dataframe thead th {\n",
       "        text-align: right;\n",
       "    }\n",
       "</style>\n",
       "<table border=\"1\" class=\"dataframe\">\n",
       "  <thead>\n",
       "    <tr style=\"text-align: right;\">\n",
       "      <th></th>\n",
       "      <th>street</th>\n",
       "      <th>city</th>\n",
       "      <th>zip</th>\n",
       "      <th>state</th>\n",
       "      <th>beds</th>\n",
       "      <th>baths</th>\n",
       "      <th>sq__ft</th>\n",
       "      <th>type</th>\n",
       "      <th>sale_date</th>\n",
       "      <th>price</th>\n",
       "      <th>latitude</th>\n",
       "      <th>longitude</th>\n",
       "    </tr>\n",
       "  </thead>\n",
       "  <tbody>\n",
       "    <tr>\n",
       "      <th>0</th>\n",
       "      <td>3526 HIGH ST</td>\n",
       "      <td>SACRAMENTO</td>\n",
       "      <td>95838</td>\n",
       "      <td>CA</td>\n",
       "      <td>2</td>\n",
       "      <td>1</td>\n",
       "      <td>836</td>\n",
       "      <td>Residential</td>\n",
       "      <td>Wed May 21 00:00:00 EDT 2008</td>\n",
       "      <td>59222</td>\n",
       "      <td>38.631913</td>\n",
       "      <td>-121.434879</td>\n",
       "    </tr>\n",
       "    <tr>\n",
       "      <th>1</th>\n",
       "      <td>51 OMAHA CT</td>\n",
       "      <td>SACRAMENTO</td>\n",
       "      <td>95823</td>\n",
       "      <td>CA</td>\n",
       "      <td>3</td>\n",
       "      <td>1</td>\n",
       "      <td>1167</td>\n",
       "      <td>Residential</td>\n",
       "      <td>Wed May 21 00:00:00 EDT 2008</td>\n",
       "      <td>68212</td>\n",
       "      <td>38.478902</td>\n",
       "      <td>-121.431028</td>\n",
       "    </tr>\n",
       "    <tr>\n",
       "      <th>2</th>\n",
       "      <td>2796 BRANCH ST</td>\n",
       "      <td>SACRAMENTO</td>\n",
       "      <td>95815</td>\n",
       "      <td>CA</td>\n",
       "      <td>2</td>\n",
       "      <td>1</td>\n",
       "      <td>796</td>\n",
       "      <td>Residential</td>\n",
       "      <td>Wed May 21 00:00:00 EDT 2008</td>\n",
       "      <td>68880</td>\n",
       "      <td>38.618305</td>\n",
       "      <td>-121.443839</td>\n",
       "    </tr>\n",
       "    <tr>\n",
       "      <th>3</th>\n",
       "      <td>2805 JANETTE WAY</td>\n",
       "      <td>SACRAMENTO</td>\n",
       "      <td>95815</td>\n",
       "      <td>CA</td>\n",
       "      <td>2</td>\n",
       "      <td>1</td>\n",
       "      <td>852</td>\n",
       "      <td>Residential</td>\n",
       "      <td>Wed May 21 00:00:00 EDT 2008</td>\n",
       "      <td>69307</td>\n",
       "      <td>38.616835</td>\n",
       "      <td>-121.439146</td>\n",
       "    </tr>\n",
       "    <tr>\n",
       "      <th>4</th>\n",
       "      <td>6001 MCMAHON DR</td>\n",
       "      <td>SACRAMENTO</td>\n",
       "      <td>95824</td>\n",
       "      <td>CA</td>\n",
       "      <td>2</td>\n",
       "      <td>1</td>\n",
       "      <td>797</td>\n",
       "      <td>Residential</td>\n",
       "      <td>Wed May 21 00:00:00 EDT 2008</td>\n",
       "      <td>81900</td>\n",
       "      <td>38.519470</td>\n",
       "      <td>-121.435768</td>\n",
       "    </tr>\n",
       "    <tr>\n",
       "      <th>...</th>\n",
       "      <td>...</td>\n",
       "      <td>...</td>\n",
       "      <td>...</td>\n",
       "      <td>...</td>\n",
       "      <td>...</td>\n",
       "      <td>...</td>\n",
       "      <td>...</td>\n",
       "      <td>...</td>\n",
       "      <td>...</td>\n",
       "      <td>...</td>\n",
       "      <td>...</td>\n",
       "      <td>...</td>\n",
       "    </tr>\n",
       "    <tr>\n",
       "      <th>980</th>\n",
       "      <td>9169 GARLINGTON CT</td>\n",
       "      <td>SACRAMENTO</td>\n",
       "      <td>95829</td>\n",
       "      <td>CA</td>\n",
       "      <td>4</td>\n",
       "      <td>3</td>\n",
       "      <td>2280</td>\n",
       "      <td>Residential</td>\n",
       "      <td>Thu May 15 00:00:00 EDT 2008</td>\n",
       "      <td>232425</td>\n",
       "      <td>38.457679</td>\n",
       "      <td>-121.359620</td>\n",
       "    </tr>\n",
       "    <tr>\n",
       "      <th>981</th>\n",
       "      <td>6932 RUSKUT WAY</td>\n",
       "      <td>SACRAMENTO</td>\n",
       "      <td>95823</td>\n",
       "      <td>CA</td>\n",
       "      <td>3</td>\n",
       "      <td>2</td>\n",
       "      <td>1477</td>\n",
       "      <td>Residential</td>\n",
       "      <td>Thu May 15 00:00:00 EDT 2008</td>\n",
       "      <td>234000</td>\n",
       "      <td>38.499893</td>\n",
       "      <td>-121.458890</td>\n",
       "    </tr>\n",
       "    <tr>\n",
       "      <th>982</th>\n",
       "      <td>7933 DAFFODIL WAY</td>\n",
       "      <td>CITRUS HEIGHTS</td>\n",
       "      <td>95610</td>\n",
       "      <td>CA</td>\n",
       "      <td>3</td>\n",
       "      <td>2</td>\n",
       "      <td>1216</td>\n",
       "      <td>Residential</td>\n",
       "      <td>Thu May 15 00:00:00 EDT 2008</td>\n",
       "      <td>235000</td>\n",
       "      <td>38.708824</td>\n",
       "      <td>-121.256803</td>\n",
       "    </tr>\n",
       "    <tr>\n",
       "      <th>983</th>\n",
       "      <td>8304 RED FOX WAY</td>\n",
       "      <td>ELK GROVE</td>\n",
       "      <td>95758</td>\n",
       "      <td>CA</td>\n",
       "      <td>4</td>\n",
       "      <td>2</td>\n",
       "      <td>1685</td>\n",
       "      <td>Residential</td>\n",
       "      <td>Thu May 15 00:00:00 EDT 2008</td>\n",
       "      <td>235301</td>\n",
       "      <td>38.417000</td>\n",
       "      <td>-121.397424</td>\n",
       "    </tr>\n",
       "    <tr>\n",
       "      <th>984</th>\n",
       "      <td>3882 YELLOWSTONE LN</td>\n",
       "      <td>EL DORADO HILLS</td>\n",
       "      <td>95762</td>\n",
       "      <td>CA</td>\n",
       "      <td>3</td>\n",
       "      <td>2</td>\n",
       "      <td>1362</td>\n",
       "      <td>Residential</td>\n",
       "      <td>Thu May 15 00:00:00 EDT 2008</td>\n",
       "      <td>235738</td>\n",
       "      <td>38.655245</td>\n",
       "      <td>-121.075915</td>\n",
       "    </tr>\n",
       "  </tbody>\n",
       "</table>\n",
       "<p>985 rows × 12 columns</p>\n",
       "</div>"
      ],
      "text/plain": [
       "                  street             city    zip state  beds  baths  sq__ft  \\\n",
       "0           3526 HIGH ST       SACRAMENTO  95838    CA     2      1     836   \n",
       "1            51 OMAHA CT       SACRAMENTO  95823    CA     3      1    1167   \n",
       "2         2796 BRANCH ST       SACRAMENTO  95815    CA     2      1     796   \n",
       "3       2805 JANETTE WAY       SACRAMENTO  95815    CA     2      1     852   \n",
       "4        6001 MCMAHON DR       SACRAMENTO  95824    CA     2      1     797   \n",
       "..                   ...              ...    ...   ...   ...    ...     ...   \n",
       "980   9169 GARLINGTON CT       SACRAMENTO  95829    CA     4      3    2280   \n",
       "981      6932 RUSKUT WAY       SACRAMENTO  95823    CA     3      2    1477   \n",
       "982    7933 DAFFODIL WAY   CITRUS HEIGHTS  95610    CA     3      2    1216   \n",
       "983     8304 RED FOX WAY        ELK GROVE  95758    CA     4      2    1685   \n",
       "984  3882 YELLOWSTONE LN  EL DORADO HILLS  95762    CA     3      2    1362   \n",
       "\n",
       "            type                     sale_date   price   latitude   longitude  \n",
       "0    Residential  Wed May 21 00:00:00 EDT 2008   59222  38.631913 -121.434879  \n",
       "1    Residential  Wed May 21 00:00:00 EDT 2008   68212  38.478902 -121.431028  \n",
       "2    Residential  Wed May 21 00:00:00 EDT 2008   68880  38.618305 -121.443839  \n",
       "3    Residential  Wed May 21 00:00:00 EDT 2008   69307  38.616835 -121.439146  \n",
       "4    Residential  Wed May 21 00:00:00 EDT 2008   81900  38.519470 -121.435768  \n",
       "..           ...                           ...     ...        ...         ...  \n",
       "980  Residential  Thu May 15 00:00:00 EDT 2008  232425  38.457679 -121.359620  \n",
       "981  Residential  Thu May 15 00:00:00 EDT 2008  234000  38.499893 -121.458890  \n",
       "982  Residential  Thu May 15 00:00:00 EDT 2008  235000  38.708824 -121.256803  \n",
       "983  Residential  Thu May 15 00:00:00 EDT 2008  235301  38.417000 -121.397424  \n",
       "984  Residential  Thu May 15 00:00:00 EDT 2008  235738  38.655245 -121.075915  \n",
       "\n",
       "[985 rows x 12 columns]"
      ]
     },
     "execution_count": 3,
     "metadata": {},
     "output_type": "execute_result"
    }
   ],
   "source": [
    "df"
   ]
  },
  {
   "cell_type": "code",
   "execution_count": 4,
   "metadata": {},
   "outputs": [
    {
     "data": {
      "image/png": "[encoded data removed]",
      "text/plain": [
       "<Figure size 1080x576 with 1 Axes>"
      ]
     },
     "metadata": {
      "needs_background": "light"
     },
     "output_type": "display_data"
    }
   ],
   "source": [
    "plt.figure(figsize = (15,8))\n",
    "df.city.value_counts().plot(kind = 'bar')\n",
    "plt.show()"
   ]
  },
  {
   "cell_type": "code",
   "execution_count": 5,
   "metadata": {},
   "outputs": [
    {
     "data": {
      "image/png": "[encoded data removed]",
      "text/plain": [
       "<Figure size 432x288 with 1 Axes>"
      ]
     },
     "metadata": {
      "needs_background": "light"
     },
     "output_type": "display_data"
    }
   ],
   "source": [
    "df.type.value_counts().plot(kind = \"bar\")\n",
    "plt.show()"
   ]
  },
  {
   "cell_type": "code",
   "execution_count": 6,
   "metadata": {},
   "outputs": [
    {
     "data": {
      "text/plain": [
       "Text(0, 0.5, 'baths')"
      ]
     },
     "execution_count": 6,
     "metadata": {},
     "output_type": "execute_result"
    },
    {
     "data": {
      "image/png": "[encoded data removed]",
      "text/plain": [
       "<Figure size 432x288 with 1 Axes>"
      ]
     },
     "metadata": {
      "needs_background": "light"
     },
     "output_type": "display_data"
    }
   ],
   "source": [
    "plt.scatter(x = df.beds, y = df.baths)\n",
    "plt.xlabel('beds')\n",
    "plt.ylabel('baths')"
   ]
  },
  {
   "cell_type": "code",
   "execution_count": 29,
   "metadata": {},
   "outputs": [],
   "source": [
    "# create another type ==> plot with 0 beds \n",
    "df.loc[df['beds'] == 0, 'type'] = 'Plot'\n",
    "\n"
   ]
  },
  {
   "cell_type": "code",
   "execution_count": 30,
   "metadata": {},
   "outputs": [
    {
     "data": {
      "text/plain": [
       "array(['Residential', 'Condo', 'Multi-Family', 'Plot'], dtype=object)"
      ]
     },
     "execution_count": 30,
     "metadata": {},
     "output_type": "execute_result"
    }
   ],
   "source": [
    "df.type.unique()"
   ]
  },
  {
   "cell_type": "code",
   "execution_count": 7,
   "metadata": {},
   "outputs": [
    {
     "data": {
      "text/html": [
       "<div>\n",
       "<style scoped>\n",
       "    .dataframe tbody tr th:only-of-type {\n",
       "        vertical-align: middle;\n",
       "    }\n",
       "\n",
       "    .dataframe tbody tr th {\n",
       "        vertical-align: top;\n",
       "    }\n",
       "\n",
       "    .dataframe thead tr th {\n",
       "        text-align: left;\n",
       "    }\n",
       "\n",
       "    .dataframe thead tr:last-of-type th {\n",
       "        text-align: right;\n",
       "    }\n",
       "</style>\n",
       "<table border=\"1\" class=\"dataframe\">\n",
       "  <thead>\n",
       "    <tr>\n",
       "      <th></th>\n",
       "      <th colspan=\"2\" halign=\"left\">price</th>\n",
       "    </tr>\n",
       "    <tr>\n",
       "      <th></th>\n",
       "      <th>min</th>\n",
       "      <th>max</th>\n",
       "    </tr>\n",
       "    <tr>\n",
       "      <th>type</th>\n",
       "      <th></th>\n",
       "      <th></th>\n",
       "    </tr>\n",
       "  </thead>\n",
       "  <tbody>\n",
       "    <tr>\n",
       "      <th>Condo</th>\n",
       "      <td>40000</td>\n",
       "      <td>360000</td>\n",
       "    </tr>\n",
       "    <tr>\n",
       "      <th>Multi-Family</th>\n",
       "      <td>100000</td>\n",
       "      <td>416767</td>\n",
       "    </tr>\n",
       "    <tr>\n",
       "      <th>Residential</th>\n",
       "      <td>1551</td>\n",
       "      <td>884790</td>\n",
       "    </tr>\n",
       "    <tr>\n",
       "      <th>Unkown</th>\n",
       "      <td>275000</td>\n",
       "      <td>275000</td>\n",
       "    </tr>\n",
       "  </tbody>\n",
       "</table>\n",
       "</div>"
      ],
      "text/plain": [
       "               price        \n",
       "                 min     max\n",
       "type                        \n",
       "Condo          40000  360000\n",
       "Multi-Family  100000  416767\n",
       "Residential     1551  884790\n",
       "Unkown        275000  275000"
      ]
     },
     "execution_count": 7,
     "metadata": {},
     "output_type": "execute_result"
    }
   ],
   "source": [
    "df.groupby('type').agg({'price':[min, max]})"
   ]
  },
  {
   "cell_type": "code",
   "execution_count": 8,
   "metadata": {},
   "outputs": [
    {
     "data": {
      "text/plain": [
       "234144.26395939087"
      ]
     },
     "execution_count": 8,
     "metadata": {},
     "output_type": "execute_result"
    }
   ],
   "source": [
    "df.price.mean()"
   ]
  },
  {
   "cell_type": "code",
   "execution_count": 9,
   "metadata": {},
   "outputs": [
    {
     "data": {
      "text/plain": [
       "<AxesSubplot:>"
      ]
     },
     "execution_count": 9,
     "metadata": {},
     "output_type": "execute_result"
    },
    {
     "data": {
      "image/png": "[encoded data removed]",
      "text/plain": [
       "<Figure size 432x288 with 1 Axes>"
      ]
     },
     "metadata": {
      "needs_background": "light"
     },
     "output_type": "display_data"
    }
   ],
   "source": [
    "df.price.plot(kind = 'box')"
   ]
  },
  {
   "cell_type": "markdown",
   "metadata": {
    "colab_type": "text",
    "id": "sIztKXN7Xd3u"
   },
   "source": [
    "### 2. Predict Price"
   ]
  },
  {
   "cell_type": "markdown",
   "metadata": {
    "colab_type": "text",
    "id": "hzXJOP2_Xd3v"
   },
   "source": [
    "We are going to predict `price` from available information."
   ]
  },
  {
   "cell_type": "markdown",
   "metadata": {
    "colab_type": "text",
    "id": "1CMJdXc3Xd3w"
   },
   "source": [
    "#### 2.1 What is the Target Variable? Why?"
   ]
  },
  {
   "cell_type": "code",
   "execution_count": 10,
   "metadata": {
    "colab": {},
    "colab_type": "code",
    "id": "56yN89q2Xd3w"
   },
   "outputs": [],
   "source": [
    "# ANSWER\n",
    "#Price because its the variable of interest."
   ]
  },
  {
   "cell_type": "markdown",
   "metadata": {
    "colab_type": "text",
    "id": "7qy-ZmGEXd3z"
   },
   "source": [
    "#### 2.2 List all possible variables which might be Predictor variable."
   ]
  },
  {
   "cell_type": "code",
   "execution_count": 11,
   "metadata": {
    "colab": {},
    "colab_type": "code",
    "id": "nfAq28P_Xd30"
   },
   "outputs": [
    {
     "data": {
      "text/plain": [
       "Index(['street', 'city', 'zip', 'state', 'beds', 'baths', 'sq__ft', 'type',\n",
       "       'sale_date', 'price', 'latitude', 'longitude'],\n",
       "      dtype='object')"
      ]
     },
     "execution_count": 11,
     "metadata": {},
     "output_type": "execute_result"
    }
   ],
   "source": [
    "# ANSWER\n",
    "\n",
    "# beds\n",
    "#baths\n",
    "#sq_ft\n",
    "#zip\n",
    "\n",
    "df.columns"
   ]
  },
  {
   "cell_type": "markdown",
   "metadata": {
    "colab_type": "text",
    "id": "yFZkIpXhXd32"
   },
   "source": [
    "#### 2.3 Find correlation between variables\n",
    "\n",
    "Find correlation between variables. Which is the best predictor? Why? State your reason."
   ]
  },
  {
   "cell_type": "code",
   "execution_count": 12,
   "metadata": {
    "colab": {},
    "colab_type": "code",
    "id": "Nc8FHVnjXd32"
   },
   "outputs": [
    {
     "data": {
      "text/html": [
       "<div>\n",
       "<style scoped>\n",
       "    .dataframe tbody tr th:only-of-type {\n",
       "        vertical-align: middle;\n",
       "    }\n",
       "\n",
       "    .dataframe tbody tr th {\n",
       "        vertical-align: top;\n",
       "    }\n",
       "\n",
       "    .dataframe thead th {\n",
       "        text-align: right;\n",
       "    }\n",
       "</style>\n",
       "<table border=\"1\" class=\"dataframe\">\n",
       "  <thead>\n",
       "    <tr style=\"text-align: right;\">\n",
       "      <th></th>\n",
       "      <th>zip</th>\n",
       "      <th>beds</th>\n",
       "      <th>baths</th>\n",
       "      <th>sq__ft</th>\n",
       "      <th>price</th>\n",
       "      <th>latitude</th>\n",
       "      <th>longitude</th>\n",
       "    </tr>\n",
       "  </thead>\n",
       "  <tbody>\n",
       "    <tr>\n",
       "      <th>zip</th>\n",
       "      <td>1.000000</td>\n",
       "      <td>0.125319</td>\n",
       "      <td>0.069165</td>\n",
       "      <td>0.130108</td>\n",
       "      <td>-0.093353</td>\n",
       "      <td>-0.290389</td>\n",
       "      <td>-0.539904</td>\n",
       "    </tr>\n",
       "    <tr>\n",
       "      <th>beds</th>\n",
       "      <td>0.125319</td>\n",
       "      <td>1.000000</td>\n",
       "      <td>0.839650</td>\n",
       "      <td>0.684041</td>\n",
       "      <td>0.342024</td>\n",
       "      <td>-0.291307</td>\n",
       "      <td>-0.053993</td>\n",
       "    </tr>\n",
       "    <tr>\n",
       "      <th>baths</th>\n",
       "      <td>0.069165</td>\n",
       "      <td>0.839650</td>\n",
       "      <td>1.000000</td>\n",
       "      <td>0.665690</td>\n",
       "      <td>0.416208</td>\n",
       "      <td>-0.235792</td>\n",
       "      <td>0.016582</td>\n",
       "    </tr>\n",
       "    <tr>\n",
       "      <th>sq__ft</th>\n",
       "      <td>0.130108</td>\n",
       "      <td>0.684041</td>\n",
       "      <td>0.665690</td>\n",
       "      <td>1.000000</td>\n",
       "      <td>0.333897</td>\n",
       "      <td>-0.383274</td>\n",
       "      <td>-0.177742</td>\n",
       "    </tr>\n",
       "    <tr>\n",
       "      <th>price</th>\n",
       "      <td>-0.093353</td>\n",
       "      <td>0.342024</td>\n",
       "      <td>0.416208</td>\n",
       "      <td>0.333897</td>\n",
       "      <td>1.000000</td>\n",
       "      <td>-0.039573</td>\n",
       "      <td>0.284485</td>\n",
       "    </tr>\n",
       "    <tr>\n",
       "      <th>latitude</th>\n",
       "      <td>-0.290389</td>\n",
       "      <td>-0.291307</td>\n",
       "      <td>-0.235792</td>\n",
       "      <td>-0.383274</td>\n",
       "      <td>-0.039573</td>\n",
       "      <td>1.000000</td>\n",
       "      <td>0.387925</td>\n",
       "    </tr>\n",
       "    <tr>\n",
       "      <th>longitude</th>\n",
       "      <td>-0.539904</td>\n",
       "      <td>-0.053993</td>\n",
       "      <td>0.016582</td>\n",
       "      <td>-0.177742</td>\n",
       "      <td>0.284485</td>\n",
       "      <td>0.387925</td>\n",
       "      <td>1.000000</td>\n",
       "    </tr>\n",
       "  </tbody>\n",
       "</table>\n",
       "</div>"
      ],
      "text/plain": [
       "                zip      beds     baths    sq__ft     price  latitude  \\\n",
       "zip        1.000000  0.125319  0.069165  0.130108 -0.093353 -0.290389   \n",
       "beds       0.125319  1.000000  0.839650  0.684041  0.342024 -0.291307   \n",
       "baths      0.069165  0.839650  1.000000  0.665690  0.416208 -0.235792   \n",
       "sq__ft     0.130108  0.684041  0.665690  1.000000  0.333897 -0.383274   \n",
       "price     -0.093353  0.342024  0.416208  0.333897  1.000000 -0.039573   \n",
       "latitude  -0.290389 -0.291307 -0.235792 -0.383274 -0.039573  1.000000   \n",
       "longitude -0.539904 -0.053993  0.016582 -0.177742  0.284485  0.387925   \n",
       "\n",
       "           longitude  \n",
       "zip        -0.539904  \n",
       "beds       -0.053993  \n",
       "baths       0.016582  \n",
       "sq__ft     -0.177742  \n",
       "price       0.284485  \n",
       "latitude    0.387925  \n",
       "longitude   1.000000  "
      ]
     },
     "execution_count": 12,
     "metadata": {},
     "output_type": "execute_result"
    }
   ],
   "source": [
    "# ANSWER\n",
    "\n",
    "df.corr()\n",
    "\n",
    "# Sq__rt is best predictor as it also has a strong corr with bes and baths.\n"
   ]
  },
  {
   "cell_type": "markdown",
   "metadata": {
    "colab_type": "text",
    "id": "1vop_P66Xd35"
   },
   "source": [
    "#### 2.4 What is the simplest way to predict price\n",
    "\n",
    "So we have information for 985 houses. What is the easiest way to predict price of a house?"
   ]
  },
  {
   "cell_type": "code",
   "execution_count": 13,
   "metadata": {
    "colab": {},
    "colab_type": "code",
    "id": "p0xBzE9iXd35"
   },
   "outputs": [
    {
     "data": {
      "text/plain": [
       "234144.26395939087"
      ]
     },
     "execution_count": 13,
     "metadata": {},
     "output_type": "execute_result"
    }
   ],
   "source": [
    "# ANSWER\n",
    "\n",
    "df.price.mean()\n",
    "\n",
    "# mean is always the easies predictor"
   ]
  },
  {
   "cell_type": "markdown",
   "metadata": {
    "colab_type": "text",
    "id": "8uRWVPNuXd38"
   },
   "source": [
    "#### 2.5 Find Resudals\n",
    "\n",
    "Find difference between actual value and predicted value. Use absolute value."
   ]
  },
  {
   "cell_type": "code",
   "execution_count": 14,
   "metadata": {
    "colab": {},
    "colab_type": "code",
    "id": "PBzfNQsGXd39"
   },
   "outputs": [
    {
     "data": {
      "text/html": [
       "<div>\n",
       "<style scoped>\n",
       "    .dataframe tbody tr th:only-of-type {\n",
       "        vertical-align: middle;\n",
       "    }\n",
       "\n",
       "    .dataframe tbody tr th {\n",
       "        vertical-align: top;\n",
       "    }\n",
       "\n",
       "    .dataframe thead th {\n",
       "        text-align: right;\n",
       "    }\n",
       "</style>\n",
       "<table border=\"1\" class=\"dataframe\">\n",
       "  <thead>\n",
       "    <tr style=\"text-align: right;\">\n",
       "      <th></th>\n",
       "      <th>street</th>\n",
       "      <th>city</th>\n",
       "      <th>zip</th>\n",
       "      <th>state</th>\n",
       "      <th>beds</th>\n",
       "      <th>baths</th>\n",
       "      <th>sq__ft</th>\n",
       "      <th>type</th>\n",
       "      <th>sale_date</th>\n",
       "      <th>price</th>\n",
       "      <th>latitude</th>\n",
       "      <th>longitude</th>\n",
       "      <th>diff</th>\n",
       "    </tr>\n",
       "  </thead>\n",
       "  <tbody>\n",
       "    <tr>\n",
       "      <th>0</th>\n",
       "      <td>3526 HIGH ST</td>\n",
       "      <td>SACRAMENTO</td>\n",
       "      <td>95838</td>\n",
       "      <td>CA</td>\n",
       "      <td>2</td>\n",
       "      <td>1</td>\n",
       "      <td>836</td>\n",
       "      <td>Residential</td>\n",
       "      <td>Wed May 21 00:00:00 EDT 2008</td>\n",
       "      <td>59222</td>\n",
       "      <td>38.631913</td>\n",
       "      <td>-121.434879</td>\n",
       "      <td>174922.263959</td>\n",
       "    </tr>\n",
       "    <tr>\n",
       "      <th>1</th>\n",
       "      <td>51 OMAHA CT</td>\n",
       "      <td>SACRAMENTO</td>\n",
       "      <td>95823</td>\n",
       "      <td>CA</td>\n",
       "      <td>3</td>\n",
       "      <td>1</td>\n",
       "      <td>1167</td>\n",
       "      <td>Residential</td>\n",
       "      <td>Wed May 21 00:00:00 EDT 2008</td>\n",
       "      <td>68212</td>\n",
       "      <td>38.478902</td>\n",
       "      <td>-121.431028</td>\n",
       "      <td>165932.263959</td>\n",
       "    </tr>\n",
       "    <tr>\n",
       "      <th>2</th>\n",
       "      <td>2796 BRANCH ST</td>\n",
       "      <td>SACRAMENTO</td>\n",
       "      <td>95815</td>\n",
       "      <td>CA</td>\n",
       "      <td>2</td>\n",
       "      <td>1</td>\n",
       "      <td>796</td>\n",
       "      <td>Residential</td>\n",
       "      <td>Wed May 21 00:00:00 EDT 2008</td>\n",
       "      <td>68880</td>\n",
       "      <td>38.618305</td>\n",
       "      <td>-121.443839</td>\n",
       "      <td>165264.263959</td>\n",
       "    </tr>\n",
       "    <tr>\n",
       "      <th>3</th>\n",
       "      <td>2805 JANETTE WAY</td>\n",
       "      <td>SACRAMENTO</td>\n",
       "      <td>95815</td>\n",
       "      <td>CA</td>\n",
       "      <td>2</td>\n",
       "      <td>1</td>\n",
       "      <td>852</td>\n",
       "      <td>Residential</td>\n",
       "      <td>Wed May 21 00:00:00 EDT 2008</td>\n",
       "      <td>69307</td>\n",
       "      <td>38.616835</td>\n",
       "      <td>-121.439146</td>\n",
       "      <td>164837.263959</td>\n",
       "    </tr>\n",
       "    <tr>\n",
       "      <th>4</th>\n",
       "      <td>6001 MCMAHON DR</td>\n",
       "      <td>SACRAMENTO</td>\n",
       "      <td>95824</td>\n",
       "      <td>CA</td>\n",
       "      <td>2</td>\n",
       "      <td>1</td>\n",
       "      <td>797</td>\n",
       "      <td>Residential</td>\n",
       "      <td>Wed May 21 00:00:00 EDT 2008</td>\n",
       "      <td>81900</td>\n",
       "      <td>38.519470</td>\n",
       "      <td>-121.435768</td>\n",
       "      <td>152244.263959</td>\n",
       "    </tr>\n",
       "    <tr>\n",
       "      <th>...</th>\n",
       "      <td>...</td>\n",
       "      <td>...</td>\n",
       "      <td>...</td>\n",
       "      <td>...</td>\n",
       "      <td>...</td>\n",
       "      <td>...</td>\n",
       "      <td>...</td>\n",
       "      <td>...</td>\n",
       "      <td>...</td>\n",
       "      <td>...</td>\n",
       "      <td>...</td>\n",
       "      <td>...</td>\n",
       "      <td>...</td>\n",
       "    </tr>\n",
       "    <tr>\n",
       "      <th>980</th>\n",
       "      <td>9169 GARLINGTON CT</td>\n",
       "      <td>SACRAMENTO</td>\n",
       "      <td>95829</td>\n",
       "      <td>CA</td>\n",
       "      <td>4</td>\n",
       "      <td>3</td>\n",
       "      <td>2280</td>\n",
       "      <td>Residential</td>\n",
       "      <td>Thu May 15 00:00:00 EDT 2008</td>\n",
       "      <td>232425</td>\n",
       "      <td>38.457679</td>\n",
       "      <td>-121.359620</td>\n",
       "      <td>1719.263959</td>\n",
       "    </tr>\n",
       "    <tr>\n",
       "      <th>981</th>\n",
       "      <td>6932 RUSKUT WAY</td>\n",
       "      <td>SACRAMENTO</td>\n",
       "      <td>95823</td>\n",
       "      <td>CA</td>\n",
       "      <td>3</td>\n",
       "      <td>2</td>\n",
       "      <td>1477</td>\n",
       "      <td>Residential</td>\n",
       "      <td>Thu May 15 00:00:00 EDT 2008</td>\n",
       "      <td>234000</td>\n",
       "      <td>38.499893</td>\n",
       "      <td>-121.458890</td>\n",
       "      <td>144.263959</td>\n",
       "    </tr>\n",
       "    <tr>\n",
       "      <th>982</th>\n",
       "      <td>7933 DAFFODIL WAY</td>\n",
       "      <td>CITRUS HEIGHTS</td>\n",
       "      <td>95610</td>\n",
       "      <td>CA</td>\n",
       "      <td>3</td>\n",
       "      <td>2</td>\n",
       "      <td>1216</td>\n",
       "      <td>Residential</td>\n",
       "      <td>Thu May 15 00:00:00 EDT 2008</td>\n",
       "      <td>235000</td>\n",
       "      <td>38.708824</td>\n",
       "      <td>-121.256803</td>\n",
       "      <td>855.736041</td>\n",
       "    </tr>\n",
       "    <tr>\n",
       "      <th>983</th>\n",
       "      <td>8304 RED FOX WAY</td>\n",
       "      <td>ELK GROVE</td>\n",
       "      <td>95758</td>\n",
       "      <td>CA</td>\n",
       "      <td>4</td>\n",
       "      <td>2</td>\n",
       "      <td>1685</td>\n",
       "      <td>Residential</td>\n",
       "      <td>Thu May 15 00:00:00 EDT 2008</td>\n",
       "      <td>235301</td>\n",
       "      <td>38.417000</td>\n",
       "      <td>-121.397424</td>\n",
       "      <td>1156.736041</td>\n",
       "    </tr>\n",
       "    <tr>\n",
       "      <th>984</th>\n",
       "      <td>3882 YELLOWSTONE LN</td>\n",
       "      <td>EL DORADO HILLS</td>\n",
       "      <td>95762</td>\n",
       "      <td>CA</td>\n",
       "      <td>3</td>\n",
       "      <td>2</td>\n",
       "      <td>1362</td>\n",
       "      <td>Residential</td>\n",
       "      <td>Thu May 15 00:00:00 EDT 2008</td>\n",
       "      <td>235738</td>\n",
       "      <td>38.655245</td>\n",
       "      <td>-121.075915</td>\n",
       "      <td>1593.736041</td>\n",
       "    </tr>\n",
       "  </tbody>\n",
       "</table>\n",
       "<p>985 rows × 13 columns</p>\n",
       "</div>"
      ],
      "text/plain": [
       "                  street             city    zip state  beds  baths  sq__ft  \\\n",
       "0           3526 HIGH ST       SACRAMENTO  95838    CA     2      1     836   \n",
       "1            51 OMAHA CT       SACRAMENTO  95823    CA     3      1    1167   \n",
       "2         2796 BRANCH ST       SACRAMENTO  95815    CA     2      1     796   \n",
       "3       2805 JANETTE WAY       SACRAMENTO  95815    CA     2      1     852   \n",
       "4        6001 MCMAHON DR       SACRAMENTO  95824    CA     2      1     797   \n",
       "..                   ...              ...    ...   ...   ...    ...     ...   \n",
       "980   9169 GARLINGTON CT       SACRAMENTO  95829    CA     4      3    2280   \n",
       "981      6932 RUSKUT WAY       SACRAMENTO  95823    CA     3      2    1477   \n",
       "982    7933 DAFFODIL WAY   CITRUS HEIGHTS  95610    CA     3      2    1216   \n",
       "983     8304 RED FOX WAY        ELK GROVE  95758    CA     4      2    1685   \n",
       "984  3882 YELLOWSTONE LN  EL DORADO HILLS  95762    CA     3      2    1362   \n",
       "\n",
       "            type                     sale_date   price   latitude   longitude  \\\n",
       "0    Residential  Wed May 21 00:00:00 EDT 2008   59222  38.631913 -121.434879   \n",
       "1    Residential  Wed May 21 00:00:00 EDT 2008   68212  38.478902 -121.431028   \n",
       "2    Residential  Wed May 21 00:00:00 EDT 2008   68880  38.618305 -121.443839   \n",
       "3    Residential  Wed May 21 00:00:00 EDT 2008   69307  38.616835 -121.439146   \n",
       "4    Residential  Wed May 21 00:00:00 EDT 2008   81900  38.519470 -121.435768   \n",
       "..           ...                           ...     ...        ...         ...   \n",
       "980  Residential  Thu May 15 00:00:00 EDT 2008  232425  38.457679 -121.359620   \n",
       "981  Residential  Thu May 15 00:00:00 EDT 2008  234000  38.499893 -121.458890   \n",
       "982  Residential  Thu May 15 00:00:00 EDT 2008  235000  38.708824 -121.256803   \n",
       "983  Residential  Thu May 15 00:00:00 EDT 2008  235301  38.417000 -121.397424   \n",
       "984  Residential  Thu May 15 00:00:00 EDT 2008  235738  38.655245 -121.075915   \n",
       "\n",
       "              diff  \n",
       "0    174922.263959  \n",
       "1    165932.263959  \n",
       "2    165264.263959  \n",
       "3    164837.263959  \n",
       "4    152244.263959  \n",
       "..             ...  \n",
       "980    1719.263959  \n",
       "981     144.263959  \n",
       "982     855.736041  \n",
       "983    1156.736041  \n",
       "984    1593.736041  \n",
       "\n",
       "[985 rows x 13 columns]"
      ]
     },
     "execution_count": 14,
     "metadata": {},
     "output_type": "execute_result"
    }
   ],
   "source": [
    "# ANSWER\n",
    "\n",
    "df['diff'] = (abs(df.price - df.price.mean())) \n",
    "\n",
    "df"
   ]
  },
  {
   "cell_type": "code",
   "execution_count": 15,
   "metadata": {},
   "outputs": [
    {
     "name": "stdout",
     "output_type": "stream",
     "text": [
      "174922.26395939087\n",
      "165932.26395939087\n",
      "165264.26395939087\n",
      "164837.26395939087\n",
      "152244.26395939087\n",
      "144223.26395939087\n",
      "143249.26395939087\n",
      "143142.26395939087\n",
      "139239.26395939087\n",
      "135207.26395939087\n",
      "133835.26395939087\n",
      "127894.26395939087\n",
      "127292.26395939087\n",
      "126642.26395939087\n",
      "125394.26395939087\n",
      "123444.26395939087\n",
      "120881.26395939087\n",
      "117894.26395939087\n",
      "114144.26395939087\n",
      "112514.26395939087\n",
      "112144.26395939087\n",
      "111462.26395939087\n",
      "111144.26395939087\n",
      "110044.26395939087\n",
      "109144.26395939087\n",
      "107504.26395939087\n",
      "106863.26395939087\n",
      "105144.26395939087\n",
      "102944.26395939087\n",
      "102144.26395939087\n",
      "101144.26395939087\n",
      "99589.26395939087\n",
      "97644.26395939087\n",
      "95394.26395939087\n",
      "93144.26395939087\n",
      "87894.26395939087\n",
      "86836.26395939087\n",
      "85394.26395939087\n",
      "84551.26395939087\n",
      "84144.26395939087\n",
      "82144.26395939087\n",
      "80144.26395939087\n",
      "77248.26395939087\n",
      "72894.26395939087\n",
      "72644.26395939087\n",
      "70144.26395939087\n",
      "69144.26395939087\n",
      "67787.26395939087\n",
      "67787.26395939087\n",
      "66144.26395939087\n",
      "64144.26395939087\n",
      "61144.26395939087\n",
      "59894.26395939087\n",
      "59831.26395939087\n",
      "55664.26395939087\n",
      "55384.26395939087\n",
      "54564.26395939087\n",
      "53144.26395939087\n",
      "52272.26395939087\n",
      "51557.26395939087\n",
      "51428.26395939087\n",
      "51394.26395939087\n",
      "50944.26395939087\n",
      "45403.26395939087\n",
      "45144.26395939087\n",
      "42077.26395939087\n",
      "40144.26395939087\n",
      "39326.26395939087\n",
      "39144.26395939087\n",
      "36144.26395939087\n",
      "34644.26395939087\n",
      "34144.26395939087\n",
      "34144.26395939087\n",
      "28144.263959390868\n",
      "26144.263959390868\n",
      "21280.263959390868\n",
      "13144.263959390868\n",
      "13144.263959390868\n",
      "11086.263959390868\n",
      "6257.263959390868\n",
      "2667.263959390868\n",
      "552.736040609132\n",
      "855.736040609132\n",
      "1855.736040609132\n",
      "2540.736040609132\n",
      "3655.736040609132\n",
      "5977.736040609132\n",
      "8493.736040609132\n",
      "9855.736040609132\n",
      "10355.736040609132\n",
      "10815.736040609132\n",
      "11773.736040609132\n",
      "15855.736040609132\n",
      "15855.736040609132\n",
      "15989.736040609132\n",
      "20055.736040609132\n",
      "20055.736040609132\n",
      "23855.736040609132\n",
      "25855.736040609132\n",
      "25869.736040609132\n",
      "29355.736040609132\n",
      "30855.736040609132\n",
      "30855.736040609132\n",
      "37597.73604060913\n",
      "39605.73604060913\n",
      "40941.73604060913\n",
      "46763.73604060913\n",
      "46842.73604060913\n",
      "48255.73604060913\n",
      "50855.73604060913\n",
      "53272.73604060913\n",
      "56855.73604060913\n",
      "57879.73604060913\n",
      "62855.73604060913\n",
      "62855.73604060913\n",
      "63855.73604060913\n",
      "64855.73604060913\n",
      "69892.73604060913\n",
      "76855.73604060913\n",
      "81392.73604060913\n",
      "85855.73604060913\n",
      "85855.73604060913\n",
      "94215.73604060913\n",
      "100005.73604060913\n",
      "101605.73604060913\n",
      "101605.73604060913\n",
      "105355.73604060913\n",
      "110105.73604060913\n",
      "112065.73604060913\n",
      "112884.73604060913\n",
      "113505.73604060913\n",
      "117155.73604060913\n",
      "117855.73604060913\n",
      "135855.73604060913\n",
      "136355.73604060913\n",
      "137855.73604060913\n",
      "140855.73604060913\n",
      "147155.73604060913\n",
      "147797.73604060913\n",
      "153586.73604060913\n",
      "156855.73604060913\n",
      "160325.73604060913\n",
      "160855.73604060913\n",
      "166041.73604060913\n",
      "180855.73604060913\n",
      "190855.73604060913\n",
      "195855.73604060913\n",
      "210855.73604060913\n",
      "225855.73604060913\n",
      "226855.73604060913\n",
      "255187.73604060913\n",
      "275855.73604060913\n",
      "304855.73604060913\n",
      "350855.73604060913\n",
      "365855.73604060913\n",
      "372093.73604060913\n",
      "425855.73604060913\n",
      "595855.7360406092\n",
      "165144.26395939087\n",
      "164144.26395939087\n",
      "163144.26395939087\n",
      "156144.26395939087\n",
      "155744.26395939087\n",
      "154144.26395939087\n",
      "145144.26395939087\n",
      "144144.26395939087\n",
      "144144.26395939087\n",
      "142144.26395939087\n",
      "140469.26395939087\n",
      "136394.26395939087\n",
      "136144.26395939087\n",
      "136144.26395939087\n",
      "135144.26395939087\n",
      "134144.26395939087\n",
      "127428.26395939087\n",
      "123144.26395939087\n",
      "123144.26395939087\n",
      "119344.26395939087\n",
      "114036.26395939087\n",
      "110919.26395939087\n",
      "110394.26395939087\n",
      "109144.26395939087\n",
      "109144.26395939087\n",
      "108144.26395939087\n",
      "105144.26395939087\n",
      "100144.26395939087\n",
      "99144.26395939087\n",
      "98644.26395939087\n",
      "94144.26395939087\n",
      "94144.26395939087\n",
      "91644.26395939087\n",
      "90644.26395939087\n",
      "89144.26395939087\n",
      "89144.26395939087\n",
      "89144.26395939087\n",
      "89144.26395939087\n",
      "88144.26395939087\n",
      "85644.26395939087\n",
      "85144.26395939087\n",
      "84144.26395939087\n",
      "84144.26395939087\n",
      "82144.26395939087\n",
      "78144.26395939087\n",
      "78144.26395939087\n",
      "78144.26395939087\n",
      "76356.26395939087\n",
      "72491.26395939087\n",
      "72315.26395939087\n",
      "69144.26395939087\n",
      "66144.26395939087\n",
      "65144.26395939087\n",
      "59144.26395939087\n",
      "57894.26395939087\n",
      "55144.26395939087\n",
      "54144.26395939087\n",
      "53744.26395939087\n",
      "52144.26395939087\n",
      "49644.26395939087\n",
      "49144.26395939087\n",
      "45144.26395939087\n",
      "40144.26395939087\n",
      "39144.26395939087\n",
      "34144.26395939087\n",
      "33144.26395939087\n",
      "31644.263959390868\n",
      "29144.263959390868\n",
      "29144.263959390868\n",
      "29144.263959390868\n",
      "29144.263959390868\n",
      "27144.263959390868\n",
      "24144.263959390868\n",
      "22644.263959390868\n",
      "19144.263959390868\n",
      "19144.263959390868\n",
      "18644.263959390868\n",
      "11763.263959390868\n",
      "9144.263959390868\n",
      "9144.263959390868\n",
      "9144.263959390868\n",
      "9144.263959390868\n",
      "6144.263959390868\n",
      "4479.263959390868\n",
      "4144.263959390868\n",
      "4144.263959390868\n",
      "4144.263959390868\n",
      "144.26395939086797\n",
      "855.736040609132\n",
      "2105.736040609132\n",
      "5855.736040609132\n",
      "7855.736040609132\n",
      "10855.736040609132\n",
      "10855.736040609132\n",
      "10855.736040609132\n",
      "15855.736040609132\n",
      "15855.736040609132\n",
      "15855.736040609132\n",
      "15855.736040609132\n",
      "20855.736040609132\n",
      "21909.736040609132\n",
      "23584.736040609132\n",
      "25855.736040609132\n",
      "26855.736040609132\n",
      "27655.736040609132\n",
      "30324.736040609132\n",
      "30855.736040609132\n",
      "35855.73604060913\n",
      "35855.73604060913\n",
      "35855.73604060913\n",
      "35855.73604060913\n",
      "40855.73604060913\n",
      "40855.73604060913\n",
      "45855.73604060913\n",
      "51868.73604060913\n",
      "57855.73604060913\n",
      "57855.73604060913\n",
      "59848.73604060913\n",
      "59855.73604060913\n",
      "62624.73604060913\n",
      "63355.73604060913\n",
      "65855.73604060913\n",
      "65855.73604060913\n",
      "65855.73604060913\n",
      "65855.73604060913\n",
      "66355.73604060913\n",
      "70855.73604060913\n",
      "72355.73604060913\n",
      "78355.73604060913\n",
      "80855.73604060913\n",
      "85644.73604060913\n",
      "95855.73604060913\n",
      "95855.73604060913\n",
      "96855.73604060913\n",
      "99855.73604060913\n",
      "101855.73604060913\n",
      "104855.73604060913\n",
      "104855.73604060913\n",
      "110855.73604060913\n",
      "115855.73604060913\n",
      "121855.73604060913\n",
      "127600.73604060913\n",
      "127803.73604060913\n",
      "135855.73604060913\n",
      "145855.73604060913\n",
      "150855.73604060913\n",
      "164855.73604060913\n",
      "167855.73604060913\n",
      "171881.73604060913\n",
      "185855.73604060913\n",
      "190855.73604060913\n",
      "190855.73604060913\n",
      "199355.73604060913\n",
      "202601.73604060913\n",
      "204555.73604060913\n",
      "210855.73604060913\n",
      "215855.73604060913\n",
      "225855.73604060913\n",
      "225855.73604060913\n",
      "225855.73604060913\n",
      "230855.73604060913\n",
      "237605.73604060913\n",
      "245855.73604060913\n",
      "249855.73604060913\n",
      "250855.73604060913\n",
      "260855.73604060913\n",
      "266355.73604060913\n",
      "269855.73604060913\n",
      "306855.73604060913\n",
      "325855.73604060913\n",
      "338355.73604060913\n",
      "347855.73604060913\n",
      "379256.73604060913\n",
      "379855.73604060913\n",
      "445855.73604060913\n",
      "464855.73604060913\n",
      "604855.7360406092\n",
      "194144.26395939087\n",
      "186144.26395939087\n",
      "172644.26395939087\n",
      "172094.26395939087\n",
      "169144.26395939087\n",
      "169144.26395939087\n",
      "166144.26395939087\n",
      "166144.26395939087\n",
      "157144.26395939087\n",
      "151412.26395939087\n",
      "150144.26395939087\n",
      "149469.26395939087\n",
      "149144.26395939087\n",
      "144144.26395939087\n",
      "144144.26395939087\n",
      "143144.26395939087\n",
      "139144.26395939087\n",
      "136644.26395939087\n",
      "134144.26395939087\n",
      "134144.26395939087\n",
      "133144.26395939087\n",
      "131394.26395939087\n",
      "121644.26395939087\n",
      "121144.26395939087\n",
      "120144.26395939087\n",
      "120144.26395939087\n",
      "119394.26395939087\n",
      "119144.26395939087\n",
      "119144.26395939087\n",
      "118044.26395939087\n",
      "114894.26395939087\n",
      "114144.26395939087\n",
      "114144.26395939087\n",
      "114144.26395939087\n",
      "114036.26395939087\n",
      "112644.26395939087\n",
      "112419.26395939087\n",
      "112144.26395939087\n",
      "111144.26395939087\n",
      "109144.26395939087\n",
      "108571.26395939087\n",
      "107430.26395939087\n",
      "107184.26395939087\n",
      "107144.26395939087\n",
      "106644.26395939087\n",
      "104144.26395939087\n",
      "101039.26395939087\n",
      "97644.26395939087\n",
      "94644.26395939087\n",
      "94144.26395939087\n",
      "93344.26395939087\n",
      "89144.26395939087\n",
      "87144.26395939087\n",
      "84544.26395939087\n",
      "84144.26395939087\n",
      "84144.26395939087\n",
      "84144.26395939087\n",
      "79144.26395939087\n",
      "78709.26395939087\n",
      "78644.26395939087\n",
      "76144.26395939087\n",
      "76144.26395939087\n",
      "74144.26395939087\n",
      "74144.26395939087\n",
      "70144.26395939087\n",
      "70144.26395939087\n",
      "69144.26395939087\n",
      "67144.26395939087\n",
      "66851.26395939087\n",
      "66851.26395939087\n",
      "66144.26395939087\n",
      "64144.26395939087\n",
      "64144.26395939087\n",
      "64144.26395939087\n",
      "60144.26395939087\n",
      "56144.26395939087\n",
      "54144.26395939087\n",
      "54144.26395939087\n",
      "54144.26395939087\n",
      "52144.26395939087\n",
      "45819.26395939087\n",
      "42644.26395939087\n",
      "42144.26395939087\n",
      "41444.26395939087\n",
      "39144.26395939087\n",
      "36490.26395939087\n",
      "36144.26395939087\n",
      "33799.26395939087\n",
      "31144.263959390868\n",
      "27144.263959390868\n",
      "26144.263959390868\n",
      "24144.263959390868\n",
      "22144.263959390868\n",
      "20469.263959390868\n",
      "20447.263959390868\n",
      "19144.263959390868\n",
      "19144.263959390868\n",
      "19044.263959390868\n",
      "16644.263959390868\n",
      "16144.263959390868\n",
      "14144.263959390868\n",
      "13144.263959390868\n",
      "11244.263959390868\n",
      "11005.263959390868\n",
      "8644.263959390868\n",
      "5817.263959390868\n",
      "4144.263959390868\n",
      "4144.263959390868\n",
      "3622.263959390868\n",
      "2944.263959390868\n",
      "2144.263959390868\n",
      "1644.263959390868\n",
      "503.26395939086797\n",
      "144.26395939086797\n",
      "355.73604060913203\n",
      "855.736040609132\n",
      "1855.736040609132\n",
      "1928.736040609132\n",
      "3855.736040609132\n",
      "4716.736040609132\n",
      "5555.736040609132\n",
      "5855.736040609132\n",
      "5855.736040609132\n",
      "6855.736040609132\n",
      "10855.736040609132\n",
      "11855.736040609132\n",
      "13089.736040609132\n",
      "13335.736040609132\n",
      "15717.736040609132\n",
      "16855.736040609132\n",
      "18010.736040609132\n",
      "20027.736040609132\n",
      "23855.736040609132\n",
      "25855.736040609132\n",
      "26855.736040609132\n",
      "26855.736040609132\n",
      "26855.736040609132\n",
      "28355.736040609132\n",
      "31855.736040609132\n",
      "31855.736040609132\n",
      "35855.73604060913\n",
      "40280.73604060913\n",
      "40355.73604060913\n",
      "41191.73604060913\n",
      "43835.73604060913\n",
      "45855.73604060913\n",
      "50541.73604060913\n",
      "50748.73604060913\n",
      "50855.73604060913\n",
      "50855.73604060913\n",
      "50855.73604060913\n",
      "54855.73604060913\n",
      "60855.73604060913\n",
      "61855.73604060913\n",
      "61911.73604060913\n",
      "63214.73604060913\n",
      "65795.73604060913\n",
      "69855.73604060913\n",
      "70855.73604060913\n",
      "72855.73604060913\n",
      "77183.73604060913\n",
      "78993.73604060913\n",
      "82485.73604060913\n",
      "85855.73604060913\n",
      "85855.73604060913\n",
      "90855.73604060913\n",
      "94433.73604060913\n",
      "96855.73604060913\n",
      "97355.73604060913\n",
      "105855.73604060913\n",
      "110610.73604060913\n",
      "111601.73604060913\n",
      "116855.73604060913\n",
      "119622.73604060913\n",
      "120855.73604060913\n",
      "121890.73604060913\n",
      "125855.73604060913\n",
      "126407.73604060913\n",
      "128160.73604060913\n",
      "130855.73604060913\n",
      "133409.73604060913\n",
      "134355.73604060913\n",
      "135855.73604060913\n",
      "136941.73604060913\n",
      "143855.73604060913\n",
      "148855.73604060913\n",
      "153855.73604060913\n",
      "160955.73604060913\n",
      "165855.73604060913\n",
      "165855.73604060913\n",
      "174286.73604060913\n",
      "178855.73604060913\n",
      "182622.73604060913\n",
      "185855.73604060913\n",
      "188855.73604060913\n",
      "188855.73604060913\n",
      "193355.73604060913\n",
      "196777.73604060913\n",
      "210855.73604060913\n",
      "215855.73604060913\n",
      "217855.73604060913\n",
      "235855.73604060913\n",
      "236855.73604060913\n",
      "240855.73604060913\n",
      "250355.73604060913\n",
      "253355.73604060913\n",
      "254605.73604060913\n",
      "265855.73604060913\n",
      "272543.73604060913\n",
      "277855.73604060913\n",
      "285855.73604060913\n",
      "293855.73604060913\n",
      "344948.73604060913\n",
      "401855.73604060913\n",
      "434220.73604060913\n",
      "442055.73604060913\n",
      "442903.73604060913\n",
      "457514.73604060913\n",
      "525855.7360406092\n",
      "229247.26395939087\n",
      "229247.26395939087\n",
      "229247.26395939087\n",
      "229247.26395939087\n",
      "229247.26395939087\n",
      "229247.26395939087\n",
      "229247.26395939087\n",
      "229247.26395939087\n",
      "229247.26395939087\n",
      "229247.26395939087\n",
      "229247.26395939087\n",
      "229247.26395939087\n",
      "229247.26395939087\n",
      "229247.26395939087\n",
      "229247.26395939087\n",
      "229247.26395939087\n",
      "229247.26395939087\n",
      "229247.26395939087\n",
      "229247.26395939087\n",
      "229247.26395939087\n",
      "229247.26395939087\n",
      "229247.26395939087\n",
      "229247.26395939087\n",
      "229247.26395939087\n",
      "229247.26395939087\n",
      "229247.26395939087\n",
      "229247.26395939087\n",
      "229247.26395939087\n",
      "229247.26395939087\n",
      "229247.26395939087\n",
      "229247.26395939087\n",
      "229247.26395939087\n",
      "229247.26395939087\n",
      "229247.26395939087\n",
      "229247.26395939087\n",
      "229247.26395939087\n",
      "229247.26395939087\n",
      "229247.26395939087\n",
      "229247.26395939087\n",
      "229247.26395939087\n",
      "229247.26395939087\n",
      "229247.26395939087\n",
      "229247.26395939087\n",
      "229247.26395939087\n",
      "229247.26395939087\n",
      "229247.26395939087\n",
      "229247.26395939087\n",
      "229247.26395939087\n",
      "229247.26395939087\n",
      "204144.26395939087\n",
      "204144.26395939087\n",
      "178722.26395939087\n",
      "171144.26395939087\n",
      "169144.26395939087\n",
      "169144.26395939087\n",
      "169144.26395939087\n",
      "167644.26395939087\n",
      "163144.26395939087\n",
      "159144.26395939087\n",
      "157144.26395939087\n",
      "149144.26395939087\n",
      "138519.26395939087\n",
      "138004.26395939087\n",
      "129894.26395939087\n",
      "129144.26395939087\n",
      "126144.26395939087\n",
      "125144.26395939087\n",
      "119144.26395939087\n",
      "119144.26395939087\n",
      "118644.26395939087\n",
      "118524.26395939087\n",
      "118144.26395939087\n",
      "112144.26395939087\n",
      "111644.26395939087\n",
      "111144.26395939087\n",
      "110144.26395939087\n",
      "110144.26395939087\n",
      "109731.26395939087\n",
      "109144.26395939087\n",
      "104144.26395939087\n",
      "102394.26395939087\n",
      "96423.26395939087\n",
      "96384.26395939087\n",
      "96144.26395939087\n",
      "94144.26395939087\n",
      "89144.26395939087\n",
      "89144.26395939087\n",
      "84144.26395939087\n",
      "84144.26395939087\n",
      "83144.26395939087\n",
      "79144.26395939087\n",
      "78344.26395939087\n",
      "78002.26395939087\n",
      "76144.26395939087\n",
      "74244.26395939087\n",
      "74144.26395939087\n",
      "72644.26395939087\n",
      "72544.26395939087\n",
      "72144.26395939087\n",
      "69144.26395939087\n",
      "69144.26395939087\n",
      "66851.26395939087\n",
      "66144.26395939087\n",
      "66144.26395939087\n",
      "65394.26395939087\n",
      "65394.26395939087\n",
      "64144.26395939087\n",
      "63894.26395939087\n",
      "61144.26395939087\n",
      "59144.26395939087\n",
      "58049.26395939087\n",
      "57894.26395939087\n",
      "56144.26395939087\n",
      "55144.26395939087\n",
      "54144.26395939087\n",
      "54144.26395939087\n",
      "54144.26395939087\n",
      "53144.26395939087\n",
      "52144.26395939087\n",
      "51557.26395939087\n",
      "49070.26395939087\n",
      "48311.26395939087\n",
      "47359.26395939087\n",
      "47144.26395939087\n",
      "45809.26395939087\n",
      "44144.26395939087\n",
      "44144.26395939087\n",
      "44144.26395939087\n",
      "44144.26395939087\n",
      "42894.26395939087\n",
      "41144.26395939087\n",
      "40644.26395939087\n",
      "39326.26395939087\n",
      "39144.26395939087\n",
      "39144.26395939087\n",
      "39144.26395939087\n",
      "39144.26395939087\n",
      "36144.26395939087\n",
      "34244.26395939087\n",
      "34144.26395939087\n",
      "33144.26395939087\n",
      "29226.263959390868\n",
      "29144.263959390868\n",
      "29144.263959390868\n",
      "28266.263959390868\n",
      "27144.263959390868\n",
      "26400.263959390868\n",
      "25144.263959390868\n",
      "24144.263959390868\n",
      "23200.263959390868\n",
      "21644.263959390868\n",
      "20394.263959390868\n",
      "19144.263959390868\n",
      "19144.263959390868\n",
      "19144.263959390868\n",
      "18111.263959390868\n",
      "14144.263959390868\n",
      "14144.263959390868\n",
      "14144.263959390868\n",
      "14144.263959390868\n",
      "14144.263959390868\n",
      "13442.263959390868\n",
      "12894.263959390868\n",
      "12144.263959390868\n",
      "11644.263959390868\n",
      "11394.263959390868\n",
      "9144.263959390868\n",
      "9144.263959390868\n",
      "5394.263959390868\n",
      "5144.263959390868\n",
      "4049.263959390868\n",
      "1644.263959390868\n",
      "1144.263959390868\n",
      "644.263959390868\n",
      "4855.736040609132\n",
      "5855.736040609132\n",
      "5855.736040609132\n",
      "6826.736040609132\n",
      "7855.736040609132\n",
      "9305.736040609132\n",
      "9355.736040609132\n",
      "12399.736040609132\n",
      "12605.736040609132\n",
      "12855.736040609132\n",
      "12855.736040609132\n",
      "14855.736040609132\n",
      "14855.736040609132\n",
      "15855.736040609132\n",
      "15855.736040609132\n",
      "15855.736040609132\n",
      "17855.736040609132\n",
      "20855.736040609132\n",
      "20855.736040609132\n",
      "20855.736040609132\n",
      "23055.736040609132\n",
      "25855.736040609132\n",
      "25855.736040609132\n",
      "29355.736040609132\n",
      "32365.736040609132\n",
      "33605.73604060913\n",
      "35855.73604060913\n",
      "36855.73604060913\n",
      "38555.73604060913\n",
      "40855.73604060913\n",
      "40855.73604060913\n",
      "41855.73604060913\n",
      "42355.73604060913\n",
      "43855.73604060913\n",
      "44855.73604060913\n",
      "45855.73604060913\n",
      "45855.73604060913\n",
      "50855.73604060913\n",
      "53855.73604060913\n",
      "54855.73604060913\n",
      "55855.73604060913\n",
      "55855.73604060913\n",
      "59851.73604060913\n",
      "59855.73604060913\n",
      "60028.73604060913\n",
      "60855.73604060913\n",
      "63855.73604060913\n",
      "63855.73604060913\n",
      "64855.73604060913\n",
      "65855.73604060913\n",
      "65855.73604060913\n",
      "65855.73604060913\n",
      "66422.73604060913\n",
      "68855.73604060913\n",
      "70855.73604060913\n",
      "71855.73604060913\n",
      "75855.73604060913\n",
      "75855.73604060913\n",
      "75855.73604060913\n",
      "77373.73604060913\n",
      "77855.73604060913\n",
      "78855.73604060913\n",
      "80855.73604060913\n",
      "80855.73604060913\n",
      "80855.73604060913\n",
      "80855.73604060913\n",
      "80855.73604060913\n",
      "85855.73604060913\n",
      "87855.73604060913\n",
      "90855.73604060913\n",
      "91355.73604060913\n",
      "92806.73604060913\n",
      "94225.73604060913\n",
      "95855.73604060913\n",
      "95855.73604060913\n",
      "97055.73604060913\n",
      "97855.73604060913\n",
      "99855.73604060913\n",
      "100855.73604060913\n",
      "106855.73604060913\n",
      "112230.73604060913\n",
      "113080.73604060913\n",
      "114855.73604060913\n",
      "115855.73604060913\n",
      "115855.73604060913\n",
      "115855.73604060913\n",
      "115855.73604060913\n",
      "116855.73604060913\n",
      "122055.73604060913\n",
      "125855.73604060913\n",
      "133318.73604060913\n",
      "140855.73604060913\n",
      "145855.73604060913\n",
      "146433.73604060913\n",
      "152077.73604060913\n",
      "154855.73604060913\n",
      "155855.73604060913\n",
      "161355.73604060913\n",
      "161855.73604060913\n",
      "162855.73604060913\n",
      "165855.73604060913\n",
      "165855.73604060913\n",
      "178355.73604060913\n",
      "179355.73604060913\n",
      "180855.73604060913\n",
      "186309.73604060913\n",
      "190855.73604060913\n",
      "190855.73604060913\n",
      "199355.73604060913\n",
      "203855.73604060913\n",
      "206855.73604060913\n",
      "210855.73604060913\n",
      "211855.73604060913\n",
      "215855.73604060913\n",
      "220855.73604060913\n",
      "225855.73604060913\n",
      "240855.73604060913\n",
      "255855.73604060913\n",
      "258855.73604060913\n",
      "273855.73604060913\n",
      "276855.73604060913\n",
      "290855.73604060913\n",
      "298855.73604060913\n",
      "310855.73604060913\n",
      "325855.73604060913\n",
      "340855.73604060913\n",
      "340855.73604060913\n",
      "364550.73604060913\n",
      "365855.73604060913\n",
      "365855.73604060913\n",
      "365855.73604060913\n",
      "365855.73604060913\n",
      "375855.73604060913\n",
      "388355.73604060913\n",
      "445855.73604060913\n",
      "644855.7360406092\n",
      "650645.7360406092\n",
      "232593.26395939087\n",
      "232144.26395939087\n",
      "177194.26395939087\n",
      "174144.26395939087\n",
      "173144.26395939087\n",
      "172144.26395939087\n",
      "165578.26395939087\n",
      "164144.26395939087\n",
      "154144.26395939087\n",
      "148644.26395939087\n",
      "142144.26395939087\n",
      "140544.26395939087\n",
      "139144.26395939087\n",
      "136394.26395939087\n",
      "130144.26395939087\n",
      "129144.26395939087\n",
      "126478.26395939087\n",
      "125144.26395939087\n",
      "124144.26395939087\n",
      "124144.26395939087\n",
      "121644.26395939087\n",
      "119344.26395939087\n",
      "118144.26395939087\n",
      "115144.26395939087\n",
      "112644.26395939087\n",
      "112144.26395939087\n",
      "110469.26395939087\n",
      "107290.26395939087\n",
      "107085.26395939087\n",
      "105457.26395939087\n",
      "104644.26395939087\n",
      "104144.26395939087\n",
      "102394.26395939087\n",
      "102144.26395939087\n",
      "100144.26395939087\n",
      "100144.26395939087\n",
      "96144.26395939087\n",
      "92144.26395939087\n",
      "91132.26395939087\n",
      "88298.26395939087\n",
      "87144.26395939087\n",
      "85394.26395939087\n",
      "84144.26395939087\n",
      "83690.26395939087\n",
      "83057.26395939087\n",
      "76848.26395939087\n",
      "76644.26395939087\n",
      "74144.26395939087\n",
      "74144.26395939087\n",
      "72894.26395939087\n",
      "70144.26395939087\n",
      "69144.26395939087\n",
      "69144.26395939087\n",
      "68394.26395939087\n",
      "68144.26395939087\n",
      "65144.26395939087\n",
      "64144.26395939087\n",
      "64144.26395939087\n",
      "64144.26395939087\n",
      "64144.26395939087\n",
      "63419.26395939087\n",
      "62394.26395939087\n",
      "62144.26395939087\n",
      "61088.26395939087\n",
      "60144.26395939087\n",
      "59894.26395939087\n",
      "57294.26395939087\n",
      "54644.26395939087\n",
      "49144.26395939087\n",
      "46144.26395939087\n",
      "45444.26395939087\n",
      "45144.26395939087\n",
      "45144.26395939087\n",
      "44308.26395939087\n",
      "44144.26395939087\n",
      "42894.26395939087\n",
      "42469.26395939087\n",
      "38644.26395939087\n",
      "36144.26395939087\n",
      "34144.26395939087\n",
      "34144.26395939087\n",
      "34144.26395939087\n",
      "34044.26395939087\n",
      "32616.263959390868\n",
      "29394.263959390868\n",
      "29144.263959390868\n",
      "29144.263959390868\n",
      "28244.263959390868\n",
      "27144.263959390868\n",
      "26171.263959390868\n",
      "25894.263959390868\n",
      "25826.263959390868\n",
      "24797.263959390868\n",
      "22644.263959390868\n",
      "22144.263959390868\n",
      "21144.263959390868\n",
      "18144.263959390868\n",
      "18123.263959390868\n",
      "15144.263959390868\n",
      "14350.263959390868\n",
      "14144.263959390868\n",
      "14144.263959390868\n",
      "14144.263959390868\n",
      "14144.263959390868\n",
      "11144.263959390868\n",
      "10144.263959390868\n",
      "10144.263959390868\n",
      "9892.263959390868\n",
      "9644.263959390868\n",
      "9144.263959390868\n",
      "6144.263959390868\n",
      "5117.263959390868\n",
      "4644.263959390868\n",
      "4144.263959390868\n",
      "4144.263959390868\n",
      "1719.263959390868\n",
      "144.26395939086797\n",
      "855.736040609132\n",
      "1156.736040609132\n",
      "1593.736040609132\n"
     ]
    }
   ],
   "source": [
    "for i in df.price:\n",
    "    print(abs(i - df.price.mean()))"
   ]
  },
  {
   "cell_type": "markdown",
   "metadata": {
    "colab_type": "text",
    "id": "5P61MoAsXd4B"
   },
   "source": [
    "#### 2.6  Predict Using Linear Regression\n",
    "\n",
    "[Simple Linear Regression](https://en.wikipedia.org/wiki/Simple_linear_regression#Fitting_the_regression_line)\n",
    "\n",
    "### $$\\hat{y} = \\beta_0 + \\beta_1 x$$\n",
    "\n",
    "> ### $$ \\beta_1 = \\frac{\\sum_{i=1}^n (y_i - \\bar{y} ) (x_i - \\bar{x} )}{\\sum_{i=1}^n (x_i - \\bar{x})^2} $$\n",
    "\n",
    "and\n",
    "\n",
    "> ### $$ \\beta_0 = \\bar{y} - \\beta_1\\bar{x} $$\n",
    "\n",
    "Given variables:\n",
    "- $\\bar{y}$ : the sample mean of observed values $Y$\n",
    "- $\\bar{x}$ : the sample mean of observed values $X$"
   ]
  },
  {
   "cell_type": "markdown",
   "metadata": {
    "colab_type": "text",
    "id": "drP_xuAKXd4C"
   },
   "source": [
    "##### 2.7 Define X, Y\n",
    "\n",
    "- X = Predictor Variable \n",
    "- Y = Target Variable"
   ]
  },
  {
   "cell_type": "code",
   "execution_count": 16,
   "metadata": {
    "colab": {},
    "colab_type": "code",
    "id": "yPWPQp3VXd4D"
   },
   "outputs": [],
   "source": [
    "# ANSWER\n",
    "\n",
    "X = df['sq__ft']\n",
    "Y = df.price\n",
    "\n",
    "x_bar = df.sq__ft.mean()\n",
    "y_bar = df.price.mean()"
   ]
  },
  {
   "cell_type": "code",
   "execution_count": 17,
   "metadata": {},
   "outputs": [
    {
     "data": {
      "text/plain": [
       "<AxesSubplot:xlabel='sq__ft', ylabel='price'>"
      ]
     },
     "execution_count": 17,
     "metadata": {},
     "output_type": "execute_result"
    },
    {
     "data": {
      "image/png": "[encoded data removed]",
      "text/plain": [
       "<Figure size 432x288 with 1 Axes>"
      ]
     },
     "metadata": {
      "needs_background": "light"
     },
     "output_type": "display_data"
    }
   ],
   "source": [
    "sns.scatterplot( x = df.sq__ft, y = df.price, data = df)"
   ]
  },
  {
   "cell_type": "markdown",
   "metadata": {
    "colab_type": "text",
    "id": "JkV3m-EqXd4F"
   },
   "source": [
    "##### 2.7.A Calculate beta_1\n",
    "\n",
    " ### $$ \\beta_1 = \\frac{\\sum_{i=1}^n (y_i - \\bar{y} ) (x_i - \\bar{x} )}{\\sum_{i=1}^n (x_i - \\bar{x})^2} $$"
   ]
  },
  {
   "cell_type": "code",
   "execution_count": 18,
   "metadata": {
    "colab": {},
    "colab_type": "code",
    "id": "lcI1IAmXXd4G"
   },
   "outputs": [
    {
     "data": {
      "text/plain": [
       "54.158639688530755"
      ]
     },
     "execution_count": 18,
     "metadata": {},
     "output_type": "execute_result"
    }
   ],
   "source": [
    "# ANSWER\n",
    "\n",
    "beta_1 = np.sum((Y - y_bar) *(X - x_bar))/ np.sum(np.square(X - x_bar))\n",
    "beta_1\n",
    "  "
   ]
  },
  {
   "cell_type": "markdown",
   "metadata": {
    "colab_type": "text",
    "id": "MoA9ez44Xd4I"
   },
   "source": [
    "##### 2.7.B Calculate beta_0"
   ]
  },
  {
   "cell_type": "markdown",
   "metadata": {
    "colab_type": "text",
    "id": "V7fug5lMXd4K"
   },
   "source": [
    "### $$ \\beta_0 = \\bar{y} - \\beta_1\\bar{x} $$"
   ]
  },
  {
   "cell_type": "code",
   "execution_count": 19,
   "metadata": {
    "colab": {},
    "colab_type": "code",
    "id": "bcu8ZhFLXd4L"
   },
   "outputs": [
    {
     "data": {
      "text/plain": [
       "162930.16140699777"
      ]
     },
     "execution_count": 19,
     "metadata": {},
     "output_type": "execute_result"
    }
   ],
   "source": [
    "# ANSWER\n",
    "\n",
    "beta_0 = y_bar - beta_1*x_bar\n",
    "beta_0"
   ]
  },
  {
   "cell_type": "markdown",
   "metadata": {
    "colab_type": "text",
    "id": "Z9EUGv1KXd4N"
   },
   "source": [
    "##### 2.7.C Find Yhat (Predicted Value Using Beta 0 and Beta 1)"
   ]
  },
  {
   "cell_type": "markdown",
   "metadata": {
    "colab_type": "text",
    "id": "gSRcDL57Xd4O"
   },
   "source": [
    "### $$\\hat{y} = \\beta_0 + \\beta_1 x$$"
   ]
  },
  {
   "cell_type": "code",
   "execution_count": 20,
   "metadata": {
    "colab": {},
    "colab_type": "code",
    "id": "lGkoNedwXd4P"
   },
   "outputs": [
    {
     "data": {
      "text/plain": [
       "0      208206.784187\n",
       "1      226133.293924\n",
       "2      206040.438599\n",
       "3      209073.322422\n",
       "4      206094.597239\n",
       "           ...      \n",
       "980    286411.859897\n",
       "981    242922.472227\n",
       "982    228787.067268\n",
       "983    254187.469282\n",
       "984    236694.228663\n",
       "Name: sq__ft, Length: 985, dtype: float64"
      ]
     },
     "execution_count": 20,
     "metadata": {},
     "output_type": "execute_result"
    }
   ],
   "source": [
    "# ANSWER\n",
    "\n",
    "y_hat = beta_0 + beta_1 * X\n",
    "y_hat"
   ]
  },
  {
   "cell_type": "markdown",
   "metadata": {
    "colab_type": "text",
    "id": "h1D-rddfXd4R"
   },
   "source": [
    "##### 2.7.D Find Resudals"
   ]
  },
  {
   "cell_type": "markdown",
   "metadata": {
    "colab_type": "text",
    "id": "2cha8XAQXd4S"
   },
   "source": [
    "### $$ \\text{residual}_i = y_i - \\hat{y}_i$$"
   ]
  },
  {
   "cell_type": "code",
   "execution_count": 21,
   "metadata": {
    "colab": {},
    "colab_type": "code",
    "id": "dLZgRjbGXd4S"
   },
   "outputs": [
    {
     "data": {
      "text/plain": [
       "0      148984.784187\n",
       "1      157921.293924\n",
       "2      137160.438599\n",
       "3      139766.322422\n",
       "4      124194.597239\n",
       "           ...      \n",
       "980     53986.859897\n",
       "981      8922.472227\n",
       "982      6212.932732\n",
       "983     18886.469282\n",
       "984       956.228663\n",
       "Length: 985, dtype: float64"
      ]
     },
     "execution_count": 21,
     "metadata": {},
     "output_type": "execute_result"
    }
   ],
   "source": [
    "# ANSWER\n",
    "\n",
    "residual = abs(Y - y_hat)\n",
    "residual"
   ]
  },
  {
   "cell_type": "markdown",
   "metadata": {
    "colab_type": "text",
    "id": "bpXEda_uXd4U"
   },
   "source": [
    "##### 2.7.E Find R-Square\n",
    "\n",
    "The coefficient $R^2$ is defined as $$ R^2 = 1 - \\frac{SS_{res}}{SS_{tot}} $$, where $$ SS_{res} $$ is the residual sum of squares $$ SS_{res} = \\sum_{i=1}^n \\left(y_i - \\hat{y}_i\\right)^2 $$ and $$ SS_{res} $$ is the total sum of squares $$ SS_{tot} = \\sum_{i=1}^n \\left(y_i - \\bar{y}\\right)^2 $$\n",
    "\n",
    "The best possible score is 1.0 and it can be negative (because the model can be arbitrarily worse).\n",
    "\n",
    "**Write a function to calculate R- Square value.**"
   ]
  },
  {
   "cell_type": "markdown",
   "metadata": {
    "colab_type": "text",
    "id": "1RamI9LTXd4V"
   },
   "source": [
    "The total sum of squares:\n",
    "\n",
    "### $$ SS_{tot} = \\sum_{i=1}^n \\left(y_i - \\bar{y}\\right)^2 $$\n",
    "\n",
    "The residual sum of squares:\n",
    "\n",
    "### $$ SS_{res} = \\sum_{i=1}^n \\left(y_i - \\hat{y}_i\\right)^2 $$\n",
    "\n",
    "$R^2$:\n",
    "\n",
    "### $$ R^2 = 1 - \\frac{SS_{res}}{SS_{tot}} $$"
   ]
  },
  {
   "cell_type": "code",
   "execution_count": 22,
   "metadata": {
    "colab": {},
    "colab_type": "code",
    "id": "vmxloC2RXd4W"
   },
   "outputs": [
    {
     "data": {
      "text/plain": [
       "18838783738865.37"
      ]
     },
     "execution_count": 22,
     "metadata": {},
     "output_type": "execute_result"
    }
   ],
   "source": [
    "# ANSWER\n",
    "\n",
    "SStot = np.sum(np.square(Y - y_bar))\n",
    "SStot"
   ]
  },
  {
   "cell_type": "code",
   "execution_count": 23,
   "metadata": {},
   "outputs": [
    {
     "data": {
      "text/plain": [
       "16738500924917.504"
      ]
     },
     "execution_count": 23,
     "metadata": {},
     "output_type": "execute_result"
    }
   ],
   "source": [
    "SSres = np.sum(np.square(Y - y_hat))\n",
    "SSres"
   ]
  },
  {
   "cell_type": "code",
   "execution_count": 24,
   "metadata": {},
   "outputs": [
    {
     "data": {
      "text/plain": [
       "0.11148717682951459"
      ]
     },
     "execution_count": 24,
     "metadata": {},
     "output_type": "execute_result"
    }
   ],
   "source": [
    "R_square =  1 - (SSres/SStot)\n",
    "R_square"
   ]
  },
  {
   "cell_type": "markdown",
   "metadata": {
    "colab_type": "text",
    "id": "7xV-CEKcXd4a"
   },
   "source": [
    "##### 2.7.F [BONUS] Draw Plot of Predicted Line"
   ]
  },
  {
   "cell_type": "code",
   "execution_count": 25,
   "metadata": {
    "colab": {},
    "colab_type": "code",
    "id": "P4JKmHWSXd4a"
   },
   "outputs": [
    {
     "data": {
      "text/plain": [
       "Text(0, 0.5, 'y_hat')"
      ]
     },
     "execution_count": 25,
     "metadata": {},
     "output_type": "execute_result"
    },
    {
     "data": {
      "image/png": "[encoded data removed]",
      "text/plain": [
       "<Figure size 432x288 with 1 Axes>"
      ]
     },
     "metadata": {
      "needs_background": "light"
     },
     "output_type": "display_data"
    }
   ],
   "source": [
    "# ANSWER\n",
    "\n",
    "sns.lineplot(x= df.sq__ft, y = y_hat)\n",
    "plt.ylabel('y_hat')"
   ]
  },
  {
   "cell_type": "markdown",
   "metadata": {
    "colab_type": "text",
    "id": "oE45Z1qaXd4f"
   },
   "source": [
    "##### 2.7.G [BONUS] Draw Plot of Predicted Line With Resudals"
   ]
  },
  {
   "cell_type": "code",
   "execution_count": 26,
   "metadata": {
    "colab": {},
    "colab_type": "code",
    "id": "yBLDh6cAXd4g"
   },
   "outputs": [],
   "source": [
    "# ANSWER"
   ]
  },
  {
   "cell_type": "markdown",
   "metadata": {
    "colab_type": "text",
    "id": "NTjW6xxFXd4i"
   },
   "source": [
    "### 3. Predict House Price\n",
    "\n",
    "Let's assume we have information of following house:\n",
    "\n",
    "- street:\t1140 EDMONTON DR\n",
    "- city:\tSACRAMENTO\n",
    "- zip:\t95833\n",
    "- state:\tCA\n",
    "- beds:\t3\n",
    "- baths:\t2\n",
    "- sq__ft:\t1204\n",
    "- type:\tResidential\n",
    "\n",
    "**Predict the price of this house.**"
   ]
  },
  {
   "cell_type": "code",
   "execution_count": 27,
   "metadata": {
    "colab": {},
    "colab_type": "code",
    "id": "mz5Lx5jGXd4j"
   },
   "outputs": [
    {
     "data": {
      "text/plain": [
       "228137.1635919888"
      ]
     },
     "execution_count": 27,
     "metadata": {},
     "output_type": "execute_result"
    }
   ],
   "source": [
    "# ANSWER\n",
    "\n",
    "a = 1204\n",
    "predicted_price = beta_0  + beta_1*a\n",
    "predicted_price"
   ]
  },
  {
   "cell_type": "markdown",
   "metadata": {
    "colab_type": "text",
    "id": "W0FUjKlcl-NJ"
   },
   "source": [
    "\n",
    "\n",
    "---\n",
    "\n",
    "\n",
    "\n",
    "---\n",
    "\n",
    "\n",
    "\n",
    "> > > > > > > > > © 2019 Institute of Data\n",
    "\n",
    "\n",
    "---\n",
    "\n",
    "\n",
    "\n",
    "---\n",
    "\n",
    "\n",
    "\n"
   ]
  },
  {
   "cell_type": "code",
   "execution_count": null,
   "metadata": {},
   "outputs": [],
   "source": []
  },
  {
   "cell_type": "code",
   "execution_count": null,
   "metadata": {},
   "outputs": [],
   "source": []
  }
 ],
 "metadata": {
  "colab": {
   "collapsed_sections": [],
   "name": "IOD_Lab 4.1.1.ipynb",
   "provenance": []
  },
  "kernelspec": {
   "display_name": "Python 3",
   "language": "python",
   "name": "python3"
  },
  "language_info": {
   "codemirror_mode": {
    "name": "ipython",
    "version": 3
   },
   "file_extension": ".py",
   "mimetype": "text/x-python",
   "name": "python",
   "nbconvert_exporter": "python",
   "pygments_lexer": "ipython3",
   "version": "3.8.5"
  }
 },
 "nbformat": 4,
 "nbformat_minor": 1
}
